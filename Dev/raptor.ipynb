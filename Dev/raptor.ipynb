{
 "cells": [
  {
   "cell_type": "markdown",
   "metadata": {},
   "source": [
    "# RAPTOR: Recursive Abstractive Processing for Tree-Organized Retrieval\n",
    "\n",
    "This notebook shows how to use an implementation of RAPTOR with llama-index, leveraging the RAPTOR llama-pack.\n",
    "\n",
    "RAPTOR works by recursively clustering and summarizing clusters in layers for retrieval.\n",
    "\n",
    "There two retrieval modes:\n",
    "- tree_traversal -- traversing the tree of clusters, performing top-k at each level in the tree.\n",
    "- collapsed -- treat the entire tree as a giant pile of nodes, perform simple top-k.\n",
    "\n",
    "See [the paper](https://arxiv.org/abs/2401.18059) for full algorithm details."
   ]
  },
  {
   "cell_type": "markdown",
   "metadata": {},
   "source": [
    "## Setup"
   ]
  },
  {
   "cell_type": "code",
   "execution_count": 4,
   "metadata": {},
   "outputs": [
    {
     "name": "stdout",
     "output_type": "stream",
     "text": [
      "Requirement already satisfied: llama-index in /Users/tanghao/NUS/Internship/EverpixAnalysis/.venv/lib/python3.11/site-packages (0.10.52)\n",
      "Requirement already satisfied: llama-index-packs-raptor in /Users/tanghao/NUS/Internship/EverpixAnalysis/.venv/lib/python3.11/site-packages (0.1.3)\n",
      "Requirement already satisfied: llama-index-vector-stores-qdrant in /Users/tanghao/NUS/Internship/EverpixAnalysis/.venv/lib/python3.11/site-packages (0.2.11)\n",
      "Requirement already satisfied: llama-index-agent-openai<0.3.0,>=0.1.4 in /Users/tanghao/NUS/Internship/EverpixAnalysis/.venv/lib/python3.11/site-packages (from llama-index) (0.2.7)\n",
      "Requirement already satisfied: llama-index-cli<0.2.0,>=0.1.2 in /Users/tanghao/NUS/Internship/EverpixAnalysis/.venv/lib/python3.11/site-packages (from llama-index) (0.1.12)\n",
      "Requirement already satisfied: llama-index-core==0.10.52.post1 in /Users/tanghao/NUS/Internship/EverpixAnalysis/.venv/lib/python3.11/site-packages (from llama-index) (0.10.52.post1)\n",
      "Requirement already satisfied: llama-index-embeddings-openai<0.2.0,>=0.1.5 in /Users/tanghao/NUS/Internship/EverpixAnalysis/.venv/lib/python3.11/site-packages (from llama-index) (0.1.10)\n",
      "Requirement already satisfied: llama-index-indices-managed-llama-cloud>=0.2.0 in /Users/tanghao/NUS/Internship/EverpixAnalysis/.venv/lib/python3.11/site-packages (from llama-index) (0.2.3)\n",
      "Requirement already satisfied: llama-index-legacy<0.10.0,>=0.9.48 in /Users/tanghao/NUS/Internship/EverpixAnalysis/.venv/lib/python3.11/site-packages (from llama-index) (0.9.48)\n",
      "Requirement already satisfied: llama-index-llms-openai<0.2.0,>=0.1.13 in /Users/tanghao/NUS/Internship/EverpixAnalysis/.venv/lib/python3.11/site-packages (from llama-index) (0.1.25)\n",
      "Requirement already satisfied: llama-index-multi-modal-llms-openai<0.2.0,>=0.1.3 in /Users/tanghao/NUS/Internship/EverpixAnalysis/.venv/lib/python3.11/site-packages (from llama-index) (0.1.7)\n",
      "Requirement already satisfied: llama-index-program-openai<0.2.0,>=0.1.3 in /Users/tanghao/NUS/Internship/EverpixAnalysis/.venv/lib/python3.11/site-packages (from llama-index) (0.1.6)\n",
      "Requirement already satisfied: llama-index-question-gen-openai<0.2.0,>=0.1.2 in /Users/tanghao/NUS/Internship/EverpixAnalysis/.venv/lib/python3.11/site-packages (from llama-index) (0.1.3)\n",
      "Requirement already satisfied: llama-index-readers-file<0.2.0,>=0.1.4 in /Users/tanghao/NUS/Internship/EverpixAnalysis/.venv/lib/python3.11/site-packages (from llama-index) (0.1.27)\n",
      "Requirement already satisfied: llama-index-readers-llama-parse>=0.1.2 in /Users/tanghao/NUS/Internship/EverpixAnalysis/.venv/lib/python3.11/site-packages (from llama-index) (0.1.6)\n",
      "Requirement already satisfied: PyYAML>=6.0.1 in /Users/tanghao/NUS/Internship/EverpixAnalysis/.venv/lib/python3.11/site-packages (from llama-index-core==0.10.52.post1->llama-index) (6.0.1)\n",
      "Requirement already satisfied: SQLAlchemy>=1.4.49 in /Users/tanghao/NUS/Internship/EverpixAnalysis/.venv/lib/python3.11/site-packages (from SQLAlchemy[asyncio]>=1.4.49->llama-index-core==0.10.52.post1->llama-index) (2.0.30)\n",
      "Requirement already satisfied: aiohttp<4.0.0,>=3.8.6 in /Users/tanghao/NUS/Internship/EverpixAnalysis/.venv/lib/python3.11/site-packages (from llama-index-core==0.10.52.post1->llama-index) (3.9.5)\n",
      "Requirement already satisfied: dataclasses-json in /Users/tanghao/NUS/Internship/EverpixAnalysis/.venv/lib/python3.11/site-packages (from llama-index-core==0.10.52.post1->llama-index) (0.6.7)\n",
      "Requirement already satisfied: deprecated>=1.2.9.3 in /Users/tanghao/NUS/Internship/EverpixAnalysis/.venv/lib/python3.11/site-packages (from llama-index-core==0.10.52.post1->llama-index) (1.2.14)\n",
      "Requirement already satisfied: dirtyjson<2.0.0,>=1.0.8 in /Users/tanghao/NUS/Internship/EverpixAnalysis/.venv/lib/python3.11/site-packages (from llama-index-core==0.10.52.post1->llama-index) (1.0.8)\n",
      "Requirement already satisfied: fsspec>=2023.5.0 in /Users/tanghao/NUS/Internship/EverpixAnalysis/.venv/lib/python3.11/site-packages (from llama-index-core==0.10.52.post1->llama-index) (2024.6.0)\n",
      "Requirement already satisfied: httpx in /Users/tanghao/NUS/Internship/EverpixAnalysis/.venv/lib/python3.11/site-packages (from llama-index-core==0.10.52.post1->llama-index) (0.27.0)\n",
      "Requirement already satisfied: llama-cloud<0.0.7,>=0.0.6 in /Users/tanghao/NUS/Internship/EverpixAnalysis/.venv/lib/python3.11/site-packages (from llama-index-core==0.10.52.post1->llama-index) (0.0.6)\n",
      "Requirement already satisfied: nest-asyncio<2.0.0,>=1.5.8 in /Users/tanghao/NUS/Internship/EverpixAnalysis/.venv/lib/python3.11/site-packages (from llama-index-core==0.10.52.post1->llama-index) (1.6.0)\n",
      "Requirement already satisfied: networkx>=3.0 in /Users/tanghao/NUS/Internship/EverpixAnalysis/.venv/lib/python3.11/site-packages (from llama-index-core==0.10.52.post1->llama-index) (3.3)\n",
      "Requirement already satisfied: nltk<4.0.0,>=3.8.1 in /Users/tanghao/NUS/Internship/EverpixAnalysis/.venv/lib/python3.11/site-packages (from llama-index-core==0.10.52.post1->llama-index) (3.8.1)\n",
      "Requirement already satisfied: numpy<2.0.0 in /Users/tanghao/NUS/Internship/EverpixAnalysis/.venv/lib/python3.11/site-packages (from llama-index-core==0.10.52.post1->llama-index) (1.26.4)\n",
      "Requirement already satisfied: openai>=1.1.0 in /Users/tanghao/NUS/Internship/EverpixAnalysis/.venv/lib/python3.11/site-packages (from llama-index-core==0.10.52.post1->llama-index) (1.34.0)\n",
      "Requirement already satisfied: pandas in /Users/tanghao/NUS/Internship/EverpixAnalysis/.venv/lib/python3.11/site-packages (from llama-index-core==0.10.52.post1->llama-index) (2.2.2)\n",
      "Requirement already satisfied: pillow>=9.0.0 in /Users/tanghao/NUS/Internship/EverpixAnalysis/.venv/lib/python3.11/site-packages (from llama-index-core==0.10.52.post1->llama-index) (10.4.0)\n",
      "Requirement already satisfied: requests>=2.31.0 in /Users/tanghao/NUS/Internship/EverpixAnalysis/.venv/lib/python3.11/site-packages (from llama-index-core==0.10.52.post1->llama-index) (2.32.3)\n",
      "Requirement already satisfied: tenacity!=8.4.0,<9.0.0,>=8.2.0 in /Users/tanghao/NUS/Internship/EverpixAnalysis/.venv/lib/python3.11/site-packages (from llama-index-core==0.10.52.post1->llama-index) (8.3.0)\n",
      "Requirement already satisfied: tiktoken>=0.3.3 in /Users/tanghao/NUS/Internship/EverpixAnalysis/.venv/lib/python3.11/site-packages (from llama-index-core==0.10.52.post1->llama-index) (0.7.0)\n",
      "Requirement already satisfied: tqdm<5.0.0,>=4.66.1 in /Users/tanghao/NUS/Internship/EverpixAnalysis/.venv/lib/python3.11/site-packages (from llama-index-core==0.10.52.post1->llama-index) (4.66.4)\n",
      "Requirement already satisfied: typing-extensions>=4.5.0 in /Users/tanghao/NUS/Internship/EverpixAnalysis/.venv/lib/python3.11/site-packages (from llama-index-core==0.10.52.post1->llama-index) (4.12.2)\n",
      "Requirement already satisfied: typing-inspect>=0.8.0 in /Users/tanghao/NUS/Internship/EverpixAnalysis/.venv/lib/python3.11/site-packages (from llama-index-core==0.10.52.post1->llama-index) (0.9.0)\n",
      "Requirement already satisfied: wrapt in /Users/tanghao/NUS/Internship/EverpixAnalysis/.venv/lib/python3.11/site-packages (from llama-index-core==0.10.52.post1->llama-index) (1.16.0)\n",
      "Requirement already satisfied: scikit-learn in /Users/tanghao/NUS/Internship/EverpixAnalysis/.venv/lib/python3.11/site-packages (from llama-index-packs-raptor) (1.5.1)\n",
      "Requirement already satisfied: umap-learn>=0.5.5 in /Users/tanghao/NUS/Internship/EverpixAnalysis/.venv/lib/python3.11/site-packages (from llama-index-packs-raptor) (0.5.6)\n",
      "Requirement already satisfied: grpcio<2.0.0,>=1.60.0 in /Users/tanghao/NUS/Internship/EverpixAnalysis/.venv/lib/python3.11/site-packages (from llama-index-vector-stores-qdrant) (1.64.1)\n",
      "Requirement already satisfied: qdrant-client>=1.7.1 in /Users/tanghao/NUS/Internship/EverpixAnalysis/.venv/lib/python3.11/site-packages (from llama-index-vector-stores-qdrant) (1.10.0)\n",
      "Requirement already satisfied: beautifulsoup4<5.0.0,>=4.12.3 in /Users/tanghao/NUS/Internship/EverpixAnalysis/.venv/lib/python3.11/site-packages (from llama-index-readers-file<0.2.0,>=0.1.4->llama-index) (4.12.3)\n",
      "Requirement already satisfied: pypdf<5.0.0,>=4.0.1 in /Users/tanghao/NUS/Internship/EverpixAnalysis/.venv/lib/python3.11/site-packages (from llama-index-readers-file<0.2.0,>=0.1.4->llama-index) (4.2.0)\n",
      "Requirement already satisfied: striprtf<0.0.27,>=0.0.26 in /Users/tanghao/NUS/Internship/EverpixAnalysis/.venv/lib/python3.11/site-packages (from llama-index-readers-file<0.2.0,>=0.1.4->llama-index) (0.0.26)\n",
      "Requirement already satisfied: llama-parse>=0.4.0 in /Users/tanghao/NUS/Internship/EverpixAnalysis/.venv/lib/python3.11/site-packages (from llama-index-readers-llama-parse>=0.1.2->llama-index) (0.4.5)\n",
      "Requirement already satisfied: grpcio-tools>=1.41.0 in /Users/tanghao/NUS/Internship/EverpixAnalysis/.venv/lib/python3.11/site-packages (from qdrant-client>=1.7.1->llama-index-vector-stores-qdrant) (1.64.1)\n",
      "Requirement already satisfied: portalocker<3.0.0,>=2.7.0 in /Users/tanghao/NUS/Internship/EverpixAnalysis/.venv/lib/python3.11/site-packages (from qdrant-client>=1.7.1->llama-index-vector-stores-qdrant) (2.10.0)\n",
      "Requirement already satisfied: pydantic>=1.10.8 in /Users/tanghao/NUS/Internship/EverpixAnalysis/.venv/lib/python3.11/site-packages (from qdrant-client>=1.7.1->llama-index-vector-stores-qdrant) (2.7.4)\n",
      "Requirement already satisfied: urllib3<3,>=1.26.14 in /Users/tanghao/NUS/Internship/EverpixAnalysis/.venv/lib/python3.11/site-packages (from qdrant-client>=1.7.1->llama-index-vector-stores-qdrant) (2.2.2)\n",
      "Requirement already satisfied: scipy>=1.3.1 in /Users/tanghao/NUS/Internship/EverpixAnalysis/.venv/lib/python3.11/site-packages (from umap-learn>=0.5.5->llama-index-packs-raptor) (1.14.0)\n",
      "Requirement already satisfied: numba>=0.51.2 in /Users/tanghao/NUS/Internship/EverpixAnalysis/.venv/lib/python3.11/site-packages (from umap-learn>=0.5.5->llama-index-packs-raptor) (0.60.0)\n",
      "Requirement already satisfied: pynndescent>=0.5 in /Users/tanghao/NUS/Internship/EverpixAnalysis/.venv/lib/python3.11/site-packages (from umap-learn>=0.5.5->llama-index-packs-raptor) (0.5.13)\n",
      "Requirement already satisfied: joblib>=1.2.0 in /Users/tanghao/NUS/Internship/EverpixAnalysis/.venv/lib/python3.11/site-packages (from scikit-learn->llama-index-packs-raptor) (1.4.2)\n",
      "Requirement already satisfied: threadpoolctl>=3.1.0 in /Users/tanghao/NUS/Internship/EverpixAnalysis/.venv/lib/python3.11/site-packages (from scikit-learn->llama-index-packs-raptor) (3.5.0)\n",
      "Requirement already satisfied: aiosignal>=1.1.2 in /Users/tanghao/NUS/Internship/EverpixAnalysis/.venv/lib/python3.11/site-packages (from aiohttp<4.0.0,>=3.8.6->llama-index-core==0.10.52.post1->llama-index) (1.3.1)\n",
      "Requirement already satisfied: attrs>=17.3.0 in /Users/tanghao/NUS/Internship/EverpixAnalysis/.venv/lib/python3.11/site-packages (from aiohttp<4.0.0,>=3.8.6->llama-index-core==0.10.52.post1->llama-index) (23.2.0)\n",
      "Requirement already satisfied: frozenlist>=1.1.1 in /Users/tanghao/NUS/Internship/EverpixAnalysis/.venv/lib/python3.11/site-packages (from aiohttp<4.0.0,>=3.8.6->llama-index-core==0.10.52.post1->llama-index) (1.4.1)\n",
      "Requirement already satisfied: multidict<7.0,>=4.5 in /Users/tanghao/NUS/Internship/EverpixAnalysis/.venv/lib/python3.11/site-packages (from aiohttp<4.0.0,>=3.8.6->llama-index-core==0.10.52.post1->llama-index) (6.0.5)\n",
      "Requirement already satisfied: yarl<2.0,>=1.0 in /Users/tanghao/NUS/Internship/EverpixAnalysis/.venv/lib/python3.11/site-packages (from aiohttp<4.0.0,>=3.8.6->llama-index-core==0.10.52.post1->llama-index) (1.9.4)\n",
      "Requirement already satisfied: soupsieve>1.2 in /Users/tanghao/NUS/Internship/EverpixAnalysis/.venv/lib/python3.11/site-packages (from beautifulsoup4<5.0.0,>=4.12.3->llama-index-readers-file<0.2.0,>=0.1.4->llama-index) (2.5)\n",
      "Collecting protobuf<6.0dev,>=5.26.1 (from grpcio-tools>=1.41.0->qdrant-client>=1.7.1->llama-index-vector-stores-qdrant)\n",
      "  Using cached protobuf-5.27.2-cp38-abi3-macosx_10_9_universal2.whl.metadata (592 bytes)\n",
      "Requirement already satisfied: setuptools in /Users/tanghao/NUS/Internship/EverpixAnalysis/.venv/lib/python3.11/site-packages (from grpcio-tools>=1.41.0->qdrant-client>=1.7.1->llama-index-vector-stores-qdrant) (68.1.2)\n",
      "Requirement already satisfied: anyio in /Users/tanghao/NUS/Internship/EverpixAnalysis/.venv/lib/python3.11/site-packages (from httpx->llama-index-core==0.10.52.post1->llama-index) (4.4.0)\n",
      "Requirement already satisfied: certifi in /Users/tanghao/NUS/Internship/EverpixAnalysis/.venv/lib/python3.11/site-packages (from httpx->llama-index-core==0.10.52.post1->llama-index) (2024.7.4)\n",
      "Requirement already satisfied: httpcore==1.* in /Users/tanghao/NUS/Internship/EverpixAnalysis/.venv/lib/python3.11/site-packages (from httpx->llama-index-core==0.10.52.post1->llama-index) (1.0.5)\n",
      "Requirement already satisfied: idna in /Users/tanghao/NUS/Internship/EverpixAnalysis/.venv/lib/python3.11/site-packages (from httpx->llama-index-core==0.10.52.post1->llama-index) (3.7)\n",
      "Requirement already satisfied: sniffio in /Users/tanghao/NUS/Internship/EverpixAnalysis/.venv/lib/python3.11/site-packages (from httpx->llama-index-core==0.10.52.post1->llama-index) (1.3.1)\n",
      "Requirement already satisfied: h11<0.15,>=0.13 in /Users/tanghao/NUS/Internship/EverpixAnalysis/.venv/lib/python3.11/site-packages (from httpcore==1.*->httpx->llama-index-core==0.10.52.post1->llama-index) (0.14.0)\n",
      "Requirement already satisfied: h2<5,>=3 in /Users/tanghao/NUS/Internship/EverpixAnalysis/.venv/lib/python3.11/site-packages (from httpx[http2]>=0.20.0->qdrant-client>=1.7.1->llama-index-vector-stores-qdrant) (4.1.0)\n",
      "Requirement already satisfied: click in /Users/tanghao/NUS/Internship/EverpixAnalysis/.venv/lib/python3.11/site-packages (from nltk<4.0.0,>=3.8.1->llama-index-core==0.10.52.post1->llama-index) (8.1.7)\n",
      "Requirement already satisfied: regex>=2021.8.3 in /Users/tanghao/NUS/Internship/EverpixAnalysis/.venv/lib/python3.11/site-packages (from nltk<4.0.0,>=3.8.1->llama-index-core==0.10.52.post1->llama-index) (2024.5.15)\n",
      "Requirement already satisfied: llvmlite<0.44,>=0.43.0dev0 in /Users/tanghao/NUS/Internship/EverpixAnalysis/.venv/lib/python3.11/site-packages (from numba>=0.51.2->umap-learn>=0.5.5->llama-index-packs-raptor) (0.43.0)\n",
      "Requirement already satisfied: distro<2,>=1.7.0 in /Users/tanghao/NUS/Internship/EverpixAnalysis/.venv/lib/python3.11/site-packages (from openai>=1.1.0->llama-index-core==0.10.52.post1->llama-index) (1.9.0)\n",
      "Requirement already satisfied: annotated-types>=0.4.0 in /Users/tanghao/NUS/Internship/EverpixAnalysis/.venv/lib/python3.11/site-packages (from pydantic>=1.10.8->qdrant-client>=1.7.1->llama-index-vector-stores-qdrant) (0.7.0)\n",
      "Requirement already satisfied: pydantic-core==2.18.4 in /Users/tanghao/NUS/Internship/EverpixAnalysis/.venv/lib/python3.11/site-packages (from pydantic>=1.10.8->qdrant-client>=1.7.1->llama-index-vector-stores-qdrant) (2.18.4)\n",
      "Requirement already satisfied: charset-normalizer<4,>=2 in /Users/tanghao/NUS/Internship/EverpixAnalysis/.venv/lib/python3.11/site-packages (from requests>=2.31.0->llama-index-core==0.10.52.post1->llama-index) (3.3.2)\n",
      "Requirement already satisfied: greenlet!=0.4.17 in /Users/tanghao/NUS/Internship/EverpixAnalysis/.venv/lib/python3.11/site-packages (from SQLAlchemy[asyncio]>=1.4.49->llama-index-core==0.10.52.post1->llama-index) (3.0.3)\n",
      "Requirement already satisfied: mypy-extensions>=0.3.0 in /Users/tanghao/NUS/Internship/EverpixAnalysis/.venv/lib/python3.11/site-packages (from typing-inspect>=0.8.0->llama-index-core==0.10.52.post1->llama-index) (1.0.0)\n",
      "Requirement already satisfied: marshmallow<4.0.0,>=3.18.0 in /Users/tanghao/NUS/Internship/EverpixAnalysis/.venv/lib/python3.11/site-packages (from dataclasses-json->llama-index-core==0.10.52.post1->llama-index) (3.21.3)\n",
      "Requirement already satisfied: python-dateutil>=2.8.2 in /Users/tanghao/NUS/Internship/EverpixAnalysis/.venv/lib/python3.11/site-packages (from pandas->llama-index-core==0.10.52.post1->llama-index) (2.9.0.post0)\n",
      "Requirement already satisfied: pytz>=2020.1 in /Users/tanghao/NUS/Internship/EverpixAnalysis/.venv/lib/python3.11/site-packages (from pandas->llama-index-core==0.10.52.post1->llama-index) (2024.1)\n",
      "Requirement already satisfied: tzdata>=2022.7 in /Users/tanghao/NUS/Internship/EverpixAnalysis/.venv/lib/python3.11/site-packages (from pandas->llama-index-core==0.10.52.post1->llama-index) (2024.1)\n",
      "Requirement already satisfied: hyperframe<7,>=6.0 in /Users/tanghao/NUS/Internship/EverpixAnalysis/.venv/lib/python3.11/site-packages (from h2<5,>=3->httpx[http2]>=0.20.0->qdrant-client>=1.7.1->llama-index-vector-stores-qdrant) (6.0.1)\n",
      "Requirement already satisfied: hpack<5,>=4.0 in /Users/tanghao/NUS/Internship/EverpixAnalysis/.venv/lib/python3.11/site-packages (from h2<5,>=3->httpx[http2]>=0.20.0->qdrant-client>=1.7.1->llama-index-vector-stores-qdrant) (4.0.0)\n",
      "Requirement already satisfied: packaging>=17.0 in /Users/tanghao/NUS/Internship/EverpixAnalysis/.venv/lib/python3.11/site-packages (from marshmallow<4.0.0,>=3.18.0->dataclasses-json->llama-index-core==0.10.52.post1->llama-index) (24.0)\n",
      "Requirement already satisfied: six>=1.5 in /Users/tanghao/NUS/Internship/EverpixAnalysis/.venv/lib/python3.11/site-packages (from python-dateutil>=2.8.2->pandas->llama-index-core==0.10.52.post1->llama-index) (1.16.0)\n",
      "Using cached protobuf-5.27.2-cp38-abi3-macosx_10_9_universal2.whl (412 kB)\n",
      "Installing collected packages: protobuf\n",
      "  Attempting uninstall: protobuf\n",
      "    Found existing installation: protobuf 4.25.3\n",
      "    Uninstalling protobuf-4.25.3:\n",
      "      Successfully uninstalled protobuf-4.25.3\n",
      "\u001b[31mERROR: pip's dependency resolver does not currently take into account all the packages that are installed. This behaviour is the source of the following dependency conflicts.\n",
      "google-ai-generativelanguage 0.6.6 requires protobuf!=3.20.0,!=3.20.1,!=4.21.0,!=4.21.1,!=4.21.2,!=4.21.3,!=4.21.4,!=4.21.5,<5.0.0dev,>=3.19.5, but you have protobuf 5.27.2 which is incompatible.\u001b[0m\u001b[31m\n",
      "\u001b[0mSuccessfully installed protobuf-5.27.2\n"
     ]
    }
   ],
   "source": [
    "!pip install llama-index llama-index-packs-raptor llama-index-vector-stores-qdrant"
   ]
  },
  {
   "cell_type": "code",
   "execution_count": 3,
   "metadata": {},
   "outputs": [],
   "source": [
    "from llama_index.packs.raptor import RaptorPack\n",
    "\n",
    "# optionally download the pack to inspect/modify it yourself!\n",
    "# from llama_index.core.llama_pack import download_llama_pack\n",
    "# RaptorPack = download_llama_pack(\"RaptorPack\", \"./raptor_pack\")"
   ]
  },
  {
   "cell_type": "code",
   "execution_count": 7,
   "metadata": {},
   "outputs": [
    {
     "name": "stdout",
     "output_type": "stream",
     "text": [
      "--2024-07-07 14:45:22--  https://arxiv.org/pdf/2401.18059.pdf\n",
      "Resolving arxiv.org (arxiv.org)... 151.101.67.42, 151.101.3.42, 151.101.195.42, ...\n",
      "Connecting to arxiv.org (arxiv.org)|151.101.67.42|:443... connected.\n",
      "HTTP request sent, awaiting response... 301 Moved Permanently\n",
      "Location: http://arxiv.org/pdf/2401.18059 [following]\n",
      "--2024-07-07 14:45:22--  http://arxiv.org/pdf/2401.18059\n",
      "Connecting to arxiv.org (arxiv.org)|151.101.67.42|:80... connected.\n",
      "HTTP request sent, awaiting response... 200 OK\n",
      "Length: 2547113 (2.4M) [application/pdf]\n",
      "Saving to: ‘./raptor_paper.pdf’\n",
      "\n",
      "./raptor_paper.pdf  100%[===================>]   2.43M  5.71MB/s    in 0.4s    \n",
      "\n",
      "2024-07-07 14:45:23 (5.71 MB/s) - ‘./raptor_paper.pdf’ saved [2547113/2547113]\n",
      "\n"
     ]
    }
   ],
   "source": [
    "!wget https://arxiv.org/pdf/2401.18059.pdf -O ./raptor_paper.pdf"
   ]
  },
  {
   "cell_type": "code",
   "execution_count": 4,
   "metadata": {},
   "outputs": [],
   "source": [
    "import os\n",
    "from Setting import openAIKey\n",
    "os.environ[\"OPENAI_API_KEY\"] = openAIKey.Key"
   ]
  },
  {
   "cell_type": "markdown",
   "metadata": {},
   "source": [
    "## Constructing the Clusters/Hierarchy Tree"
   ]
  },
  {
   "cell_type": "code",
   "execution_count": 5,
   "metadata": {},
   "outputs": [],
   "source": [
    "import nest_asyncio\n",
    "\n",
    "nest_asyncio.apply()"
   ]
  },
  {
   "cell_type": "code",
   "execution_count": 6,
   "metadata": {},
   "outputs": [],
   "source": [
    "from llama_index.core import SimpleDirectoryReader\n",
    "\n",
    "# documents = SimpleDirectoryReader(input_files=[\"./raptor_paper.pdf\"]).load_data()\n",
    "documents = SimpleDirectoryReader(input_files=[\"/Users/tanghao/NUS/Internship/EverpixAnalysis/Data/Investor Reports/2011.md\"]).load_data()"
   ]
  },
  {
   "cell_type": "code",
   "execution_count": 7,
   "metadata": {},
   "outputs": [
    {
     "name": "stdout",
     "output_type": "stream",
     "text": [
      "Generating embeddings for level 0.\n",
      "Performing clustering for level 0.\n",
      "Generating summaries for level 0 with 1 clusters.\n",
      "Level 0 created summaries/clusters: 1\n",
      "Generating embeddings for level 1.\n",
      "Performing clustering for level 1.\n",
      "Generating summaries for level 1 with 1 clusters.\n",
      "Level 1 created summaries/clusters: 1\n",
      "Generating embeddings for level 2.\n",
      "Performing clustering for level 2.\n",
      "Generating summaries for level 2 with 1 clusters.\n",
      "Level 2 created summaries/clusters: 1\n"
     ]
    }
   ],
   "source": [
    "from llama_index.core.node_parser import SentenceSplitter\n",
    "from llama_index.llms.openai import OpenAI\n",
    "from llama_index.embeddings.openai import OpenAIEmbedding\n",
    "from llama_index.vector_stores.chroma import ChromaVectorStore\n",
    "import chromadb\n",
    "\n",
    "client = chromadb.PersistentClient(path=\"./investor_report_2011_db\")\n",
    "collection = client.get_or_create_collection(\"investor_report_2011\")\n",
    "\n",
    "vector_store = ChromaVectorStore(chroma_collection=collection)\n",
    "\n",
    "raptor_pack = RaptorPack(\n",
    "    documents,\n",
    "    embed_model=OpenAIEmbedding(\n",
    "        model=\"text-embedding-3-small\"\n",
    "    ),  # used for embedding clusters\n",
    "    llm=OpenAI(model=\"gpt-3.5-turbo\", temperature=0.1),  # used for generating summaries\n",
    "    vector_store=vector_store,  # used for storage\n",
    "    similarity_top_k=2,  # top k for each layer, or overall top-k for collapsed\n",
    "    mode=\"collapsed\",  # sets default mode\n",
    "    transformations=[\n",
    "        SentenceSplitter(chunk_size=400, chunk_overlap=50)\n",
    "    ],  # transformations applied for ingestion\n",
    ")"
   ]
  },
  {
   "cell_type": "markdown",
   "metadata": {},
   "source": [
    "## Retrieval"
   ]
  },
  {
   "cell_type": "code",
   "execution_count": 9,
   "metadata": {},
   "outputs": [
    {
     "name": "stdout",
     "output_type": "stream",
     "text": [
      "2\n",
      "Everpix project started in April 2011 and was officially announced at TechCrunch Disrupt in September 2011. The Private Alpha phase aimed to test the infrastructure and software, with around 5,000 users registering and 2,080 importing photos. The Mac Uploader was used by 732 users, with an average of 10,000 photos imported by Mac users. The Public Beta was launched at the end of 2011, allowing anyone to create an account. Unexpected PR coverage led to 3,000 new users and 8,000,000 new photos imported, causing infrastructure scaling issues. The back end infrastructure was re-engineered for the Public Beta using Tornado & MySQL on Amazon Web Services. Recruitment for key positions like Android and Windows developers was challenging. Financially, expenses exceeded the budget due to higher lawyer fees and hiring. Future goals include releasing Everpix 1.0, offering premium subscriptions, and addressing recruitment challenges. The co-founders plan to adjust their salaries, and a Series A funding round is targeted for the summer.\n"
     ]
    }
   ],
   "source": [
    "nodes = raptor_pack.run(\"What is primary goals for Everpix Private Alpha?\", mode=\"collapsed\")\n",
    "print(len(nodes))\n",
    "print(nodes[1].text)"
   ]
  },
  {
   "cell_type": "code",
   "execution_count": 12,
   "metadata": {},
   "outputs": [
    {
     "name": "stdout",
     "output_type": "stream",
     "text": [
      "Retrieved parent IDs from level 2: ['41613443-5fbf-453d-a10a-2f4d2b4fcdf0']\n",
      "Retrieved 1 from parents at level 2.\n",
      "Retrieved parent IDs from level 1: ['d73a8078-774a-4903-aeb1-da7393ac5fc4']\n",
      "Retrieved 1 from parents at level 1.\n",
      "Retrieved parent IDs from level 0: ['cd5be605-e5b9-4314-ad0b-8689144d1d87']\n",
      "Retrieved 2 from parents at level 0.\n",
      "2\n",
      "Google App Engine was great for Everpix Private Alpha and saved us a lot of time, but we had reached the tipping point.\n",
      "\n",
      "Re-engineering the back end also allowed to address numerous design issues with the previous implementation (for instance proper color matching of imported photos and consistent scaling across import paths) and add valuable features like much improved analytics.\n",
      "\n",
      "This re-engineering does come with an important downside in the fact that it won’t scale for free contrary to Google App Engine which handled that part automatically. We can only do so much here with our limited internal knowledge and proper scaling will require hiring an experienced back end engineer (more below).\n",
      "\n",
      "Learning from the massive input of data at launch and optimizing the back end accordingly took about 2 weeks and as of today, we are in much better condition. We should be able to handle 1 to 2 new million photos per day, although we really don’t expect to reach such numbers anytime soon as Everpix Public Beta is not being promoted.\n",
      "\n",
      "Finally, although we do have many more analytics on our users compared to Everpix Private Alpha, it’s not worth looking into them at this point since the rocky launch likely affected them. For instance, users creating an account, being unable to import photos or get a good experience browsing them are unlikely to come back for some time.\n",
      "\n",
      "Major Risks\n",
      "-----------\n",
      "\n",
      "This early in the project, the major risks are not how to acquire users, convert them to paying customers or simply getting Everpix known, but rather:\n",
      "\n",
      "1.\tCan we recruit to build the team we need?\n",
      "2.\tCan we deliver on Everpix 1.0 and its major pieces: innovative photo collection navigation, unique assisted curation and software for major platforms?\n",
      "3.\n"
     ]
    }
   ],
   "source": [
    "nodes = raptor_pack.run(\n",
    "    \"What is the major risk for Everpix?\", mode=\"tree_traversal\"\n",
    ")\n",
    "print(len(nodes))\n",
    "print(nodes[1].text)"
   ]
  },
  {
   "cell_type": "markdown",
   "metadata": {},
   "source": [
    "## Loading\n",
    "\n",
    "Since we saved to a vector store, we can also use it again! (For local vector stores, there is a `persist` and `from_persist_dir` method on the retriever)"
   ]
  },
  {
   "cell_type": "code",
   "execution_count": null,
   "metadata": {},
   "outputs": [],
   "source": [
    "from llama_index.packs.raptor import RaptorRetriever\n",
    "\n",
    "retriever = RaptorRetriever(\n",
    "    [],\n",
    "    embed_model=OpenAIEmbedding(\n",
    "        model=\"text-embedding-3-small\"\n",
    "    ),  # used for embedding clusters\n",
    "    llm=OpenAI(model=\"gpt-3.5-turbo\", temperature=0.1),  # used for generating summaries\n",
    "    vector_store=vector_store,  # used for storage\n",
    "    similarity_top_k=2,  # top k for each layer, or overall top-k for collapsed\n",
    "    mode=\"tree_traversal\",  # sets default mode\n",
    ")"
   ]
  },
  {
   "cell_type": "code",
   "execution_count": null,
   "metadata": {},
   "outputs": [],
   "source": [
    "# if using a default vector store\n",
    "# retriever.persist(\"./persist\")\n",
    "# retriever = RaptorRetriever.from_persist_dir(\"./persist\", ...)"
   ]
  },
  {
   "cell_type": "markdown",
   "metadata": {},
   "source": [
    "## Query Engine"
   ]
  },
  {
   "cell_type": "code",
   "execution_count": null,
   "metadata": {},
   "outputs": [],
   "source": [
    "from llama_index.core.query_engine import RetrieverQueryEngine\n",
    "\n",
    "query_engine = RetrieverQueryEngine.from_args(\n",
    "    retriever, llm=OpenAI(model=\"gpt-3.5-turbo\", temperature=0.1)\n",
    ")"
   ]
  },
  {
   "cell_type": "code",
   "execution_count": null,
   "metadata": {},
   "outputs": [],
   "source": [
    "response = query_engine.query(\"What baselines was RAPTOR compared against?\")"
   ]
  },
  {
   "cell_type": "code",
   "execution_count": null,
   "metadata": {},
   "outputs": [
    {
     "name": "stdout",
     "output_type": "stream",
     "text": [
      "BM25 and DPR\n"
     ]
    }
   ],
   "source": [
    "print(str(response))"
   ]
  }
 ],
 "metadata": {
  "kernelspec": {
   "display_name": "llama-index-4aB9_5sa-py3.10",
   "language": "python",
   "name": "python3"
  },
  "language_info": {
   "codemirror_mode": {
    "name": "ipython",
    "version": 3
   },
   "file_extension": ".py",
   "mimetype": "text/x-python",
   "name": "python",
   "nbconvert_exporter": "python",
   "pygments_lexer": "ipython3",
   "version": "3.11.5"
  }
 },
 "nbformat": 4,
 "nbformat_minor": 2
}
