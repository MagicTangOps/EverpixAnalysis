{
 "cells": [
  {
   "cell_type": "markdown",
   "metadata": {},
   "source": [
    "### Tree Building"
   ]
  },
  {
   "cell_type": "code",
   "execution_count": 1,
   "metadata": {},
   "outputs": [],
   "source": [
    "with open('../Data/Investor Reports/2011.md', 'r', encoding='utf-8') as file:\n",
    "    content_11 = file.read()\n",
    "\n",
    "with open('../Data/Investor Reports/2012-10.md', 'r', encoding='utf-8') as file:\n",
    "    content_1210 = file.read()\n",
    "\n",
    "with open('../Data/Investor Reports/2013-04.md', 'r', encoding='utf-8') as file:\n",
    "    content_1304 = file.read()"
   ]
  },
  {
   "cell_type": "code",
   "execution_count": 2,
   "metadata": {},
   "outputs": [
    {
     "data": {
      "text/plain": [
       "83"
      ]
     },
     "execution_count": 2,
     "metadata": {},
     "output_type": "execute_result"
    }
   ],
   "source": [
    "import re\n",
    "\n",
    "def count_words(s):\n",
    "    words = re.findall(r'\\b\\w+\\b', s)\n",
    "    return len(words)\n",
    "\n",
    "node=\"\"\"\n",
    "Not many new users this month (+700) but keep in mind growth is still organic as we have not done our PR push (very few people still know about us). In terms of early virality metrics, there were 300 virtual users added (i.e. recipients of Photo Mails who are not Everpix users yet).\n",
    "\n",
    "We have almost 500 subscribed users now (80%+ on yearly subscriptions) out of about 4,000 eligible users. Subscriptions gross income for the past 2 months is as follow:\n",
    "\"\"\"\n",
    "\n",
    "count_words(node)"
   ]
  },
  {
   "cell_type": "code",
   "execution_count": 3,
   "metadata": {},
   "outputs": [],
   "source": [
    "import re\n",
    "\n",
    "def parse_markdown_to_tree(markdown):\n",
    "    # Split the markdown into lines\n",
    "    lines = markdown.strip().split('\\n')\n",
    "    \n",
    "    tree = {}\n",
    "    current_section = None\n",
    "    current_subsection = None\n",
    "\n",
    "    for line in lines:\n",
    "        # Check for section headers (first level, \"=\")\n",
    "        if re.match(r'^=+$', line.strip()):\n",
    "            current_section = previous_line\n",
    "            tree[current_section] = {}\n",
    "        # Check for subsection headers (second level, \"-\")\n",
    "        elif re.match(r'^-+$', line.strip()):\n",
    "            if current_subsection != None:\n",
    "                tree[current_section][current_subsection].pop()\n",
    "            current_subsection = previous_line\n",
    "            tree[current_section][current_subsection] = []\n",
    "        else:\n",
    "            # Normal content lines\n",
    "            if current_subsection:\n",
    "                tree[current_section][current_subsection].append(line)\n",
    "            previous_line = line.strip()\n",
    "\n",
    "    return tree\n",
    "\n",
    "def merge_and_split_tree_with_punctuation(tree):\n",
    "    def merge_nodes(nodes):\n",
    "        merged_nodes = []\n",
    "        temp_node = []\n",
    "        for node in nodes:\n",
    "            if node.startswith('  *'):\n",
    "                temp_node.append(node)\n",
    "            else:\n",
    "                if temp_node:\n",
    "                    merged_nodes.append('. '.join(temp_node) if not temp_node[-1].endswith('. ') else ''.join(temp_node))\n",
    "                    merged_nodes.append('')\n",
    "                    temp_node = []\n",
    "                merged_nodes.append(node)\n",
    "        if temp_node:\n",
    "            merged_nodes.append('. '.join(temp_node) if not temp_node[-1].endswith('. ') else ''.join(temp_node))\n",
    "            merged_nodes.append('')\n",
    "        return merged_nodes\n",
    "\n",
    "    def merge_between_empty(nodes):\n",
    "        cleaned_content = []\n",
    "        temp_content = []\n",
    "        for node in nodes:\n",
    "            if node == '':\n",
    "                if temp_content:\n",
    "                    merged_node = ' '.join(temp_content) if temp_content[-1].endswith('. ') else '. '.join(temp_content)\n",
    "                    cleaned_content.append(merged_node)\n",
    "                    temp_content = []\n",
    "                cleaned_content.append(node)\n",
    "            else:\n",
    "                temp_content.append(node)\n",
    "        if temp_content:\n",
    "            cleaned_content.append(' '.join(temp_content) if temp_content[-1].endswith('. ') else '. '.join(temp_content))\n",
    "        return cleaned_content\n",
    "\n",
    "    def split_long_nodes(nodes, max_words=256):\n",
    "        split_nodes = []\n",
    "        for node in nodes:\n",
    "            while count_words(node) > max_words:\n",
    "                words = re.findall(r'\\b\\w+\\b', node[:max_words])\n",
    "                split_point = node[:max_words].rfind(words[-1]) + len(words[-1])\n",
    "                split_nodes.append(node[:split_point].strip())\n",
    "                node = node[split_point:].strip()\n",
    "            split_nodes.append(node)\n",
    "        return split_nodes\n",
    "\n",
    "    for section, subsections in tree.items():\n",
    "        for subsection, content in subsections.items():\n",
    "            # Step 1: Merge '* ' and '  *' nodes\n",
    "            merged_content = merge_nodes(content)\n",
    "            # if subsection =='High Level': print(merged_content)\n",
    "            # Step 2: Merge nodes between empty nodes\n",
    "            cleaned_content = merge_between_empty(merged_content)\n",
    "            # if subsection =='High Level': print(cleaned_content)\n",
    "            # Step 3: Split long nodes\n",
    "            final_content = split_long_nodes(cleaned_content)\n",
    "            # if subsection =='High Level': print(final_content)\n",
    "            tree[section][subsection] = final_content\n",
    "\n",
    "    return tree\n",
    "\n"
   ]
  },
  {
   "cell_type": "code",
   "execution_count": 4,
   "metadata": {},
   "outputs": [],
   "source": [
    "Tree1210=parse_markdown_to_tree(content_1210)\n",
    "TreeIndex1210=merge_and_split_tree_with_punctuation(Tree1210)"
   ]
  },
  {
   "cell_type": "code",
   "execution_count": 5,
   "metadata": {},
   "outputs": [
    {
     "data": {
      "text/plain": [
       "{'High Level': ['',\n",
       "  '* Hired a full-time and on-site marketing / user growth consultant. * Actively searching for PR firm to handle our “real launch”. * Everpix 1.1 looking good for our “real launch”. * Windows Uploader just sent to first batch of external testers. * KPIs are defined and tracking started as of November 1st',\n",
       "  ''],\n",
       " 'Users and Subscriptions': ['',\n",
       "  'Not many new users this month (+700) but keep in mind growth is still organic as we have not done our PR push (very few people still know about us). In terms of early virality metrics, there were 300 virtual users added (i.e. recipients of Photo Mails who are not Everpix users yet).',\n",
       "  '',\n",
       "  'We have almost 500 subscribed users now (80%+ on yearly subscriptions) out of about 4,000 eligible users. Subscriptions gross income for the past 2 months is as follow:',\n",
       "  '',\n",
       "  '* $6,121.88 in September. * $6,351.95 in October',\n",
       "  '',\n",
       "  'Again, keep in mind these numbers will not match what’s the Profit & Loss statement as our payment processor wires funds to our bank account on a daily basis but with a 1 week delay. Also these amounts do not take into account subscriptions through the iTunes Store which are negligible.',\n",
       "  '',\n",
       "  'Our infrastructure costs for October were $8,438, so quite lower than for September as we are not running Everpix Beta anymore. We also discovered some wasted cloud storage space as well as opportunities for better provisioning of cloud machines, so infrastructure costs should continue to go down next month.',\n",
       "  ''],\n",
       " 'User Growth & Marketing': ['',\n",
       "  'After 45 days of search using multiple recruiters and various online job boards for a great candidate to drive user growth & marketing at Everpix, reviewing a 100+ resumes and doing several on-site interviews, we still were not able to find the ideal candidate (i.e. with extensive early stage startup and photo space experience).',\n",
       "  '',\n",
       "  'As you know we have been heavily focused on product building so far due to the number of challenges in an ambitious system like Everpix. We realize it’s more than time to switch gear and focus on user growth & marketing: we especially have a lot of foundation work to be done in this area (from product messaging to KPIs). Rather than keep waiting for this ideal candidate, we decided to hire an on-site and full-time marketing / PR / user growth contractor for a couple months so we can get moving ASAP.',\n",
       "  ''],\n",
       " 'Key Performance Indicators': ['',\n",
       "  'One of the first tasks of our new team member for user growth & marketing was to work on defining a proper set of key performance indicators we can use in the next 6 months to track our progress. See the other page of this document for the list of our 10 KPIs, which we started tracking as of November 1st.',\n",
       "  '',\n",
       "  'As you will notice, we have a lot of room for improvement, which is expected considering we didn’t have bandwidth to look into things like out of box experience or conversion funnels until now. The next step for our contractor is to take concrete actions to improve the KPIs.',\n",
       "  ''],\n",
       " 'Real Launch Update': ['',\n",
       "  'We have now reached a point where we could launch Everpix with a few days notice: the product features in Everpix 1.1 really reflect the Everpix vision and make it very clear Everpix is not another Flickr or SmugMug.',\n",
       "  '',\n",
       "  'Our current problem is fine-tuning the product messaging for launch and finding a great PR firm to launch with. We have considered 14 PR agencies in the past 3 weeks, met and followed up with several of them, but haven’t been impressed so far. Finding PR agencies which understand the precise needs and constraints of early stage startups, and truly “get” Everpix turns out to be surprisingly hard - it’s certainly not a budget problem for us as we’re willing to allocate what is needed.',\n",
       "  '',\n",
       "  'We do want to launch ASAP as we’re the only ones offering such a holistic photo solution on the market today. Unfortunately, not having the PR agency chosen prevents us to decide on an official launch date at this point. We will actively work on contingency plans to ensure we don’t miss our opportunity window.',\n",
       "  ''],\n",
       " 'Explore Photos by Similarity': ['',\n",
       "  'For our subscribed users, we added an experimental feature on the Everpix website: searching photos by likeness aka “finding similar photos”. It’s a really interesting way to rediscover one’s photo collection and showcases the type of unique interaction we can build with photos - no other photo platform offers anything like this today.',\n",
       "  '',\n",
       "  'If you have more than 5,000 photos in your collection, we encourage you to give it a try (look for it at the bottom of the Everpix home page after signing in on the website). This feature will be enabled on all Everpix accounts soon after we are done tuning it.',\n",
       "  ''],\n",
       " 'New iPhone and iPad Apps with Highlights View': ['',\n",
       "  'New iPhone and iPad apps with our brand new Highlights view have been submitted to App Store for review and should be out the week of 11/12. These are the versions we will launch with as they represent well the vision of Everpix on mobile platforms.',\n",
       "  ''],\n",
       " 'Windows Uploader in Beta': ['',\n",
       "  'The first version (0.9) has just been sent to a couple hundred users who volunteered to beta test it. It lets users sync photos from the Pictures and Documents default folders as well as custom folders. Compared to the Mac version, it has the following limitations:',\n",
       "  '',\n",
       "  '* No support for photo libraries like Picasa or Lightroom. * No support for external hard drives',\n",
       "  '',\n",
       "  'For the Windows world, these limitations are not critical (yet) and we will address them in future versions.',\n",
       "  '',\n",
       "  'After a short phase of beta testing, our goal is to roll out the 1.0 version of our Windows Uploader as soon as possible to it can be part of our “real launch”.']}"
      ]
     },
     "execution_count": 5,
     "metadata": {},
     "output_type": "execute_result"
    }
   ],
   "source": [
    "a=Tree1210['Everpix October 2012 Report']\n",
    "b=TreeIndex1210['Everpix October 2012 Report']\n",
    "b"
   ]
  },
  {
   "cell_type": "code",
   "execution_count": 6,
   "metadata": {},
   "outputs": [],
   "source": [
    "Tree11=parse_markdown_to_tree(content_11)\n",
    "TreeIndex11=merge_and_split_tree_with_punctuation(Tree11)\n",
    "Tree1304=parse_markdown_to_tree(content_1304)\n",
    "TreeIndex1304=merge_and_split_tree_with_punctuation(Tree1304)\n",
    "Tree={**Tree11, **Tree1210, **Tree1304}"
   ]
  },
  {
   "cell_type": "code",
   "execution_count": 7,
   "metadata": {},
   "outputs": [
    {
     "name": "stderr",
     "output_type": "stream",
     "text": [
      "/Users/tanghao/NUS/Internship/EverpixAnalysis/.venv/lib/python3.11/site-packages/sentence_transformers/cross_encoder/CrossEncoder.py:11: TqdmExperimentalWarning: Using `tqdm.autonotebook.tqdm` in notebook mode. Use `tqdm.tqdm` instead to force console mode (e.g. in jupyter console)\n",
      "  from tqdm.autonotebook import tqdm, trange\n"
     ]
    }
   ],
   "source": [
    "from sentence_transformers import SentenceTransformer\n",
    "sentences = [\"This is an example sentence\", \"Each sentence is converted\"]\n",
    "\n",
    "model = SentenceTransformer('sentence-transformers/all-MiniLM-L6-v2')\n",
    "embeddings = model.encode(sentences)\n",
    "# print(embeddings)\n"
   ]
  },
  {
   "cell_type": "code",
   "execution_count": 47,
   "metadata": {},
   "outputs": [],
   "source": [
    "from Setting import openAIKey\n",
    "from langchain_openai import ChatOpenAI\n",
    "from langchain_core.prompts import ChatPromptTemplate\n",
    "from langchain_core.output_parsers import StrOutputParser\n",
    "\n",
    "output_parser = StrOutputParser()\n",
    "\n",
    "llm = ChatOpenAI(api_key=openAIKey.Key, model='gpt-3.5-turbo', temperature=0)\n",
    "\n",
    "prompt = ChatPromptTemplate.from_messages([\n",
    "    (\"system\", \"Make a summary of the input text. The summary should be under 240 words\"),\n",
    "    (\"user\", \"{input}\")\n",
    "])\n",
    "\n",
    "chain = prompt | llm | output_parser\n",
    "input=\"\"\"\n",
    "Following TechCrunch Disrupt, users were allowed to register on the website and get on a waiting list. Everpix was quite early in its development at this time, and allowing anyone to create an account and import photos would not have been useful. Nevertheless, we had to start allowing some external users, if only to test the system, but also to follow up on a “public promise” made during Disrupt. Around mid-October, we started sending batches of invites from the waiting list and stopped around mid-November (since preparing for the Everpix Public Beta).\n",
    "\n",
    "The primary goals for Everpix Private Alpha were:\n",
    "\n",
    "1. Get a decent size set of testing users and their photos: this is required to simply test the infrastructure and software.\n",
    "2. Demonstrate we can move a lot of photos from people’s computers seamlessly to the cloud: any service can import photos that are already online, so the difficulty is with offline photos.\n",
    "3. Validate the bet that people would be willing to import *all* their photos to a third-party service: though other services, users have been “trained” to typically curate before importing, an assumption we need to break.\n",
    "\n",
    "The full analytics as of December 31st are available in the attached document, but from a high-level perspective and during the 3 months period of Everpix Private Alpha, we have the following:\n",
    "\n",
    "* The exact number is not available anymore but around 5,000 users registered on our waiting list and the vast majority were invited.\n",
    "* 2,500 users created accounts and of those, 2,080 of them imported photos.\n",
    "  This discrepancy could be explained by the fact some users realized they weren’t really interested or were using Windows for which we had no import solution.\n",
    "* 11,100,000 photos were imported.\n",
    "  67% from Mac computers (i.e offline photos) and the rest from online services.\n",
    "* 732 users ran our Mac Uploader at least once.\n",
    "  We didn't have an accurate way of measuring it, but an indirect estimate from looking at the update server logs shows that 500 to 600 users were running it daily.\n",
    "* For users enjoying the full experience i.e. Mac users, the average number of photos imported was 10,000.\n",
    "\n",
    "On the upside, we can say that goals #1, #2 and #3 were achieved - in the scope of a set of users mostly made of early adopters. We can’t guarantee such metrics will translate to mass market though. We also had 3 important features build and “market validated”:\n",
    "\n",
    "* the Mac Uploader,\n",
    "* duplicate photos detection independently of their resolution or compression artifacts,\n",
    "* instant and seamless sharing from Everpix website or iPhone app of a user photo to Facebook, Twitter or email.\n",
    "\n",
    "On the downside, we discovered some serious issues with our back end infrastructure built on top of Google App Engine:\n",
    "\n",
    "* It wasn’t as responsive as it should have been and optimizing it was becoming difficult.\n",
    "* We had some strange and very hard to track down data corruption creeping in.\n",
    "* We realized it would be very hard to control costs going forward as can’t dive into the system and tune it precisely for our needs.\n",
    "\n",
    "The difficulties with these 3 important issues were compounded by the fact Google App Engine is essentially a black box, which means a lot less maintenance, but also a lot more limitations to investigate and optimize things. Getting a Premium Account with extra support doesn’t alleviate these issues either.\n",
    "\"\"\"\n",
    "# chain.invoke({\"input\": input})"
   ]
  },
  {
   "cell_type": "code",
   "execution_count": 10,
   "metadata": {},
   "outputs": [],
   "source": [
    "import qdrant_client\n",
    "from qdrant_client.models import Distance, VectorParams, PointStruct\n",
    "\n",
    "# 初始化Qdrant客户端\n",
    "client = qdrant_client.QdrantClient(\"http://localhost:6333\")  # Qdrant地址可能需要调整\n",
    "\n",
    "\n",
    "# 第一个循环：处理第三层节点\n",
    "summary_for_titles = {}\n",
    "for report, titles in Tree.items():\n",
    "    for title, text_chunks in titles.items():\n",
    "        collection_name = (report + title).replace(\" \", \"_\")\n",
    "        \n",
    "        # create collection\n",
    "        try:\n",
    "            if client.get_collection(collection_name=collection_name):\n",
    "                client.delete_collection(collection_name=collection_name)\n",
    "        except Exception:\n",
    "            pass \n",
    "\n",
    "        client.create_collection(\n",
    "            collection_name=collection_name,\n",
    "            vectors_config=VectorParams(size=384, distance=Distance.DOT),\n",
    "        )\n",
    "\n",
    "        for idx, text_chunk in enumerate(text_chunks):\n",
    "            if text_chunk:\n",
    "                embedding = model.encode(text_chunk)\n",
    "                client.upsert(\n",
    "                    collection_name=collection_name,\n",
    "                    points=[\n",
    "                        PointStruct(\n",
    "                            id=idx, \n",
    "                            vector=embedding,\n",
    "                            payload={\"text\": text_chunk}\n",
    "                        )\n",
    "                    ]\n",
    "                )\n",
    "        \n",
    "        text_chunk_infos = \": \".join(text_chunks)\n",
    "        summary_for_title=chain.invoke({\"input\": text_chunk_infos})\n",
    "        summary_for_titles.update({collection_name:summary_for_title})\n",
    "    \n"
   ]
  },
  {
   "cell_type": "code",
   "execution_count": 11,
   "metadata": {},
   "outputs": [
    {
     "data": {
      "text/plain": [
       "{'Everpix_End_of_Year_2011_ReportEverpix_Proof_of_Concept': 'The Everpix project was initiated in April 2011, gained momentum over the summer, and was officially unveiled at TechCrunch Disrupt San Francisco in early September 2011.',\n",
       " 'Everpix_End_of_Year_2011_ReportEverpix_Private_Alpha': \"Everpix started allowing external users to register after TechCrunch Disrupt, with the primary goals of testing the system, moving photos to the cloud seamlessly, and validating users' willingness to import all their photos. During the Private Alpha phase, around 5,000 users registered, with 2,500 creating accounts and 2,080 importing photos. The majority of photos were imported from Mac computers. The Mac Uploader was used by 732 users, with an estimated 500 to 600 daily users. Everpix achieved its goals with early adopters, but faced challenges with Google App Engine's responsiveness, data corruption, and cost control. Despite building important features like the Mac Uploader and duplicate photo detection, the limitations of Google App Engine posed significant obstacles for Everpix's infrastructure optimization.\",\n",
       " 'Everpix_End_of_Year_2011_ReportEverpix_Public_Beta': 'Everpix announced a Public Beta version with improvements over the Alpha version, allowing anyone to create an account. The main change is a new back-end infrastructure. The iPhone app was submitted to the App Store for testing, aiming to gather feedback and validate their vision. Despite not seeking publicity, they received unexpected coverage on TechCrunch and MacGeneration, leading to a surge in users and photo imports. This influx caused their infrastructure to slow down, prompting a temporary halt in new registrations to address the scaling issues. The focus remains on product development and testing rather than acquiring users or generating buzz. The goal is to validate their vision through user feedback and testing.',\n",
       " 'Everpix_End_of_Year_2011_ReportBack_End_Infrastructure': 'The Everpix Public Beta underwent a major change in its back end infrastructure, moving to Tornado & MySQL on Amazon Web Services to address previous issues and gain independence from external vendors. This re-engineering allowed for improvements in design, such as better color matching and scaling of imported photos, as well as the addition of enhanced analytics. However, the new infrastructure does not scale for free like Google App Engine did, requiring the hiring of an experienced back end engineer for proper scaling. Despite initial challenges, the system can now handle 1 to 2 million new photos per day. While there is more user analytics available, the rocky launch may have impacted user behavior, with some users unlikely to return due to initial issues with account creation and photo importing.',\n",
       " 'Everpix_End_of_Year_2011_ReportMajor_Risks': 'The main risks identified early in the Everpix project are not related to user acquisition, conversion to paying customers, or brand awareness. Instead, the key concerns are: 1. Ensuring successful recruitment to build the necessary team. 2. Delivering Everpix 1.0 with its innovative photo collection navigation, unique assisted curation, and software for major platforms. 3. Establishing a cost-effective infrastructure capable of handling a potentially large volume of photos and associated metadata for the next 10-12 months.',\n",
       " 'Everpix_End_of_Year_2011_ReportRecruiting': 'The company has been actively recruiting since early December, using both in-house efforts and three recruiters who charge a 20% fee. They receive resumes daily, conduct phone interviews weekly, and bring promising candidates on-site, but have not had much luck finding the right talent. The open positions include an Android developer, Windows developer, back-end engineer, and iOS engineer. Their only successful hire so far is Jason Eberle, a web developer who joined in November and is now rebuilding the website with new features and Internet Explorer support. Despite having the financial resources, finding suitable talent is challenging, making recruiting the top risk for the company.',\n",
       " 'Everpix_End_of_Year_2011_ReportFinances': \"The text discusses a company's financial situation, focusing on expenses exceeding the budgeted amount due to higher lawyer fees and unexpected hiring. It mentions the use of convertible notes for funding, with details on expenses such as legal fees, government fees, and personal compensation. The company plans to use funds from a second convertible note for the next six months, anticipating increased expenses due to hiring. The text also mentions the company's goal of acquiring paying customers after the public beta release of Everpix, with plans to adjust co-founders' salaries to market rates. The company is based in San Francisco and is focused on feature building and revenue generation. Adjustments in salaries are planned after completing work on Everpix Private Alpha and starting on Everpix Public Beta.\",\n",
       " 'Everpix_End_of_Year_2011_ReportNext_Goals': 'The upcoming milestone for Everpix this summer includes transitioning from Public Beta to an initial release reflecting their vision, launching an Android client and Windows uploader (subject to successful recruitment efforts), and introducing premium subscriptions to users. The timeline for these goals is estimated to be around a year, which is considered reasonable given the ambitious nature of the project.',\n",
       " 'Everpix_End_of_Year_2011_ReportConclusion': 'In the past 4 months, Everpix has seen success with its Private Alpha launch, and the Public Beta is now available to attract more testers despite being incomplete. The focus for the next 6 months is to improve the product to reflect the Everpix vision and prepare for promotion. Recruitment is identified as a primary risk currently. The company aims to secure a Series A funding round in the upcoming summer if everything goes according to plan.',\n",
       " 'Everpix_October_2012_ReportHigh_Level': 'The company has hired a full-time on-site marketing/user growth consultant and is actively looking for a PR firm for their upcoming \"real launch.\" Everpix 1.1 is in good shape for the launch, and the Windows Uploader has been sent to the first batch of external testers. Key Performance Indicators (KPIs) have been defined, and tracking has begun as of November 1st.',\n",
       " 'Everpix_October_2012_ReportUsers_and_Subscriptions': 'The company has seen a slight increase in new users this month, with 300 virtual users added. They currently have almost 500 subscribed users, with 80% on yearly subscriptions. The subscriptions have generated $6,121.88 in September and $6,351.95 in October. Infrastructure costs for October were $8,438, lower than in September due to not running Everpix Beta. The company has identified opportunities to reduce infrastructure costs further in the future. It is noted that the numbers may not match the Profit & Loss statement due to payment processing delays and do not include iTunes Store subscriptions. The company has not yet done a PR push, so growth is still organic and many people are not aware of the service.',\n",
       " 'Everpix_October_2012_ReportUser_Growth_&_Marketing': 'After an extensive 45-day search using multiple recruiters and online job boards, Everpix was unable to find an ideal candidate with the required experience in early-stage startups and the photo space industry for driving user growth and marketing. Despite reviewing over 100 resumes and conducting multiple on-site interviews, the search was unsuccessful. The company, which has been primarily focused on product building, has decided to shift its focus to user growth and marketing. Recognizing the need to make progress in this area, Everpix has opted to hire a full-time marketing/PR/user growth contractor on-site for a temporary period to kickstart the necessary work, including establishing product messaging and KPIs. This decision was made to avoid further delays in moving forward with their growth and marketing strategies.',\n",
       " 'Everpix_October_2012_ReportKey_Performance_Indicators': 'The new team member for user growth & marketing has been tasked with defining key performance indicators (KPIs) to track progress over the next 6 months. A list of 10 KPIs has been established and tracking began on November 1st. The team acknowledges the need for improvement, especially in areas like out-of-box experience and conversion funnels that were previously unexplored due to bandwidth constraints. The next phase involves the contractor taking specific actions to enhance the KPIs.',\n",
       " 'Everpix_October_2012_ReportReal_Launch_Update': 'The text discusses the readiness of Everpix for launch, highlighting the unique features that differentiate it from other platforms like Flickr or SmugMug. The main challenge faced currently is finalizing the product messaging and selecting a suitable PR firm for the launch. Despite considering multiple PR agencies, finding one that truly understands the needs of early-stage startups like Everpix has proven difficult. The company is eager to launch soon as they offer a comprehensive photo solution not available elsewhere. However, the lack of a chosen PR agency is delaying the decision on an official launch date. Contingency plans are being developed to ensure that the launch opportunity is not missed.',\n",
       " 'Everpix_October_2012_ReportExplore_Photos_by_Similarity': 'Everpix has introduced an experimental feature for subscribed users on their website called \"searching photos by likeness\" or \"finding similar photos.\" This feature allows users to rediscover their photo collection in a unique way, offering an interaction not found on other photo platforms. It is recommended for users with over 5,000 photos in their collection to try out this feature, which can be found at the bottom of the Everpix home page after signing in. The feature will be enabled for all Everpix accounts once it has been fine-tuned.',\n",
       " 'Everpix_October_2012_ReportNew_iPhone_and_iPad_Apps_with_Highlights_View': \"New iPhone and iPad apps featuring a brand new Highlights view have been submitted for review on the App Store and are expected to be released the week of 11/12. These versions are aligned with Everpix's vision for mobile platforms and will be the initial launch versions.\",\n",
       " 'Everpix_October_2012_ReportWindows_Uploader_in_Beta': 'The Windows Uploader version 0.9 has been sent to beta testers, allowing users to sync photos from default and custom folders, but with limitations such as no support for photo libraries like Picasa or Lightroom and external hard drives. These limitations are not critical for Windows users currently, and future versions will address them. The goal is to release version 1.0 after beta testing to be part of the official launch.',\n",
       " 'Everpix_April_2013_ReportHigh_Level': 'Index Ventures led the first closing of a $1 million bridge funding round, with $500,000 already wired. Over 40 million full-resolution photos were synced, resulting in $14,000 in sales. Infrastructure expenses are decreasing. The focus is on improving user retention, conversion rates, and early preparation for a Series A funding round.',\n",
       " 'Everpix_April_2013_ReportUsers_and_Subscriptions': 'The company experienced no PR effect this month, leading to a shift back to word-of-mouth user acquisition. Despite this, there were 2,600 new signups, bringing the total subscribers to 2,850. The overall subscription rate remains stable at 10%, which is considered above average in the Freemium industry. Users who sync 1,000+ photos have a subscription rate close to 20%. A performance issue was identified with the visit to sign-up rate on the website, leading to A/B testing with a new design featuring a short auto-play video, which did not improve conversion rates. An invite feature for Everpix Free users was introduced, offering bonus months to users who invite friends and meet certain criteria. While these methods are common in Freemium products, they will require ongoing adjustments to suit the user base and usage patterns.',\n",
       " 'Everpix_April_2013_ReportInfrastructure_Costs': 'Last month, cost-saving measures were successfully implemented by utilizing cheap unused EC2 capacity for image analysis and view (re)computation, reducing the bill from several thousand dollars to $630. While there are other areas in the system where cost optimizations can be made, 85% of infrastructure costs are related to storage (photos and metadata) on AWS, limiting potential savings. In the long term, moving out of AWS and into custom data centers is planned to generate substantial savings, albeit with upfront capital expenses. This transition is expected to address the limitations of cost optimization on AWS and provide more control over costs.',\n",
       " 'Everpix_April_2013_ReportProduct_Positioning_Work': \"The work with Julie Supan is progressing well and is expected to be completed by mid-June. However, it is too early to share any details about the progress. This work with Julie Supan is the final step in preparation for the company's Series A funding round.\"}"
      ]
     },
     "execution_count": 11,
     "metadata": {},
     "output_type": "execute_result"
    }
   ],
   "source": [
    "summary_for_titles"
   ]
  },
  {
   "cell_type": "code",
   "execution_count": 48,
   "metadata": {},
   "outputs": [
    {
     "name": "stdout",
     "output_type": "stream",
     "text": [
      "Everpix, a photo management project, started in 2011 with a Proof of Concept and later moved to a Private Alpha phase, facing challenges with Google App Engine. The project then transitioned to a Public Beta with a new back-end infrastructure, experiencing unexpected user growth and infrastructure scaling issues. The company focused on product development and testing, aiming to validate its vision through user feedback. Everpix underwent a major change in its back-end infrastructure, moving to Tornado & MySQL on Amazon Web Services. The company faced challenges in recruiting the necessary talent and managing finances, with expenses exceeding the budgeted amount. The next goals for Everpix include transitioning to an initial release, launching an Android client and Windows uploader, and introducing premium subscriptions. The company aims to secure a Series A funding round in the upcoming summer. Despite facing challenges, Everpix has seen success with its Private Alpha launch and is focused on improving the product and preparing for promotion in the next 6 months.\n",
      "Everpix is preparing for a \"real launch\" by hiring a marketing/user growth consultant and seeking a PR firm. The company has seen an increase in new users and subscriptions, generating revenue from subscriptions. They aim to reduce infrastructure costs and have identified opportunities for improvement. Despite challenges in finding a suitable candidate for user growth and marketing, they have hired a temporary contractor to kickstart these efforts. Key Performance Indicators have been defined, and tracking has begun. The company is finalizing product messaging and selecting a PR firm for the launch. They have introduced new features like searching photos by likeness and are releasing new iPhone and iPad apps. The Windows Uploader has been sent to beta testers, with plans for future improvements. The company is eager to launch but faces delays due to the PR firm selection process. Contingency plans are being developed to ensure a successful launch.\n",
      "Index Ventures led the first closing of a $1 million bridge funding round, with $500,000 already wired. Over 40 million full-resolution photos were synced, resulting in $14,000 in sales. Infrastructure expenses are decreasing, with a focus on improving user retention, conversion rates, and preparing for a Series A funding round. The company saw 2,600 new signups, bringing total subscribers to 2,850, with a stable subscription rate of 10%. Users who sync 1,000+ photos have a subscription rate close to 20%. Cost-saving measures were implemented by utilizing cheap unused EC2 capacity, reducing costs from several thousand dollars to $630. The company plans to move out of AWS into custom data centers for long-term cost savings. Product positioning work with Julie Supan is progressing well and is expected to be completed by mid-June, in preparation for the Series A funding round. A performance issue was identified with the visit to sign-up rate on the website, leading to A/B testing with a new design featuring a short auto-play video, which did not improve conversion rates. An invite feature for Everpix Free users was introduced to boost user acquisition.\n"
     ]
    }
   ],
   "source": [
    "# 第二个循环：处理第二层节点\n",
    "summary_for_reports = {}\n",
    "for report, titles in Tree.items():\n",
    "    collection_name = report.replace(\" \", \"_\")\n",
    "\n",
    "    report_infos = []\n",
    "    \n",
    "    try:\n",
    "            if client.get_collection(collection_name=collection_name):\n",
    "                client.delete_collection(collection_name=collection_name)\n",
    "    except Exception:\n",
    "            pass \n",
    "    \n",
    "    client.create_collection(\n",
    "        collection_name=collection_name,\n",
    "        vectors_config=VectorParams(size=384, distance=Distance.DOT),\n",
    "    )\n",
    "    for idx, (title, text_chunks) in enumerate(titles.items()):\n",
    "        children_collection_name=(report + title).replace(\" \", \"_\")\n",
    "        report_info = title + ': ' + summary_for_titles[children_collection_name]\n",
    "        embedding = model.encode(report_info)\n",
    "        client.upsert(\n",
    "            collection_name=collection_name,\n",
    "            points=[\n",
    "                PointStruct(\n",
    "                    id=idx,  \n",
    "                    vector=embedding,\n",
    "                    payload={\"text\": report_info, \"children_collection_name\":children_collection_name}\n",
    "                )\n",
    "            ]\n",
    "        )\n",
    "        report_infos.append(report_info)\n",
    "    \n",
    "    report_infos = \"; \".join(report_infos)\n",
    "    summary_for_report=chain.invoke({\"input\": report_infos})\n",
    "    print(summary_for_report)\n",
    "    summary_for_reports.update({report:summary_for_report})\n"
   ]
  },
  {
   "cell_type": "code",
   "execution_count": 49,
   "metadata": {},
   "outputs": [
    {
     "name": "stdout",
     "output_type": "stream",
     "text": [
      "201100\n",
      "201201\n"
     ]
    }
   ],
   "source": [
    "import re\n",
    "\n",
    "def extract_and_format_date(text):\n",
    "    # 正则表达式匹配月份和年份\n",
    "    pattern = r'(?:(\\w+)\\s+)?(\\d{4})'\n",
    "    \n",
    "    # 定义月份映射\n",
    "    months = {\n",
    "        'January': '01', 'February': '02', 'March': '03', 'April': '04',\n",
    "        'May': '05', 'June': '06', 'July': '07', 'August': '08',\n",
    "        'September': '09', 'October': '10', 'November': '11', 'December': '12'\n",
    "    }\n",
    "    \n",
    "    match = re.search(pattern, text)\n",
    "    \n",
    "    if match:\n",
    "        month = match.group(1)\n",
    "        year = match.group(2)\n",
    "        \n",
    "        if month:\n",
    "            month = months.get(month, '00')  # 如果月份不在映射中，默认为00\n",
    "        else:\n",
    "            month = '00'\n",
    "        \n",
    "        return f\"{year}{month}\"\n",
    "    \n",
    "    return None  # 如果没有匹配到任何日期\n",
    "\n",
    "# 测试函数\n",
    "texts = [\n",
    "    'Everpix End of Year 2011 Report',\n",
    "    'Everpix January 2012 Report'\n",
    "]\n",
    "\n",
    "for text in texts:\n",
    "    print(extract_and_format_date(text))\n"
   ]
  },
  {
   "cell_type": "code",
   "execution_count": 50,
   "metadata": {},
   "outputs": [],
   "source": [
    "collection_name = 'EverpixInvestorReport'\n",
    "\n",
    "try:\n",
    "    if client.get_collection(collection_name=collection_name):\n",
    "        client.delete_collection(collection_name=collection_name)\n",
    "except Exception:\n",
    "    pass \n",
    "\n",
    "client.create_collection(\n",
    "    collection_name=collection_name,\n",
    "    vectors_config=VectorParams(size=384, distance=Distance.DOT),\n",
    ")\n",
    "\n",
    "for idx, (report, summary_for_report) in enumerate(summary_for_reports.items()):  \n",
    "    children_collection_name=report.replace(\" \", \"_\")\n",
    "    summary_for_report = report + ': ' + summary_for_report\n",
    "    embedding = model.encode(summary_for_report)\n",
    "    client.upsert(\n",
    "        collection_name=collection_name,\n",
    "        points=[\n",
    "            PointStruct(\n",
    "                id=idx,  \n",
    "                vector=embedding,\n",
    "                payload={\"text\": summary_for_report, \"time\": extract_and_format_date(report), \"children_collection_name\":children_collection_name}\n",
    "            )\n",
    "        ]\n",
    "    )"
   ]
  },
  {
   "cell_type": "markdown",
   "metadata": {},
   "source": [
    "### Tree Retrival"
   ]
  },
  {
   "cell_type": "code",
   "execution_count": 51,
   "metadata": {},
   "outputs": [],
   "source": [
    "query=\"How many new users are there in October, 2012?\""
   ]
  },
  {
   "cell_type": "code",
   "execution_count": 52,
   "metadata": {},
   "outputs": [
    {
     "data": {
      "text/plain": [
       "'201210'"
      ]
     },
     "execution_count": 52,
     "metadata": {},
     "output_type": "execute_result"
    }
   ],
   "source": [
    "prompt = ChatPromptTemplate.from_messages([\n",
    "    (\"system\", \"Find the year and month from the input text, return it in YYYYMM format. If the month is not found, then return YYYY00\"),\n",
    "    (\"user\", \"{input}\")\n",
    "])\n",
    "\n",
    "get_time_chain = prompt | llm | output_parser\n",
    "time=get_time_chain.invoke({\"input\":query})\n",
    "time"
   ]
  },
  {
   "cell_type": "code",
   "execution_count": 53,
   "metadata": {},
   "outputs": [],
   "source": [
    "from qdrant_client import models\n",
    "\n",
    "embedding = model.encode(query)\n",
    "collection_name='EverpixInvestorReport'\n",
    "\n",
    "result_report=client.search(\n",
    "    collection_name=f\"{collection_name}\",\n",
    "    query_filter=models.Filter(\n",
    "        must=[\n",
    "            models.FieldCondition(\n",
    "                key=\"time\",\n",
    "                match=models.MatchValue(\n",
    "                    value=time\n",
    "                ),\n",
    "            )\n",
    "        ]\n",
    "    ),\n",
    "    search_params=models.SearchParams(hnsw_ef=128, exact=False),\n",
    "    query_vector=embedding,\n",
    "    limit=3,\n",
    ")"
   ]
  },
  {
   "cell_type": "code",
   "execution_count": 54,
   "metadata": {},
   "outputs": [
    {
     "name": "stdout",
     "output_type": "stream",
     "text": [
      "Everpix_October_2012_Report\n",
      "Everpix October 2012 Report: Everpix is preparing for a \"real launch\" by hiring a marketing/user growth consultant and seeking a PR firm. The company has seen an increase in new users and subscriptions, generating revenue from subscriptions. They aim to reduce infrastructure costs and have identified opportunities for improvement. Despite challenges in finding a suitable candidate for user growth and marketing, they have hired a temporary contractor to kickstart these efforts. Key Performance Indicators have been defined, and tracking has begun. The company is finalizing product messaging and selecting a PR firm for the launch. They have introduced new features like searching photos by likeness and are releasing new iPhone and iPad apps. The Windows Uploader has been sent to beta testers, with plans for future improvements. The company is eager to launch but faces delays due to the PR firm selection process. Contingency plans are being developed to ensure a successful launch.\n"
     ]
    }
   ],
   "source": [
    "collection_name_report=result_report[0].payload['children_collection_name']\n",
    "print(collection_name_report)\n",
    "report_summary=result_report[0].payload['text']\n",
    "print(report_summary)"
   ]
  },
  {
   "cell_type": "code",
   "execution_count": 55,
   "metadata": {},
   "outputs": [],
   "source": [
    "result_title=client.search(\n",
    "    collection_name=f\"{collection_name_report}\",\n",
    "    search_params=models.SearchParams(hnsw_ef=128, exact=False),\n",
    "    query_vector=embedding,\n",
    "    limit=3,\n",
    ")"
   ]
  },
  {
   "cell_type": "code",
   "execution_count": 56,
   "metadata": {},
   "outputs": [
    {
     "name": "stdout",
     "output_type": "stream",
     "text": [
      "Everpix_October_2012_ReportUsers_and_Subscriptions\n",
      "Users and Subscriptions: The company has seen a slight increase in new users this month, with 300 virtual users added. They currently have almost 500 subscribed users, with 80% on yearly subscriptions. The subscriptions have generated $6,121.88 in September and $6,351.95 in October. Infrastructure costs for October were $8,438, lower than in September due to not running Everpix Beta. The company has identified opportunities to reduce infrastructure costs further in the future. It is noted that the numbers may not match the Profit & Loss statement due to payment processing delays and do not include iTunes Store subscriptions. The company has not yet done a PR push, so growth is still organic and many people are not aware of the service.\n"
     ]
    }
   ],
   "source": [
    "collection_name_title=result_title[0].payload['children_collection_name']\n",
    "print(collection_name_title)\n",
    "title_summary=result_title[0].payload['text']\n",
    "print(title_summary)"
   ]
  },
  {
   "cell_type": "code",
   "execution_count": 57,
   "metadata": {},
   "outputs": [],
   "source": [
    "result_text_chunk=client.search(\n",
    "    collection_name=f\"{collection_name_title}\",\n",
    "    search_params=models.SearchParams(hnsw_ef=128, exact=False),\n",
    "    query_vector=embedding,\n",
    "    limit=3,\n",
    ")"
   ]
  },
  {
   "cell_type": "code",
   "execution_count": 58,
   "metadata": {},
   "outputs": [
    {
     "name": "stdout",
     "output_type": "stream",
     "text": [
      "Not many new users this month (+700) but keep in mind growth is still organic as we have not done our PR push (very few people still know about us). In terms of early virality metrics, there were 300 virtual users added (i.e. recipients of Photo Mails who are not Everpix users yet).\n"
     ]
    }
   ],
   "source": [
    "text_chunk=result_text_chunk[0].payload['text']\n",
    "print(text_chunk)"
   ]
  },
  {
   "cell_type": "code",
   "execution_count": 59,
   "metadata": {},
   "outputs": [],
   "source": [
    "query=\"What's the progress of Everpix on Back End in October, 2012?\""
   ]
  },
  {
   "cell_type": "code",
   "execution_count": 60,
   "metadata": {},
   "outputs": [
    {
     "name": "stdout",
     "output_type": "stream",
     "text": [
      "[ScoredPoint(id=1, version=1, score=0.60898745, payload={'children_collection_name': 'Everpix_October_2012_Report', 'text': 'Everpix October 2012 Report: Everpix is preparing for a \"real launch\" by hiring a marketing/user growth consultant and seeking a PR firm. The company has seen an increase in new users and subscriptions, generating revenue from subscriptions. They aim to reduce infrastructure costs and have identified opportunities for improvement. Despite challenges in finding a suitable candidate for user growth and marketing, they have hired a temporary contractor to kickstart these efforts. Key Performance Indicators have been defined, and tracking has begun. The company is finalizing product messaging and selecting a PR firm for the launch. They have introduced new features like searching photos by likeness and are releasing new iPhone and iPad apps. The Windows Uploader has been sent to beta testers, with plans for future improvements. The company is eager to launch but faces delays due to the PR firm selection process. Contingency plans are being developed to ensure a successful launch.', 'time': '201210'}, vector=None, shard_key=None, order_value=None)]\n",
      "[ScoredPoint(id=0, version=0, score=0.656795, payload={'children_collection_name': 'Everpix_October_2012_ReportHigh_Level', 'text': 'High Level: The company has hired a full-time on-site marketing/user growth consultant and is actively looking for a PR firm for their upcoming \"real launch.\" Everpix 1.1 is in good shape for the launch, and the Windows Uploader has been sent to the first batch of external testers. Key Performance Indicators (KPIs) have been defined, and tracking has begun as of November 1st.'}, vector=None, shard_key=None, order_value=None), ScoredPoint(id=4, version=4, score=0.6349735, payload={'children_collection_name': 'Everpix_October_2012_ReportReal_Launch_Update', 'text': 'Real Launch Update: The text discusses the readiness of Everpix for launch, highlighting the unique features that differentiate it from other platforms like Flickr or SmugMug. The main challenge faced currently is finalizing the product messaging and selecting a suitable PR firm for the launch. Despite considering multiple PR agencies, finding one that truly understands the needs of early-stage startups like Everpix has proven difficult. The company is eager to launch soon as they offer a comprehensive photo solution not available elsewhere. However, the lack of a chosen PR agency is delaying the decision on an official launch date. Contingency plans are being developed to ensure that the launch opportunity is not missed.'}, vector=None, shard_key=None, order_value=None), ScoredPoint(id=2, version=2, score=0.51912594, payload={'children_collection_name': 'Everpix_October_2012_ReportUser_Growth_&_Marketing', 'text': 'User Growth & Marketing: After an extensive 45-day search using multiple recruiters and online job boards, Everpix was unable to find an ideal candidate with the required experience in early-stage startups and the photo space industry for driving user growth and marketing. Despite reviewing over 100 resumes and conducting multiple on-site interviews, the search was unsuccessful. The company, which has been primarily focused on product building, has decided to shift its focus to user growth and marketing. Recognizing the need to make progress in this area, Everpix has opted to hire a full-time marketing/PR/user growth contractor on-site for a temporary period to kickstart the necessary work, including establishing product messaging and KPIs. This decision was made to avoid further delays in moving forward with their growth and marketing strategies.'}, vector=None, shard_key=None, order_value=None)]\n",
      "* Hired a full-time and on-site marketing / user growth consultant. * Actively searching for PR firm to handle our “real launch”. * Everpix 1.1 looking good for our “real launch”. * Windows Uploader just sent to first batch of external testers. * KPIs are defined and tracking started as of November 1st\n"
     ]
    }
   ],
   "source": [
    "time=get_time_chain.invoke({\"input\":query})\n",
    "\n",
    "embedding = model.encode(query)\n",
    "collection_name='EverpixInvestorReport'\n",
    "\n",
    "result_report=client.search(\n",
    "    collection_name=f\"{collection_name}\",\n",
    "    query_filter=models.Filter(\n",
    "        must=[\n",
    "            models.FieldCondition(\n",
    "                key=\"time\",\n",
    "                match=models.MatchValue(\n",
    "                    value=time\n",
    "                ),\n",
    "            )\n",
    "        ]\n",
    "    ),\n",
    "    search_params=models.SearchParams(hnsw_ef=128, exact=False),\n",
    "    query_vector=embedding,\n",
    "    limit=3,\n",
    ")\n",
    "print(result_report)\n",
    "collection_name_report=result_report[0].payload['children_collection_name']\n",
    "report_summary=result_report[0].payload['text']\n",
    "\n",
    "result_title=client.search(\n",
    "    collection_name=f\"{collection_name_report}\",\n",
    "    search_params=models.SearchParams(hnsw_ef=128, exact=False),\n",
    "    query_vector=embedding,\n",
    "    limit=3,\n",
    ")\n",
    "print(result_title)\n",
    "collection_name_title=result_title[0].payload['children_collection_name']\n",
    "title_summary=result_title[0].payload['text']\n",
    "\n",
    "result_text_chunk=client.search(\n",
    "    collection_name=f\"{collection_name_title}\",\n",
    "    search_params=models.SearchParams(hnsw_ef=128, exact=False),\n",
    "    query_vector=embedding,\n",
    "    limit=3,\n",
    ")\n",
    "\n",
    "text_chunk=result_text_chunk[0].payload['text']\n",
    "print(text_chunk)"
   ]
  },
  {
   "cell_type": "code",
   "execution_count": null,
   "metadata": {},
   "outputs": [],
   "source": [
    "[\n",
    "    ScoredPoint(\n",
    "        id=1,\n",
    "        version=1,\n",
    "        score=0.60898745,\n",
    "        payload={\n",
    "            \"children_collection_name\": \"Everpix_October_2012_Report\",\n",
    "            \"text\": 'Everpix October 2012 Report: Everpix is preparing for a \"real launch\" by hiring a marketing/user growth consultant and seeking a PR firm. The company has seen an increase in new users and subscriptions, generating revenue from subscriptions. They aim to reduce infrastructure costs and have identified opportunities for improvement. Despite challenges in finding a suitable candidate for user growth and marketing, they have hired a temporary contractor to kickstart these efforts. Key Performance Indicators have been defined, and tracking has begun. The company is finalizing product messaging and selecting a PR firm for the launch. They have introduced new features like searching photos by likeness and are releasing new iPhone and iPad apps. The Windows Uploader has been sent to beta testers, with plans for future improvements. The company is eager to launch but faces delays due to the PR firm selection process. Contingency plans are being developed to ensure a successful launch.',\n",
    "            \"time\": \"201210\",\n",
    "        },\n",
    "        vector=None,\n",
    "        shard_key=None,\n",
    "        order_value=None,\n",
    "    )\n",
    "]\n",
    "[\n",
    "    ScoredPoint(\n",
    "        id=0,\n",
    "        version=0,\n",
    "        score=0.656795,\n",
    "        payload={\n",
    "            \"children_collection_name\": \"Everpix_October_2012_ReportHigh_Level\",\n",
    "            \"text\": 'High Level: The company has hired a full-time on-site marketing/user growth consultant and is actively looking for a PR firm for their upcoming \"real launch.\" Everpix 1.1 is in good shape for the launch, and the Windows Uploader has been sent to the first batch of external testers. Key Performance Indicators (KPIs) have been defined, and tracking has begun as of November 1st.',\n",
    "        },\n",
    "        vector=None,\n",
    "        shard_key=None,\n",
    "        order_value=None,\n",
    "    ),\n",
    "    ScoredPoint(\n",
    "        id=4,\n",
    "        version=4,\n",
    "        score=0.6349735,\n",
    "        payload={\n",
    "            \"children_collection_name\": \"Everpix_October_2012_ReportReal_Launch_Update\",\n",
    "            \"text\": \"Real Launch Update: The text discusses the readiness of Everpix for launch, highlighting the unique features that differentiate it from other platforms like Flickr or SmugMug. The main challenge faced currently is finalizing the product messaging and selecting a suitable PR firm for the launch. Despite considering multiple PR agencies, finding one that truly understands the needs of early-stage startups like Everpix has proven difficult. The company is eager to launch soon as they offer a comprehensive photo solution not available elsewhere. However, the lack of a chosen PR agency is delaying the decision on an official launch date. Contingency plans are being developed to ensure that the launch opportunity is not missed.\",\n",
    "        },\n",
    "        vector=None,\n",
    "        shard_key=None,\n",
    "        order_value=None,\n",
    "    ),\n",
    "    ScoredPoint(\n",
    "        id=2,\n",
    "        version=2,\n",
    "        score=0.51912594,\n",
    "        payload={\n",
    "            \"children_collection_name\": \"Everpix_October_2012_ReportUser_Growth_&_Marketing\",\n",
    "            \"text\": \"User Growth & Marketing: After an extensive 45-day search using multiple recruiters and online job boards, Everpix was unable to find an ideal candidate with the required experience in early-stage startups and the photo space industry for driving user growth and marketing. Despite reviewing over 100 resumes and conducting multiple on-site interviews, the search was unsuccessful. The company, which has been primarily focused on product building, has decided to shift its focus to user growth and marketing. Recognizing the need to make progress in this area, Everpix has opted to hire a full-time marketing/PR/user growth contractor on-site for a temporary period to kickstart the necessary work, including establishing product messaging and KPIs. This decision was made to avoid further delays in moving forward with their growth and marketing strategies.\",\n",
    "        },\n",
    "        vector=None,\n",
    "        shard_key=None,\n",
    "        order_value=None,\n",
    "    ),\n",
    "]"
   ]
  },
  {
   "cell_type": "code",
   "execution_count": null,
   "metadata": {},
   "outputs": [],
   "source": [
    "\"\"\"* Hired a full-time and on-site marketing / user growth consultant. \n",
    "* Actively searching for PR firm to handle our “real launch”. \n",
    "* Everpix 1.1 looking good for our “real launch”. \n",
    "* Windows Uploader just sent to first batch of external testers. \n",
    "* KPIs are defined and tracking started as of November 1st\n",
    "\"\"\""
   ]
  }
 ],
 "metadata": {
  "kernelspec": {
   "display_name": ".venv",
   "language": "python",
   "name": "python3"
  },
  "language_info": {
   "codemirror_mode": {
    "name": "ipython",
    "version": 3
   },
   "file_extension": ".py",
   "mimetype": "text/x-python",
   "name": "python",
   "nbconvert_exporter": "python",
   "pygments_lexer": "ipython3",
   "version": "3.11.9"
  }
 },
 "nbformat": 4,
 "nbformat_minor": 2
}
