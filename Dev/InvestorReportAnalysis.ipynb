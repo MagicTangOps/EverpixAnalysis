{
 "cells": [
  {
   "cell_type": "markdown",
   "metadata": {},
   "source": [
    "### Load data"
   ]
  },
  {
   "cell_type": "code",
   "execution_count": 7,
   "metadata": {},
   "outputs": [],
   "source": [
    "import markdown\n",
    "with open('../Data/Investor Reports/2012-02.md', 'r', encoding='utf-8') as file:\n",
    "    content = file.read()\n",
    "\n",
    "html = markdown.markdown(content)"
   ]
  },
  {
   "cell_type": "code",
   "execution_count": 61,
   "metadata": {},
   "outputs": [
    {
     "name": "stdout",
     "output_type": "stream",
     "text": [
      "<h1>Everpix February 2012 Report</h1>\n",
      "<h2>High Level</h2>\n",
      "<ul>\n",
      "<li>2 new hires on the Everpix team</li>\n",
      "<li>Good engineering progress on all fronts</li>\n",
      "<li>Surprisingly as many photos imported in February than January (15 millions)</li>\n",
      "</ul>\n",
      "<h2>Hiring Update</h2>\n",
      "<p>We finally found a couple great candidates:</p>\n",
      "<ul>\n",
      "<li>Sameer Sundresh as Cloud Infrastructure Lead Engineer:</li>\n",
      "<li>http://www.linkedin.com/in/sameersundresh</li>\n",
      "<li>PhD in computer science, MemSQL, Rdio...</li>\n",
      "<li>Hired on February 13th</li>\n",
      "<li>George Leontiev as iOS Lead Engineer:</li>\n",
      "<li>http://www.linkedin.com/pub/george-leontiev/43/a28/194</li>\n",
      "<li>Apple engineer on iWork team</li>\n",
      "<li>Hired on March 5th</li>\n",
      "</ul>\n",
      "<p>Ideally, we would only hire people who are clearly more talented and experienced than us in specific areas: that’s what we did for Jason Eberle, our web engineer, and our new hire Sameer Sundresh. But when it comes to iOS development, we already have a very strong in-house experience, so it would be really difficult, very expensive and would take a long time to find such people. So instead, considering the core of the iOS app has been built, and most of the work is now focused on the UX layer (and later build the iPad version), we decided to look for a good iOS engineer for these specific tasks. In this very competitive market, we were fortunate enough to get George Leontiev before he really hit the market. His addition to the team will allow us to both continue building the iOS app at a good pace and also leave enough bandwidth to work on our image analysis research.</p>\n",
      "<p>Be aware that both candidates were found through recruiters which imply a ~20% fee of the yearly salary - refundable within the 2 or 3 months if the candidate doesn’t work out.</p>\n",
      "<p>The Everpix team is now 6 people and we are putting hiring on pause for now: we need to bring up to speed and properly mentor our new hires - and we also need to stay within our budget.</p>\n",
      "<h2>Infrastructure</h2>\n",
      "<ul>\n",
      "<li>We have fully terminated the Everpix Alpha infrastructure based on Google App Engine and deleted the corresponding 10+ millions photos.</li>\n",
      "<li>We are now fully based on Amazon Web Services (AWS).</li>\n",
      "<li>The estimated import capacity of 1 to 2 millions photos / day of the current infrastructure has been verified in practice with a few days in February successfully handled in this range.</li>\n",
      "<li>With our new dedicated infrastructure engineer, we started designing and building the version 3 of our infrastructure to lay the foundation for the new features we need and also allow us to handle our real launch later this summer.</li>\n",
      "</ul>\n",
      "<h2>Website</h2>\n",
      "<ul>\n",
      "<li>Our web engineer has been on a 2 months project to rebuild our entire website (which is really a web application) and the result should be publicly released later this month.</li>\n",
      "<li>The primary is goal is to design a clean and robust HTML5 architecture on which we can keep building for the rest of the year. The current website, although nice looking, is a patchwork resulting from early explorations (and it doesn’t work on Internet Explorer).</li>\n",
      "<li>We are also using this opportunity to streamline and polish a lot of the user interface.</li>\n",
      "<li>You can already try the new version today at https://new.everpix.net (warning: ongoing development version).</li>\n",
      "</ul>\n",
      "<h2>iOS Application</h2>\n",
      "<p>Our iOS app has been on the worldwide App Store and in the hands of early adopters for about a month, which provided us much better testing than we could have achieved on our own. The take out points so far are:</p>\n",
      "<ul>\n",
      "<li>16,000+ installs with the typical curve of a lots of downloads in the first few days then rapidly decreasing numbers (we were not doing any active PR either).</li>\n",
      "<li>3.5 / 5 average rating due to a number of 1 star ratings from people experiencing recurring crashes after some use from a few hours to a few days.</li>\n",
      "<li>At this point, by design, the app is effectively a companion app for users who already have their everpix.com account set up, services like Facebook connected and the Mac Uploader running. The unexpected PR following the release of the app did expose it to a number of new users who weren’t in this category and might understandably have been disappointed.</li>\n",
      "<li>That said, users who do match the target demographic seem to really enjoy the app according to reviews.</li>\n",
      "</ul>\n",
      "<h2>What’s next:</h2>\n",
      "<ul>\n",
      "<li>We have just submitted an update that should address stability issues, improves various parts of the UX and is faster on older iPhones.</li>\n",
      "<li>Our new iOS engineer will give us the resources to have the iOS app brought to parity with the website and make it really standalone.</li>\n",
      "</ul>\n",
      "<h2>Android Application</h2>\n",
      "<p>Since this is a critical part of our roadmap and we haven’t found great candidates so far, we have been refocusing on outsourcing the first implementation of the app. We are currently in discussion with outsourcing companies.</p>\n",
      "<p>To ensure we are able to properly evaluate and monitor the project as we have no in-house Android development knowledge, we hired as a consultant Cyril Mottier (http://www.linkedin.com/in/cyrilmottier) from France, one of the best Android experts out there.</p>\n",
      "<h2>Windows Uploader</h2>\n",
      "<p>Considering it is extremely hard to find Windows engineers (everyone wants to do mobile these days) and we have also reached our hiring limits for now, we have been exploring the foreign contractors route and have a couple interesting and affordable leads.</p>\n",
      "<h2>Budget Notes</h2>\n",
      "<ul>\n",
      "<li>The $5,000 entry in the Accounts Payable is the “free” credit negotiated with our lawyer firm mentioned in last month’s report.</li>\n",
      "<li>The AWS bill for the previous month typically arrives on the 3rd of the current month, so the infrastructure costs you see are actually for January, paid early February and reported to you in March!</li>\n",
      "</ul>\n",
      "<h2>New Graphs</h2>\n",
      "<p>You will find attached to this report 2 new graphs:</p>\n",
      "<ul>\n",
      "<li>One showing how much cash we have left in the bank updated on a weekly basis:</li>\n",
      "<li>The red line reflects the initial estimated budget which was designed to take us to the summer (July 1st).</li>\n",
      "<li>The extra length at the end of the red line is the cash reserve for unexpected expenses, but we would to get to Series A before that.</li>\n",
      "<li>One showing the number of users and photos inside the Everpix infrastructure: this is just so you have an idea of what we are dealing with, but don’t read much into it at this point.</li>\n",
      "</ul>\n",
      "<h2>Strategy Reminder</h2>\n",
      "<p>We feel it’s important to remind everyone our current strategy until this summer (the same explained in the 2011 end of year report): at this point, we are not focused on user growth / retention nor trying to get new users. We simply do not have a product worthy of it: we have built some parts but there is still much left to do, and we are nowhere close to something we can charge for. This has always been an ambitious software project and it will take about a year to execute, which takes us to this summer for a 1.0.</p>\n",
      "<p>Even if we wanted to do user growth now, we couldn't handle it: while getting about new 10,000 users since January 1st (due mostly to unexpected TechCrunch articles written about Everpix), not even all of them importing photos, even fewer being able to use the Mac Uploader because on Windows, we had a peak at 6 M+ photos in a day, another one at 2.5 M+, and several days at 1 M+. For reference, Flickr imports 3.5M / day (http://www.betabeat.com/2012/02/21/flickr-is-getting-a-major-makeover/). Clearly, we don’t expect to do 1 B photos a year like Flickr, but we are already in the same daily range now and then <em>without</em> any real launch, PR or user base.</p>\n",
      "<p>In case you are wondering, we still need to be accepting new registrations at www.everpix.com because of the iPhone app which Apple won't approve if arbitrary users can't create accounts. And we do need a few thousands testers on it, which is completely not do-able using ad-hoc distribution.</p>\n",
      "<p>To summarize, what we really care about at this point:</p>\n",
      "<ul>\n",
      "<li>Building the core team (which should be much closer with 2 recent hires) and making sure it reaches its full potential fast.</li>\n",
      "<li>Executing the core vision for the front-ends (Web, iOS, Android) and converging to a summer release of a robust 1.0.</li>\n",
      "<li>Building a robust back-end that can handle the next 9 months.</li>\n",
      "<li>Controlling the infrastructure costs and make sure they don't spiral out of control.</li>\n",
      "<li>Getting things aligned for a Series A this summer.</li>\n",
      "</ul>\n"
     ]
    }
   ],
   "source": [
    "print(html)"
   ]
  },
  {
   "cell_type": "code",
   "execution_count": 63,
   "metadata": {},
   "outputs": [
    {
     "name": "stderr",
     "output_type": "stream",
     "text": [
      "/Users/tanghao/NUS/Internship/EverpixAnalysis/.venv/lib/python3.11/site-packages/langchain_core/_api/deprecation.py:139: LangChainDeprecationWarning: The class `HuggingFaceEmbeddings` was deprecated in LangChain 0.2.2 and will be removed in 0.3.0. An updated version of the class exists in the langchain-huggingface package and should be used instead. To use it run `pip install -U langchain-huggingface` and import as `from langchain_huggingface import HuggingFaceEmbeddings`.\n",
      "  warn_deprecated(\n",
      "/Users/tanghao/NUS/Internship/EverpixAnalysis/.venv/lib/python3.11/site-packages/sentence_transformers/cross_encoder/CrossEncoder.py:11: TqdmWarning: IProgress not found. Please update jupyter and ipywidgets. See https://ipywidgets.readthedocs.io/en/stable/user_install.html\n",
      "  from tqdm.autonotebook import tqdm, trange\n"
     ]
    }
   ],
   "source": [
    "from langchain_chroma import Chroma\n",
    "from langchain_community.embeddings import HuggingFaceEmbeddings\n",
    "\n",
    "embedding = HuggingFaceEmbeddings()"
   ]
  },
  {
   "cell_type": "code",
   "execution_count": 66,
   "metadata": {},
   "outputs": [],
   "source": [
    "from sentence_transformers import SentenceTransformer\n",
    "model = SentenceTransformer('sentence-transformers/all-MiniLM-L6-v2')"
   ]
  },
  {
   "cell_type": "code",
   "execution_count": 74,
   "metadata": {},
   "outputs": [],
   "source": [
    "a='''Ideally, we would only hire people who are clearly more talented and experienced than us in specific areas: that’s what we did for Jason Eberle, our web engineer, and our new hire Sameer Sundresh. But when it comes to iOS development, we already have a very strong in-house experience, so it would be really difficult, very expensive and would take a long time to find such people. So instead, considering the core of the iOS app has been built, and most of the work is now focused on the UX layer (and later build the iPad version), we decided to look for a good iOS engineer for these specific tasks. In this very competitive market, we were fortunate enough to get George Leontiev before he really hit the market. His addition to the team will allow us to both continue building the iOS app at a good pace and also leave enough bandwidth to work on our image analysis research.</p>\n",
    "'''\n",
    "\n",
    "# embeddings = model.encode(a)\n",
    "# print(embeddings)"
   ]
  },
  {
   "cell_type": "code",
   "execution_count": 75,
   "metadata": {},
   "outputs": [
    {
     "data": {
      "text/plain": [
       "885"
      ]
     },
     "execution_count": 75,
     "metadata": {},
     "output_type": "execute_result"
    }
   ],
   "source": [
    "len(a)"
   ]
  },
  {
   "cell_type": "markdown",
   "metadata": {},
   "source": [
    "### KnowledgeGraph"
   ]
  },
  {
   "cell_type": "code",
   "execution_count": 12,
   "metadata": {},
   "outputs": [],
   "source": [
    "import spacy\n",
    "\n",
    "nlp = spacy.load(\"en_core_web_sm\")\n",
    "\n",
    "def extract_entities_relations(text):\n",
    "    doc = nlp(text)\n",
    "    entities = [(ent.text, ent.label_) for ent in doc.ents]\n",
    "    relations = []\n",
    "    for ent in doc.ents:\n",
    "        for token in ent.root.head.subtree:\n",
    "            if token.dep_ in [\"nsubj\", \"dobj\"]:\n",
    "                relations.append((ent.text, token.dep_, token.text))\n",
    "    return entities, relations\n"
   ]
  },
  {
   "cell_type": "code",
   "execution_count": 13,
   "metadata": {},
   "outputs": [],
   "source": [
    "entities, relations = extract_entities_relations(html)"
   ]
  },
  {
   "cell_type": "code",
   "execution_count": 54,
   "metadata": {},
   "outputs": [],
   "source": [
    "def create_triples(relations):\n",
    "    triples = []\n",
    "    for ent1, dep, ent2 in relations:\n",
    "        triples.append((ent1, dep, ent2))\n",
    "    return triples\n",
    "\n",
    "triples = create_triples(relations)"
   ]
  },
  {
   "cell_type": "code",
   "execution_count": 56,
   "metadata": {},
   "outputs": [],
   "source": [
    "from py2neo import Graph\n",
    "graph = Graph(\"bolt://localhost:7687\", auth=(\"neo4j\", \"Th503221.\"))"
   ]
  },
  {
   "cell_type": "code",
   "execution_count": 57,
   "metadata": {},
   "outputs": [],
   "source": [
    "from py2neo import Node, Relationship\n",
    "\n",
    "for subj, rel, obj in triples:\n",
    "    subj_node = Node(\"Entity\", name=subj)\n",
    "    obj_node = Node(\"Entity\", name=obj)\n",
    "    relationship = Relationship(subj_node, rel, obj_node)\n",
    "    graph.merge(subj_node, \"Entity\", \"name\")\n",
    "    graph.merge(obj_node, \"Entity\", \"name\")\n",
    "    graph.create(relationship)\n"
   ]
  },
  {
   "cell_type": "code",
   "execution_count": 58,
   "metadata": {},
   "outputs": [
    {
     "name": "stdout",
     "output_type": "stream",
     "text": [
      "Node('Entity', name='Alice')\n",
      "Node('Entity', name='Bob')\n",
      "Node('Entity', name='Acme Corp')\n",
      "Node('Entity', name='Wonderland')\n",
      "Node('Entity', name='Dreamland')\n",
      "Node('Entity', name='February than January')\n",
      "Node('Entity', name='photos')\n",
      "Node('Entity', name='Sameer')\n",
      "Node('Entity', name='Sundresh')\n",
      "Node('Entity', name='George Leontiev')\n",
      "Node('Entity', name='>')\n",
      "Node('Entity', name='Leontiev')\n",
      "Node('Entity', name='Apple')\n",
      "Node('Entity', name='engineer')\n",
      "Node('Entity', name='iPad')\n",
      "Node('Entity', name='version')\n",
      "Node('Entity', name='he')\n",
      "Node('Entity', name='market')\n",
      "Node('Entity', name='Everpix Alpha')\n",
      "Node('Entity', name='infrastructure')\n",
      "Node('Entity', name='10+ millions')\n",
      "Node('Entity', name='10')\n",
      "Node('Entity', name='photos.</li')\n",
      "Node('Entity', name='<')\n",
      "Node('Entity', name='li')\n",
      "Node('Entity', name='3')\n",
      "Node('Entity', name='2 months')\n",
      "Node('Entity', name='website')\n",
      "Node('Entity', name='which')\n",
      "Node('Entity', name='month.</li')\n",
      "Node('Entity', name='primary')\n",
      "Node('Entity', name='goal')\n",
      "Node('Entity', name='architecture')\n",
      "Node('Entity', name='we')\n",
      "Node('Entity', name='HTML5')\n",
      "Node('Entity', name='today')\n",
      "Node('Entity', name='You')\n",
      "Node('Entity', name='about a month')\n",
      "Node('Entity', name='testing')\n",
      "Node('Entity', name='1')\n",
      "Node('Entity', name='crashes')\n",
      "Node('Entity', name='disappointed.</li')\n",
      "Node('Entity', name='That')\n",
      "Node('Entity', name='Android Application</h2')\n",
      "Node('Entity', name='h2')\n",
      "Node('Entity', name='first')\n",
      "Node('Entity', name='implementation')\n",
      "Node('Entity', name='Android')\n",
      "Node('Entity', name='knowledge')\n",
      "Node('Entity', name='Windows Uploader</h2')\n",
      "Node('Entity', name='We')\n",
      "Node('Entity', name='project')\n",
      "Node('Entity', name='Windows')\n",
      "Node('Entity', name='Uploader</h2')\n",
      "Node('Entity', name='engineers')\n",
      "Node('Entity', name='these days')\n",
      "Node('Entity', name='mobile')\n",
      "Node('Entity', name='5,000')\n",
      "Node('Entity', name='entry')\n",
      "Node('Entity', name='the Accounts Payable')\n",
      "Node('Entity', name='about a year')\n",
      "Node('Entity', name='it')\n",
      "Node('Entity', name='year')\n",
      "Node('Entity', name='us')\n",
      "Node('Entity', name='growth')\n",
      "Node('Entity', name='all')\n",
      "Node('Entity', name='Uploader')\n",
      "Node('Entity', name='peak')\n",
      "Node('Entity', name='one')\n",
      "Node('Entity', name='several days')\n",
      "Node('Entity', name='a year')\n",
      "Node('Entity', name='without</em')\n",
      "Node('Entity', name='iPhone')\n",
      "Node('Entity', name='users')\n",
      "Node('Entity', name='accounts')\n",
      "Node('Entity', name='a few thousands')\n",
      "Node('Entity', name='testers')\n",
      "Node('Entity', name='fast.</li')\n",
      "Node('Entity', name='vision')\n",
      "Node('Entity', name='end')\n",
      "Node('Entity', name='that')\n",
      "Node('Entity', name='months.</li')\n",
      "Node('Entity', name='costs')\n",
      "Node('Entity', name='they')\n",
      "Node('Entity', name='things')\n",
      "Node('Entity', name='9')\n",
      "Node('Entity', name='Alice')\tKNOWS(Node('Entity', name='Alice'), Node('Entity', name='Bob'))\tNode('Entity', name='Bob')\n"
     ]
    }
   ],
   "source": [
    "# 查询所有节点\n",
    "nodes = graph.run(\"MATCH (n) RETURN n\")\n",
    "for record in nodes:\n",
    "    print(record)\n",
    "\n",
    "# 查询特定关系\n",
    "relationships = graph.run(\"MATCH (a)-[r:KNOWS]->(b) RETURN a, r, b\")\n",
    "for record in relationships:\n",
    "    print(record)\n"
   ]
  },
  {
   "cell_type": "code",
   "execution_count": 59,
   "metadata": {},
   "outputs": [
    {
     "data": {
      "text/plain": [
       "['Alice <function Relationship.type at 0x1335b8fe0> Wonderland',\n",
       " 'Alice <function Relationship.type at 0x1335b8fe0> Bob',\n",
       " 'Bob <function Relationship.type at 0x1335b8fe0> Acme Corp',\n",
       " 'Wonderland <function Relationship.type at 0x1335b8fe0> Dreamland',\n",
       " 'February than January <function Relationship.type at 0x1335b8fe0> photos',\n",
       " 'Sameer <function Relationship.type at 0x1335b8fe0> Sundresh',\n",
       " 'George Leontiev <function Relationship.type at 0x1335b8fe0> market',\n",
       " 'George Leontiev <function Relationship.type at 0x1335b8fe0> he',\n",
       " 'George Leontiev <function Relationship.type at 0x1335b8fe0> Leontiev',\n",
       " 'George Leontiev <function Relationship.type at 0x1335b8fe0> >',\n",
       " 'Apple <function Relationship.type at 0x1335b8fe0> accounts',\n",
       " 'Apple <function Relationship.type at 0x1335b8fe0> users',\n",
       " 'Apple <function Relationship.type at 0x1335b8fe0> Apple',\n",
       " 'Apple <function Relationship.type at 0x1335b8fe0> which',\n",
       " 'Apple <function Relationship.type at 0x1335b8fe0> >',\n",
       " 'Apple <function Relationship.type at 0x1335b8fe0> engineer',\n",
       " 'iPad <function Relationship.type at 0x1335b8fe0> version',\n",
       " 'Everpix Alpha <function Relationship.type at 0x1335b8fe0> infrastructure',\n",
       " '10+ millions <function Relationship.type at 0x1335b8fe0> >',\n",
       " '10+ millions <function Relationship.type at 0x1335b8fe0> li',\n",
       " '10+ millions <function Relationship.type at 0x1335b8fe0> <',\n",
       " '10+ millions <function Relationship.type at 0x1335b8fe0> photos.</li',\n",
       " '10+ millions <function Relationship.type at 0x1335b8fe0> 10',\n",
       " '3 <function Relationship.type at 0x1335b8fe0> version',\n",
       " '2 months <function Relationship.type at 0x1335b8fe0> which',\n",
       " '2 months <function Relationship.type at 0x1335b8fe0> website',\n",
       " 'month.</li <function Relationship.type at 0x1335b8fe0> we',\n",
       " 'month.</li <function Relationship.type at 0x1335b8fe0> architecture',\n",
       " 'month.</li <function Relationship.type at 0x1335b8fe0> goal',\n",
       " 'month.</li <function Relationship.type at 0x1335b8fe0> primary',\n",
       " 'month.</li <function Relationship.type at 0x1335b8fe0> li',\n",
       " 'HTML5 <function Relationship.type at 0x1335b8fe0> we',\n",
       " 'HTML5 <function Relationship.type at 0x1335b8fe0> architecture',\n",
       " 'today <function Relationship.type at 0x1335b8fe0> version',\n",
       " 'today <function Relationship.type at 0x1335b8fe0> You',\n",
       " 'today <function Relationship.type at 0x1335b8fe0> >',\n",
       " 'about a month <function Relationship.type at 0x1335b8fe0> we',\n",
       " 'about a month <function Relationship.type at 0x1335b8fe0> testing',\n",
       " 'about a month <function Relationship.type at 0x1335b8fe0> which',\n",
       " '1 <function Relationship.type at 0x1335b8fe0> crashes',\n",
       " 'disappointed.</li <function Relationship.type at 0x1335b8fe0> That',\n",
       " 'Android Application</h2 <function Relationship.type at 0x1335b8fe0> h2',\n",
       " 'first <function Relationship.type at 0x1335b8fe0> implementation',\n",
       " 'Android <function Relationship.type at 0x1335b8fe0> knowledge',\n",
       " 'Windows Uploader</h2 <function Relationship.type at 0x1335b8fe0> Uploader</h2',\n",
       " 'Windows Uploader</h2 <function Relationship.type at 0x1335b8fe0> Windows',\n",
       " 'Windows Uploader</h2 <function Relationship.type at 0x1335b8fe0> h2',\n",
       " 'Windows Uploader</h2 <function Relationship.type at 0x1335b8fe0> knowledge',\n",
       " 'Windows Uploader</h2 <function Relationship.type at 0x1335b8fe0> project',\n",
       " 'Windows Uploader</h2 <function Relationship.type at 0x1335b8fe0> we',\n",
       " 'Windows Uploader</h2 <function Relationship.type at 0x1335b8fe0> We',\n",
       " 'Windows <function Relationship.type at 0x1335b8fe0> engineers',\n",
       " 'these days <function Relationship.type at 0x1335b8fe0> mobile',\n",
       " '5,000 <function Relationship.type at 0x1335b8fe0> entry',\n",
       " 'the Accounts Payable <function Relationship.type at 0x1335b8fe0> entry',\n",
       " 'about a year <function Relationship.type at 0x1335b8fe0> one',\n",
       " 'about a year <function Relationship.type at 0x1335b8fe0> peak',\n",
       " 'about a year <function Relationship.type at 0x1335b8fe0> Uploader',\n",
       " 'about a year <function Relationship.type at 0x1335b8fe0> photos',\n",
       " 'about a year <function Relationship.type at 0x1335b8fe0> all',\n",
       " 'about a year <function Relationship.type at 0x1335b8fe0> it',\n",
       " 'about a year <function Relationship.type at 0x1335b8fe0> growth',\n",
       " 'about a year <function Relationship.type at 0x1335b8fe0> we',\n",
       " 'about a year <function Relationship.type at 0x1335b8fe0> us',\n",
       " 'about a year <function Relationship.type at 0x1335b8fe0> which',\n",
       " 'about a year <function Relationship.type at 0x1335b8fe0> year',\n",
       " 'about a year <function Relationship.type at 0x1335b8fe0> it',\n",
       " 'several days <function Relationship.type at 0x1335b8fe0> one',\n",
       " 'a year <function Relationship.type at 0x1335b8fe0> photos',\n",
       " 'without</em <function Relationship.type at 0x1335b8fe0> we',\n",
       " 'iPhone <function Relationship.type at 0x1335b8fe0> accounts',\n",
       " 'iPhone <function Relationship.type at 0x1335b8fe0> users',\n",
       " 'iPhone <function Relationship.type at 0x1335b8fe0> Apple',\n",
       " 'iPhone <function Relationship.type at 0x1335b8fe0> which',\n",
       " 'a few thousands <function Relationship.type at 0x1335b8fe0> testers',\n",
       " 'fast.</li <function Relationship.type at 0x1335b8fe0> things',\n",
       " 'fast.</li <function Relationship.type at 0x1335b8fe0> they',\n",
       " 'fast.</li <function Relationship.type at 0x1335b8fe0> costs',\n",
       " 'fast.</li <function Relationship.type at 0x1335b8fe0> months.</li',\n",
       " 'fast.</li <function Relationship.type at 0x1335b8fe0> that',\n",
       " 'fast.</li <function Relationship.type at 0x1335b8fe0> end',\n",
       " 'fast.</li <function Relationship.type at 0x1335b8fe0> vision',\n",
       " 'fast.</li <function Relationship.type at 0x1335b8fe0> >',\n",
       " 'fast.</li <function Relationship.type at 0x1335b8fe0> fast.</li',\n",
       " 'fast.</li <function Relationship.type at 0x1335b8fe0> it',\n",
       " '9 <function Relationship.type at 0x1335b8fe0> months.</li']"
      ]
     },
     "execution_count": 59,
     "metadata": {},
     "output_type": "execute_result"
    }
   ],
   "source": [
    "entities = graph.nodes.match(\"Entity\")\n",
    "texts = []\n",
    "for entity in entities:\n",
    "    relationships = list(graph.match((entity,), r_type=None))\n",
    "    for rel in relationships:\n",
    "        relationship_text = f\"{rel.start_node['name']} {rel.type} {rel.end_node['name']}\"\n",
    "        texts.append(relationship_text)\n",
    "\n",
    "texts"
   ]
  },
  {
   "cell_type": "markdown",
   "metadata": {},
   "source": [
    "### Tree index"
   ]
  },
  {
   "cell_type": "code",
   "execution_count": 1,
   "metadata": {},
   "outputs": [],
   "source": [
    "import markdown\n",
    "from bs4 import BeautifulSoup\n",
    "\n",
    "def parse_markdown(md_content):\n",
    "    html = markdown.markdown(md_content)\n",
    "    soup = BeautifulSoup(html, 'html.parser')\n",
    "    data = []\n",
    "    current_h1 = None\n",
    "    current_h2 = None\n",
    "    for element in soup.find_all(['h1', 'h2', 'p']):\n",
    "        if element.name == 'h1':\n",
    "            current_h1 = element.get_text()\n",
    "        elif element.name == 'h2':\n",
    "            current_h2 = element.get_text()\n",
    "        elif element.name == 'p':\n",
    "            data.append({\n",
    "                'h1': current_h1,\n",
    "                'h2': current_h2,\n",
    "                'text': element.get_text()\n",
    "            })\n",
    "    return data\n"
   ]
  },
  {
   "cell_type": "code",
   "execution_count": 9,
   "metadata": {},
   "outputs": [
    {
     "ename": "ImportError",
     "evalue": "cannot import name 'Node' from 'llama_index' (unknown location)",
     "output_type": "error",
     "traceback": [
      "\u001b[0;31m---------------------------------------------------------------------------\u001b[0m",
      "\u001b[0;31mImportError\u001b[0m                               Traceback (most recent call last)",
      "Cell \u001b[0;32mIn[9], line 1\u001b[0m\n\u001b[0;32m----> 1\u001b[0m \u001b[38;5;28;01mfrom\u001b[39;00m \u001b[38;5;21;01mllama_index\u001b[39;00m \u001b[38;5;28;01mimport\u001b[39;00m Node\n",
      "\u001b[0;31mImportError\u001b[0m: cannot import name 'Node' from 'llama_index' (unknown location)"
     ]
    }
   ],
   "source": [
    "from llama_index.core import Node\n"
   ]
  },
  {
   "cell_type": "code",
   "execution_count": 4,
   "metadata": {},
   "outputs": [
    {
     "ename": "ImportError",
     "evalue": "cannot import name 'GPTTreeIndex' from 'llama_index' (unknown location)",
     "output_type": "error",
     "traceback": [
      "\u001b[0;31m---------------------------------------------------------------------------\u001b[0m",
      "\u001b[0;31mImportError\u001b[0m                               Traceback (most recent call last)",
      "Cell \u001b[0;32mIn[4], line 1\u001b[0m\n\u001b[0;32m----> 1\u001b[0m \u001b[38;5;28;01mfrom\u001b[39;00m \u001b[38;5;21;01mllama_index\u001b[39;00m \u001b[38;5;28;01mimport\u001b[39;00m GPTTreeIndex, GPTTreeNode\n\u001b[1;32m      3\u001b[0m \u001b[38;5;28;01mdef\u001b[39;00m \u001b[38;5;21mcreate_tree_index\u001b[39m(parsed_data):\n\u001b[1;32m      4\u001b[0m     root \u001b[38;5;241m=\u001b[39m GPTTreeNode(text\u001b[38;5;241m=\u001b[39m\u001b[38;5;124m\"\u001b[39m\u001b[38;5;124mRoot Node\u001b[39m\u001b[38;5;124m\"\u001b[39m)\n",
      "\u001b[0;31mImportError\u001b[0m: cannot import name 'GPTTreeIndex' from 'llama_index' (unknown location)"
     ]
    }
   ],
   "source": [
    "from llama_index import TreeIndex, Node\n",
    "\n",
    "def create_tree_index(parsed_data):\n",
    "    root = Node(\"Root Node\")\n",
    "    h1_nodes = {}\n",
    "\n",
    "    for entry in parsed_data:\n",
    "        h1_text = entry['h1']\n",
    "        h2_text = entry['h2']\n",
    "        text = entry['text']\n",
    "\n",
    "        if h1_text not in h1_nodes:\n",
    "            h1_nodes[h1_text] = Node(h1_text, parent=root)\n",
    "        h1_node = h1_nodes[h1_text]\n",
    "\n",
    "        h2_node = Node(h2_text, parent=h1_node)\n",
    "        Node(text, parent=h2_node)\n",
    "\n",
    "    return TreeIndex(root)\n"
   ]
  },
  {
   "cell_type": "code",
   "execution_count": null,
   "metadata": {},
   "outputs": [],
   "source": []
  }
 ],
 "metadata": {
  "kernelspec": {
   "display_name": ".venv",
   "language": "python",
   "name": "python3"
  },
  "language_info": {
   "codemirror_mode": {
    "name": "ipython",
    "version": 3
   },
   "file_extension": ".py",
   "mimetype": "text/x-python",
   "name": "python",
   "nbconvert_exporter": "python",
   "pygments_lexer": "ipython3",
   "version": "3.11.9"
  }
 },
 "nbformat": 4,
 "nbformat_minor": 2
}
