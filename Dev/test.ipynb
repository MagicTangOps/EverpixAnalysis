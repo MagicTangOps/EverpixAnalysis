{
 "cells": [
  {
   "cell_type": "code",
   "execution_count": 16,
   "metadata": {},
   "outputs": [],
   "source": [
    "import pandas as pd\n"
   ]
  },
  {
   "cell_type": "code",
   "execution_count": 21,
   "metadata": {},
   "outputs": [
    {
     "name": "stdout",
     "output_type": "stream",
     "text": [
      "Requirement already satisfied: pandas in /Users/tanghao/NUS/Internship/EverpixAnalysis/.venv/lib/python3.11/site-packages (2.2.2)\n",
      "Requirement already satisfied: sqlalchemy in /Users/tanghao/NUS/Internship/EverpixAnalysis/.venv/lib/python3.11/site-packages (2.0.30)\n",
      "Requirement already satisfied: psycopg2-binary in /Users/tanghao/NUS/Internship/EverpixAnalysis/.venv/lib/python3.11/site-packages (2.9.9)\n",
      "Requirement already satisfied: numpy>=1.23.2 in /Users/tanghao/NUS/Internship/EverpixAnalysis/.venv/lib/python3.11/site-packages (from pandas) (1.26.4)\n",
      "Requirement already satisfied: python-dateutil>=2.8.2 in /Users/tanghao/NUS/Internship/EverpixAnalysis/.venv/lib/python3.11/site-packages (from pandas) (2.9.0.post0)\n",
      "Requirement already satisfied: pytz>=2020.1 in /Users/tanghao/NUS/Internship/EverpixAnalysis/.venv/lib/python3.11/site-packages (from pandas) (2024.1)\n",
      "Requirement already satisfied: tzdata>=2022.7 in /Users/tanghao/NUS/Internship/EverpixAnalysis/.venv/lib/python3.11/site-packages (from pandas) (2024.1)\n",
      "Requirement already satisfied: typing-extensions>=4.6.0 in /Users/tanghao/NUS/Internship/EverpixAnalysis/.venv/lib/python3.11/site-packages (from sqlalchemy) (4.12.2)\n",
      "Requirement already satisfied: six>=1.5 in /Users/tanghao/NUS/Internship/EverpixAnalysis/.venv/lib/python3.11/site-packages (from python-dateutil>=2.8.2->pandas) (1.16.0)\n",
      "Note: you may need to restart the kernel to use updated packages.\n"
     ]
    }
   ],
   "source": [
    "pip install pandas sqlalchemy psycopg2-binary"
   ]
  },
  {
   "cell_type": "code",
   "execution_count": 24,
   "metadata": {},
   "outputs": [
    {
     "data": {
      "text/html": [
       "<div>\n",
       "<style scoped>\n",
       "    .dataframe tbody tr th:only-of-type {\n",
       "        vertical-align: middle;\n",
       "    }\n",
       "\n",
       "    .dataframe tbody tr th {\n",
       "        vertical-align: top;\n",
       "    }\n",
       "\n",
       "    .dataframe thead th {\n",
       "        text-align: right;\n",
       "    }\n",
       "</style>\n",
       "<table border=\"1\" class=\"dataframe\">\n",
       "  <thead>\n",
       "    <tr style=\"text-align: right;\">\n",
       "      <th></th>\n",
       "      <th>Date</th>\n",
       "      <th>Website</th>\n",
       "      <th>URL</th>\n",
       "      <th>Snippet</th>\n",
       "    </tr>\n",
       "  </thead>\n",
       "  <tbody>\n",
       "    <tr>\n",
       "      <th>0</th>\n",
       "      <td>12 Sep 11</td>\n",
       "      <td>techcrunch.com</td>\n",
       "      <td>http://techcrunch.com/2011/09/12/everpix-all-y...</td>\n",
       "      <td>TechCrunch Disrupt finalist Everpix is a new s...</td>\n",
       "    </tr>\n",
       "    <tr>\n",
       "      <th>1</th>\n",
       "      <td>12 Sep 11</td>\n",
       "      <td>venturebeat.com</td>\n",
       "      <td>http://venturebeat.com/2011/09/12/everpix-laun...</td>\n",
       "      <td>Everpix, a cloud-based photo storage service t...</td>\n",
       "    </tr>\n",
       "    <tr>\n",
       "      <th>2</th>\n",
       "      <td>13 Sep 11</td>\n",
       "      <td>pcworld.com</td>\n",
       "      <td>http://www.pcworld.com/article/239964/five_coo...</td>\n",
       "      <td>The TechCrunch Disrupt 2011 conference, held t...</td>\n",
       "    </tr>\n",
       "  </tbody>\n",
       "</table>\n",
       "</div>"
      ],
      "text/plain": [
       "        Date          Website  \\\n",
       "0  12 Sep 11   techcrunch.com   \n",
       "1  12 Sep 11  venturebeat.com   \n",
       "2  13 Sep 11      pcworld.com   \n",
       "\n",
       "                                                 URL  \\\n",
       "0  http://techcrunch.com/2011/09/12/everpix-all-y...   \n",
       "1  http://venturebeat.com/2011/09/12/everpix-laun...   \n",
       "2  http://www.pcworld.com/article/239964/five_coo...   \n",
       "\n",
       "                                             Snippet  \n",
       "0  TechCrunch Disrupt finalist Everpix is a new s...  \n",
       "1  Everpix, a cloud-based photo storage service t...  \n",
       "2  The TechCrunch Disrupt 2011 conference, held t...  "
      ]
     },
     "execution_count": 24,
     "metadata": {},
     "output_type": "execute_result"
    }
   ],
   "source": [
    "a=pd.read_csv(\"../Data/Press Coverage.csv\")\n",
    "head=a.head(3)\n",
    "head"
   ]
  },
  {
   "cell_type": "code",
   "execution_count": 25,
   "metadata": {},
   "outputs": [],
   "source": [
    "from sqlalchemy import create_engine\n",
    "\n",
    "engine = create_engine('postgresql+psycopg2://tanghao: @localhost:5432/postgres')"
   ]
  },
  {
   "cell_type": "code",
   "execution_count": 26,
   "metadata": {},
   "outputs": [
    {
     "data": {
      "text/plain": [
       "108"
      ]
     },
     "execution_count": 26,
     "metadata": {},
     "output_type": "execute_result"
    }
   ],
   "source": [
    "a.to_sql('PressCoverage', engine, if_exists='replace', index=False)\n"
   ]
  },
  {
   "cell_type": "code",
   "execution_count": 27,
   "metadata": {},
   "outputs": [
    {
     "name": "stdout",
     "output_type": "stream",
     "text": [
      "Collecting vanna\n",
      "  Downloading vanna-0.6.0-py3-none-any.whl.metadata (11 kB)\n",
      "Requirement already satisfied: requests in /Users/tanghao/NUS/Internship/EverpixAnalysis/.venv/lib/python3.11/site-packages (from vanna) (2.32.3)\n",
      "Collecting tabulate (from vanna)\n",
      "  Downloading tabulate-0.9.0-py3-none-any.whl.metadata (34 kB)\n",
      "Collecting plotly (from vanna)\n",
      "  Downloading plotly-5.22.0-py3-none-any.whl.metadata (7.1 kB)\n",
      "Requirement already satisfied: pandas in /Users/tanghao/NUS/Internship/EverpixAnalysis/.venv/lib/python3.11/site-packages (from vanna) (2.2.2)\n",
      "Collecting sqlparse (from vanna)\n",
      "  Downloading sqlparse-0.5.0-py3-none-any.whl.metadata (3.9 kB)\n",
      "Collecting kaleido (from vanna)\n",
      "  Downloading kaleido-0.2.1-py2.py3-none-macosx_11_0_arm64.whl.metadata (15 kB)\n",
      "Collecting flask (from vanna)\n",
      "  Downloading flask-3.0.3-py3-none-any.whl.metadata (3.2 kB)\n",
      "Collecting flask-sock (from vanna)\n",
      "  Downloading flask_sock-0.7.0-py3-none-any.whl.metadata (1.6 kB)\n",
      "Requirement already satisfied: sqlalchemy in /Users/tanghao/NUS/Internship/EverpixAnalysis/.venv/lib/python3.11/site-packages (from vanna) (2.0.30)\n",
      "Collecting Werkzeug>=3.0.0 (from flask->vanna)\n",
      "  Downloading werkzeug-3.0.3-py3-none-any.whl.metadata (3.7 kB)\n",
      "Collecting Jinja2>=3.1.2 (from flask->vanna)\n",
      "  Downloading jinja2-3.1.4-py3-none-any.whl.metadata (2.6 kB)\n",
      "Collecting itsdangerous>=2.1.2 (from flask->vanna)\n",
      "  Downloading itsdangerous-2.2.0-py3-none-any.whl.metadata (1.9 kB)\n",
      "Collecting click>=8.1.3 (from flask->vanna)\n",
      "  Downloading click-8.1.7-py3-none-any.whl.metadata (3.0 kB)\n",
      "Collecting blinker>=1.6.2 (from flask->vanna)\n",
      "  Downloading blinker-1.8.2-py3-none-any.whl.metadata (1.6 kB)\n",
      "Collecting simple-websocket>=0.5.1 (from flask-sock->vanna)\n",
      "  Downloading simple_websocket-1.0.0-py3-none-any.whl.metadata (1.3 kB)\n",
      "Requirement already satisfied: numpy>=1.23.2 in /Users/tanghao/NUS/Internship/EverpixAnalysis/.venv/lib/python3.11/site-packages (from pandas->vanna) (1.26.4)\n",
      "Requirement already satisfied: python-dateutil>=2.8.2 in /Users/tanghao/NUS/Internship/EverpixAnalysis/.venv/lib/python3.11/site-packages (from pandas->vanna) (2.9.0.post0)\n",
      "Requirement already satisfied: pytz>=2020.1 in /Users/tanghao/NUS/Internship/EverpixAnalysis/.venv/lib/python3.11/site-packages (from pandas->vanna) (2024.1)\n",
      "Requirement already satisfied: tzdata>=2022.7 in /Users/tanghao/NUS/Internship/EverpixAnalysis/.venv/lib/python3.11/site-packages (from pandas->vanna) (2024.1)\n",
      "Requirement already satisfied: tenacity>=6.2.0 in /Users/tanghao/NUS/Internship/EverpixAnalysis/.venv/lib/python3.11/site-packages (from plotly->vanna) (8.3.0)\n",
      "Requirement already satisfied: packaging in /Users/tanghao/NUS/Internship/EverpixAnalysis/.venv/lib/python3.11/site-packages (from plotly->vanna) (24.0)\n",
      "Requirement already satisfied: charset-normalizer<4,>=2 in /Users/tanghao/NUS/Internship/EverpixAnalysis/.venv/lib/python3.11/site-packages (from requests->vanna) (3.3.2)\n",
      "Requirement already satisfied: idna<4,>=2.5 in /Users/tanghao/NUS/Internship/EverpixAnalysis/.venv/lib/python3.11/site-packages (from requests->vanna) (3.7)\n",
      "Requirement already satisfied: urllib3<3,>=1.21.1 in /Users/tanghao/NUS/Internship/EverpixAnalysis/.venv/lib/python3.11/site-packages (from requests->vanna) (2.2.1)\n",
      "Requirement already satisfied: certifi>=2017.4.17 in /Users/tanghao/NUS/Internship/EverpixAnalysis/.venv/lib/python3.11/site-packages (from requests->vanna) (2024.6.2)\n",
      "Requirement already satisfied: typing-extensions>=4.6.0 in /Users/tanghao/NUS/Internship/EverpixAnalysis/.venv/lib/python3.11/site-packages (from sqlalchemy->vanna) (4.12.2)\n",
      "Collecting MarkupSafe>=2.0 (from Jinja2>=3.1.2->flask->vanna)\n",
      "  Downloading MarkupSafe-2.1.5-cp311-cp311-macosx_10_9_universal2.whl.metadata (3.0 kB)\n",
      "Requirement already satisfied: six>=1.5 in /Users/tanghao/NUS/Internship/EverpixAnalysis/.venv/lib/python3.11/site-packages (from python-dateutil>=2.8.2->pandas->vanna) (1.16.0)\n",
      "Collecting wsproto (from simple-websocket>=0.5.1->flask-sock->vanna)\n",
      "  Downloading wsproto-1.2.0-py3-none-any.whl.metadata (5.6 kB)\n",
      "Requirement already satisfied: h11<1,>=0.9.0 in /Users/tanghao/NUS/Internship/EverpixAnalysis/.venv/lib/python3.11/site-packages (from wsproto->simple-websocket>=0.5.1->flask-sock->vanna) (0.14.0)\n",
      "Downloading vanna-0.6.0-py3-none-any.whl (177 kB)\n",
      "\u001b[2K   \u001b[90m━━━━━━━━━━━━━━━━━━━━━━━━━━━━━━━━━━━━━━━━\u001b[0m \u001b[32m177.8/177.8 kB\u001b[0m \u001b[31m2.5 MB/s\u001b[0m eta \u001b[36m0:00:00\u001b[0m \u001b[36m0:00:01\u001b[0m\n",
      "\u001b[?25hDownloading flask-3.0.3-py3-none-any.whl (101 kB)\n",
      "\u001b[2K   \u001b[90m━━━━━━━━━━━━━━━━━━━━━━━━━━━━━━━━━━━━━━━━\u001b[0m \u001b[32m101.7/101.7 kB\u001b[0m \u001b[31m4.8 MB/s\u001b[0m eta \u001b[36m0:00:00\u001b[0m\n",
      "\u001b[?25hDownloading flask_sock-0.7.0-py3-none-any.whl (4.0 kB)\n",
      "Downloading kaleido-0.2.1-py2.py3-none-macosx_11_0_arm64.whl (85.8 MB)\n",
      "\u001b[2K   \u001b[90m━━━━━━━━━━━━━━━━━━━━━━━━━━━━━━━━━━━━━━━━\u001b[0m \u001b[32m85.8/85.8 MB\u001b[0m \u001b[31m1.7 MB/s\u001b[0m eta \u001b[36m0:00:00\u001b[0m00:01\u001b[0m00:02\u001b[0m\n",
      "\u001b[?25hDownloading plotly-5.22.0-py3-none-any.whl (16.4 MB)\n",
      "\u001b[2K   \u001b[90m━━━━━━━━━━━━━━━━━━━━━━━━━━━━━━━━━━━━━━━━\u001b[0m \u001b[32m16.4/16.4 MB\u001b[0m \u001b[31m3.8 MB/s\u001b[0m eta \u001b[36m0:00:00\u001b[0m00:01\u001b[0m00:01\u001b[0m\n",
      "\u001b[?25hDownloading sqlparse-0.5.0-py3-none-any.whl (43 kB)\n",
      "\u001b[2K   \u001b[90m━━━━━━━━━━━━━━━━━━━━━━━━━━━━━━━━━━━━━━━━\u001b[0m \u001b[32m44.0/44.0 kB\u001b[0m \u001b[31m2.3 MB/s\u001b[0m eta \u001b[36m0:00:00\u001b[0m\n",
      "\u001b[?25hDownloading tabulate-0.9.0-py3-none-any.whl (35 kB)\n",
      "Downloading blinker-1.8.2-py3-none-any.whl (9.5 kB)\n",
      "Downloading click-8.1.7-py3-none-any.whl (97 kB)\n",
      "\u001b[2K   \u001b[90m━━━━━━━━━━━━━━━━━━━━━━━━━━━━━━━━━━━━━━━━\u001b[0m \u001b[32m97.9/97.9 kB\u001b[0m \u001b[31m7.1 MB/s\u001b[0m eta \u001b[36m0:00:00\u001b[0m\n",
      "\u001b[?25hDownloading itsdangerous-2.2.0-py3-none-any.whl (16 kB)\n",
      "Downloading jinja2-3.1.4-py3-none-any.whl (133 kB)\n",
      "\u001b[2K   \u001b[90m━━━━━━━━━━━━━━━━━━━━━━━━━━━━━━━━━━━━━━━━\u001b[0m \u001b[32m133.3/133.3 kB\u001b[0m \u001b[31m3.7 MB/s\u001b[0m eta \u001b[36m0:00:00\u001b[0m\n",
      "\u001b[?25hDownloading simple_websocket-1.0.0-py3-none-any.whl (13 kB)\n",
      "Downloading werkzeug-3.0.3-py3-none-any.whl (227 kB)\n",
      "\u001b[2K   \u001b[90m━━━━━━━━━━━━━━━━━━━━━━━━━━━━━━━━━━━━━━━━\u001b[0m \u001b[32m227.3/227.3 kB\u001b[0m \u001b[31m4.0 MB/s\u001b[0m eta \u001b[36m0:00:00\u001b[0ma \u001b[36m0:00:01\u001b[0m\n",
      "\u001b[?25hDownloading MarkupSafe-2.1.5-cp311-cp311-macosx_10_9_universal2.whl (18 kB)\n",
      "Downloading wsproto-1.2.0-py3-none-any.whl (24 kB)\n",
      "Installing collected packages: kaleido, wsproto, tabulate, sqlparse, plotly, MarkupSafe, itsdangerous, click, blinker, Werkzeug, simple-websocket, Jinja2, flask, flask-sock, vanna\n",
      "Successfully installed Jinja2-3.1.4 MarkupSafe-2.1.5 Werkzeug-3.0.3 blinker-1.8.2 click-8.1.7 flask-3.0.3 flask-sock-0.7.0 itsdangerous-2.2.0 kaleido-0.2.1 plotly-5.22.0 simple-websocket-1.0.0 sqlparse-0.5.0 tabulate-0.9.0 vanna-0.6.0 wsproto-1.2.0\n",
      "Note: you may need to restart the kernel to use updated packages.\n"
     ]
    }
   ],
   "source": [
    "# The import statement will vary depending on your LLM and vector database. This is an example for OpenAI + ChromaDB\n",
    "\n",
    "from vanna.openai.openai_chat import OpenAI_Chat\n",
    "from vanna.chromadb.chromadb_vector import ChromaDB_VectorStore\n",
    "\n",
    "class MyVanna(ChromaDB_VectorStore, OpenAI_Chat):\n",
    "    def __init__(self, config=None):\n",
    "        ChromaDB_VectorStore.__init__(self, config=config)\n",
    "        OpenAI_Chat.__init__(self, config=config)\n",
    "\n",
    "vn = MyVanna(config={'api_key': 'sk-...', 'model': 'gpt-4-...'})\n",
    "\n",
    "# See the documentation for other options\n"
   ]
  },
  {
   "cell_type": "code",
   "execution_count": 20,
   "metadata": {},
   "outputs": [],
   "source": [
    "from Setting import openAIKey\n",
    "from langchain_openai import ChatOpenAI\n",
    "\n",
    "llm = ChatOpenAI(api_key=openAIKey.Key)"
   ]
  },
  {
   "cell_type": "code",
   "execution_count": 7,
   "metadata": {},
   "outputs": [],
   "source": [
    "from langchain_core.prompts import ChatPromptTemplate\n",
    "prompt = ChatPromptTemplate.from_messages([\n",
    "    (\"system\", \"You are good at sql. Later you will receive the head 3 rows of a dataframe.\"),\n",
    "    (\"user\", \"{input}\")\n",
    "])"
   ]
  },
  {
   "cell_type": "code",
   "execution_count": 8,
   "metadata": {},
   "outputs": [],
   "source": [
    "chain = prompt | llm "
   ]
  },
  {
   "cell_type": "code",
   "execution_count": 9,
   "metadata": {},
   "outputs": [
    {
     "data": {
      "text/plain": [
       "AIMessage(content='Langsmith can help with testing in several ways:\\n\\n1. Automated Testing: Langsmith can generate test scripts for automated testing frameworks like Selenium, JUnit, or TestNG. This can help streamline the testing process and ensure better test coverage.\\n\\n2. Test Data Generation: Langsmith can generate realistic test data for different scenarios, making it easier to test edge cases and ensure robustness of the software.\\n\\n3. Test Case Generation: Langsmith can generate test cases based on requirements or specifications, helping to ensure that all functionalities are tested thoroughly.\\n\\n4. Regression Testing: Langsmith can automate the execution of regression tests, allowing for quick validation of new changes without the need for manual intervention.\\n\\n5. Performance Testing: Langsmith can generate load tests to simulate real-world usage scenarios and identify performance bottlenecks in the software.\\n\\nOverall, Langsmith can significantly improve the efficiency and effectiveness of the testing process by automating repetitive tasks and providing valuable insights into the quality of the software.', response_metadata={'token_usage': {'completion_tokens': 195, 'prompt_tokens': 28, 'total_tokens': 223}, 'model_name': 'gpt-3.5-turbo', 'system_fingerprint': None, 'finish_reason': 'stop', 'logprobs': None}, id='run-5649e7ef-d829-4420-a4e3-f5e1ce6a6b55-0', usage_metadata={'input_tokens': 28, 'output_tokens': 195, 'total_tokens': 223})"
      ]
     },
     "execution_count": 9,
     "metadata": {},
     "output_type": "execute_result"
    }
   ],
   "source": [
    "chain.invoke({\"input\": \"how can langsmith help with testing?\"})"
   ]
  },
  {
   "cell_type": "code",
   "execution_count": 10,
   "metadata": {},
   "outputs": [],
   "source": [
    "from langchain_core.output_parsers import StrOutputParser\n",
    "\n",
    "output_parser = StrOutputParser()"
   ]
  },
  {
   "cell_type": "code",
   "execution_count": 11,
   "metadata": {},
   "outputs": [],
   "source": [
    "chain = prompt | llm | output_parser"
   ]
  },
  {
   "cell_type": "code",
   "execution_count": 12,
   "metadata": {},
   "outputs": [
    {
     "data": {
      "text/plain": [
       "'Langsmith can help with testing in several ways:\\n\\n1. Test Automation: Langsmith can be used to automate testing processes, allowing for faster and more efficient testing of software products. By writing test scripts and scenarios in Langsmith, testers can easily run automated tests across different platforms and environments.\\n\\n2. Performance Testing: Langsmith can also be used to conduct performance testing of software applications. Testers can simulate high user loads and stress conditions to analyze the performance of the application and identify any bottlenecks or performance issues.\\n\\n3. Data Generation: Langsmith can help in generating test data for different scenarios, making it easier for testers to create realistic test cases. This can help in identifying edge cases and potential issues that might not be apparent with limited test data.\\n\\n4. Integration Testing: Langsmith can be used to facilitate integration testing by enabling testers to create and execute tests that verify the interaction between different components of the software system. This can help in ensuring that all components work together seamlessly.\\n\\nOverall, Langsmith can be a valuable tool in the testing process, helping testers to improve the quality of software products and ensure their reliability and performance.'"
      ]
     },
     "execution_count": 12,
     "metadata": {},
     "output_type": "execute_result"
    }
   ],
   "source": [
    "chain.invoke({\"input\": \"how can langsmith help with testing?\"})"
   ]
  },
  {
   "cell_type": "code",
   "execution_count": 13,
   "metadata": {},
   "outputs": [],
   "source": [
    "\n",
    "from langchain_core.prompts import MessagesPlaceholder\n",
    "\n",
    "# First we need a prompt that we can pass into an LLM to generate this search query\n",
    "\n",
    "prompt = ChatPromptTemplate.from_messages([\n",
    "    MessagesPlaceholder(variable_name=\"chat_history\"),\n",
    "    (\"user\", \"{input}\")\n",
    "])\n",
    "chain = prompt | llm | output_parser"
   ]
  },
  {
   "cell_type": "code",
   "execution_count": 14,
   "metadata": {},
   "outputs": [
    {
     "data": {
      "text/plain": [
       "'\"Frank name meaning and origin\"'"
      ]
     },
     "execution_count": 14,
     "metadata": {},
     "output_type": "execute_result"
    }
   ],
   "source": [
    "from langchain_core.messages import HumanMessage, AIMessage\n",
    "\n",
    "chat_history = [HumanMessage(content=\"Your name is Frank.\"), AIMessage(content=\"Ok! My name is Frank now\")]\n",
    "chain.invoke({\n",
    "    \"chat_history\": chat_history,\n",
    "    \"input\": \"What's your name\"\n",
    "})"
   ]
  },
  {
   "cell_type": "code",
   "execution_count": null,
   "metadata": {},
   "outputs": [],
   "source": []
  }
 ],
 "metadata": {
  "kernelspec": {
   "display_name": ".venv",
   "language": "python",
   "name": "python3"
  },
  "language_info": {
   "codemirror_mode": {
    "name": "ipython",
    "version": 3
   },
   "file_extension": ".py",
   "mimetype": "text/x-python",
   "name": "python",
   "nbconvert_exporter": "python",
   "pygments_lexer": "ipython3",
   "version": "3.11.9"
  }
 },
 "nbformat": 4,
 "nbformat_minor": 2
}
