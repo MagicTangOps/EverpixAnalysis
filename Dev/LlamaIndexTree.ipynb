{
 "cells": [
  {
   "cell_type": "code",
   "execution_count": 3,
   "metadata": {},
   "outputs": [],
   "source": [
    "import os\n",
    "from Setting import openAIKey\n",
    "\n",
    "os.environ[\"OPENAI_API_KEY\"] = openAIKey.Key\n",
    "\n",
    "# from llama_index.vector_stores.chroma import ChromaVectorStore\n",
    "# import chromadb\n",
    "\n",
    "# client = chromadb.PersistentClient(path=\"./Everpix\")\n",
    "# client.delete_collection(\"investor_report\")\n",
    "# collection = client.get_or_create_collection(\"investor_report\")\n",
    "\n",
    "# vector_store = ChromaVectorStore(chroma_collection=collection)\n",
    "\n",
    "from llama_index.llms.openai import OpenAI\n",
    "# from llama_index.embeddings.openai import OpenAIEmbedding\n",
    "\n",
    "# embed_model = (OpenAIEmbedding(model=\"text-embedding-3-small\"),)\n",
    "llm = OpenAI(model=\"gpt-3.5-turbo\", temperature=0.1) # used for generating summaries"
   ]
  },
  {
   "cell_type": "code",
   "execution_count": 4,
   "metadata": {},
   "outputs": [],
   "source": [
    "from llama_index.core import SimpleDirectoryReader\n",
    "\n",
    "content_1100 = '../Data/Investor Reports/2011.md'\n",
    "content_1210 = '../Data/Investor Reports/2012-10.md'\n",
    "content_1304 = '../Data/Investor Reports/2013-04.md'\n",
    "\n",
    "# documents = SimpleDirectoryReader(input_files=[\"./raptor_paper.pdf\"]).load_data()\n",
    "documents = SimpleDirectoryReader(input_files=[content_1100, content_1210, content_1304]).load_data()"
   ]
  },
  {
   "cell_type": "code",
   "execution_count": 5,
   "metadata": {},
   "outputs": [],
   "source": [
    "from llama_index.core import TreeIndex\n",
    "\n",
    "index = TreeIndex.from_documents(documents)\n",
    "# query\n",
    "query_engine = index.as_query_engine()\n"
   ]
  },
  {
   "cell_type": "code",
   "execution_count": 6,
   "metadata": {},
   "outputs": [],
   "source": [
    "response = query_engine.query(\"How many new users are there in October, 2012?\")"
   ]
  },
  {
   "cell_type": "code",
   "execution_count": 7,
   "metadata": {},
   "outputs": [
    {
     "data": {
      "text/plain": [
       "Response(response='Not many new users this month (+700).', source_nodes=[NodeWithScore(node=TextNode(id_='58954e49-c0e5-4f58-8641-eb9c77104717', embedding=None, metadata={'file_path': '../Data/Investor Reports/2012-10.md', 'file_name': '2012-10.md', 'file_size': 5851, 'creation_date': '2024-07-05', 'last_modified_date': '2024-06-09'}, excluded_embed_metadata_keys=['file_name', 'file_type', 'file_size', 'creation_date', 'last_modified_date', 'last_accessed_date'], excluded_llm_metadata_keys=['file_name', 'file_type', 'file_size', 'creation_date', 'last_modified_date', 'last_accessed_date'], relationships={<NodeRelationship.SOURCE: '1'>: RelatedNodeInfo(node_id='6fe10988-16fb-4860-bf12-358e2f74ee8f', node_type=<ObjectType.DOCUMENT: '4'>, metadata={'file_path': '../Data/Investor Reports/2012-10.md', 'file_name': '2012-10.md', 'file_size': 5851, 'creation_date': '2024-07-05', 'last_modified_date': '2024-06-09'}, hash='3bb5b7b4ca47ded660ade49a80f86ea7f375e38ceeefe1c32a89d34d7d1b5f3a'), <NodeRelationship.NEXT: '3'>: RelatedNodeInfo(node_id='228abf1b-0e81-47fa-aabc-79b33b926e83', node_type=<ObjectType.TEXT: '1'>, metadata={}, hash='917ce3cc6ae12ffab2a55a37ce9c2de9172d9f3924d878258993aca89c3601e5')}, text='Everpix October 2012 Report\\n===========================\\n\\nHigh Level\\n----------\\n\\n* Hired a full-time and on-site marketing / user growth consultant\\n* Actively searching for PR firm to handle our “real launch”\\n* Everpix 1.1 looking good for our “real launch”\\n* Windows Uploader just sent to first batch of external testers\\n* KPIs are defined and tracking started as of November 1st\\n\\nUsers and Subscriptions\\n-----------------------\\n\\nNot many new users this month (+700) but keep in mind growth is still organic as we have not done our PR push (very few people still know about us). In terms of early virality metrics, there were 300 virtual users added (i.e. recipients of Photo Mails who are not Everpix users yet).\\n\\nWe have almost 500 subscribed users now (80%+ on yearly subscriptions) out of about 4,000 eligible users. Subscriptions gross income for the past 2 months is as follow:\\n\\n* $6,121.88 in September\\n* $6,351.95 in October\\n\\nAgain, keep in mind these numbers will not match what’s the Profit & Loss statement as our payment processor wires funds to our bank account on a daily basis but with a 1 week delay. Also these amounts do not take into account subscriptions through the iTunes Store which are negligible.\\n\\nOur infrastructure costs for October were $8,438, so quite lower than for September as we are not running Everpix Beta anymore. We also discovered some wasted cloud storage space as well as opportunities for better provisioning of cloud machines, so infrastructure costs should continue to go down next month.\\n\\nUser Growth & Marketing\\n-----------------------\\n\\nAfter 45 days of search using multiple recruiters and various online job boards for a great candidate to drive user growth & marketing at Everpix, reviewing a 100+ resumes and doing several on-site interviews, we still were not able to find the ideal candidate (i.e. with extensive early stage startup and photo space experience).\\n\\nAs you know we have been heavily focused on product building so far due to the number of challenges in an ambitious system like Everpix. We realize it’s more than time to switch gear and focus on user growth & marketing: we especially have a lot of foundation work to be done in this area (from product messaging to KPIs). Rather than keep waiting for this ideal candidate, we decided to hire an on-site and full-time marketing / PR / user growth contractor for a couple months so we can get moving ASAP.\\n\\nKey Performance Indicators\\n--------------------------\\n\\nOne of the first tasks of our new team member for user growth & marketing was to work on defining a proper set of key performance indicators we can use in the next 6 months to track our progress. See the other page of this document for the list of our 10 KPIs, which we started tracking as of November 1st.\\n\\nAs you will notice, we have a lot of room for improvement, which is expected considering we didn’t have bandwidth to look into things like out of box experience or conversion funnels until now. The next step for our contractor is to take concrete actions to improve the KPIs.\\n\\nReal Launch Update\\n------------------\\n\\nWe have now reached a point where we could launch Everpix with a few days notice: the product features in Everpix 1.1 really reflect the Everpix vision and make it very clear Everpix is not another Flickr or SmugMug.\\n\\nOur current problem is fine-tuning the product messaging for launch and finding a great PR firm to launch with. We have considered 14 PR agencies in the past 3 weeks, met and followed up with several of them, but haven’t been impressed so far. Finding PR agencies which understand the precise needs and constraints of early stage startups, and truly “get” Everpix turns out to be surprisingly hard - it’s certainly not a budget problem for us as we’re willing to allocate what is needed.\\n\\nWe do want to launch ASAP as we’re the only ones offering such a holistic photo solution on the market today. Unfortunately, not having the PR agency chosen prevents us to decide on an official launch date at this point. We will actively work on contingency plans to ensure we don’t miss our opportunity window.\\n\\nExplore Photos by Similarity\\n----------------------------\\n\\nFor our subscribed users, we added an experimental feature on the Everpix website: searching photos by likeness aka “finding similar photos”. It’s a really interesting way to rediscover one’s photo collection and showcases the type of unique interaction we can build with photos - no other photo platform offers anything like this today.\\n\\nIf you have more than 5,000 photos in your collection, we encourage you to give it a try (look for it at the bottom of the Everpix home page after signing in on the website).', mimetype='text/plain', start_char_idx=0, end_char_idx=4692, text_template='{metadata_str}\\n\\n{content}', metadata_template='{key}: {value}', metadata_seperator='\\n'), score=None)], metadata={'58954e49-c0e5-4f58-8641-eb9c77104717': {'file_path': '../Data/Investor Reports/2012-10.md', 'file_name': '2012-10.md', 'file_size': 5851, 'creation_date': '2024-07-05', 'last_modified_date': '2024-06-09'}})"
      ]
     },
     "execution_count": 7,
     "metadata": {},
     "output_type": "execute_result"
    }
   ],
   "source": [
    "response"
   ]
  },
  {
   "cell_type": "code",
   "execution_count": 8,
   "metadata": {},
   "outputs": [],
   "source": [
    "response = query_engine.query(\"What's the progress of Everpix on Back End in October, 2012?\")"
   ]
  },
  {
   "cell_type": "code",
   "execution_count": 9,
   "metadata": {},
   "outputs": [
    {
     "data": {
      "text/plain": [
       "Response(response='The infrastructure costs for Everpix in October 2012 were $8,438, which was lower compared to September as they were no longer running Everpix Beta. Additionally, they identified wasted cloud storage space and opportunities for better provisioning of cloud machines, indicating that infrastructure costs were expected to continue decreasing in the following month.', source_nodes=[NodeWithScore(node=TextNode(id_='58954e49-c0e5-4f58-8641-eb9c77104717', embedding=None, metadata={'file_path': '../Data/Investor Reports/2012-10.md', 'file_name': '2012-10.md', 'file_size': 5851, 'creation_date': '2024-07-05', 'last_modified_date': '2024-06-09'}, excluded_embed_metadata_keys=['file_name', 'file_type', 'file_size', 'creation_date', 'last_modified_date', 'last_accessed_date'], excluded_llm_metadata_keys=['file_name', 'file_type', 'file_size', 'creation_date', 'last_modified_date', 'last_accessed_date'], relationships={<NodeRelationship.SOURCE: '1'>: RelatedNodeInfo(node_id='6fe10988-16fb-4860-bf12-358e2f74ee8f', node_type=<ObjectType.DOCUMENT: '4'>, metadata={'file_path': '../Data/Investor Reports/2012-10.md', 'file_name': '2012-10.md', 'file_size': 5851, 'creation_date': '2024-07-05', 'last_modified_date': '2024-06-09'}, hash='3bb5b7b4ca47ded660ade49a80f86ea7f375e38ceeefe1c32a89d34d7d1b5f3a'), <NodeRelationship.NEXT: '3'>: RelatedNodeInfo(node_id='228abf1b-0e81-47fa-aabc-79b33b926e83', node_type=<ObjectType.TEXT: '1'>, metadata={}, hash='917ce3cc6ae12ffab2a55a37ce9c2de9172d9f3924d878258993aca89c3601e5')}, text='Everpix October 2012 Report\\n===========================\\n\\nHigh Level\\n----------\\n\\n* Hired a full-time and on-site marketing / user growth consultant\\n* Actively searching for PR firm to handle our “real launch”\\n* Everpix 1.1 looking good for our “real launch”\\n* Windows Uploader just sent to first batch of external testers\\n* KPIs are defined and tracking started as of November 1st\\n\\nUsers and Subscriptions\\n-----------------------\\n\\nNot many new users this month (+700) but keep in mind growth is still organic as we have not done our PR push (very few people still know about us). In terms of early virality metrics, there were 300 virtual users added (i.e. recipients of Photo Mails who are not Everpix users yet).\\n\\nWe have almost 500 subscribed users now (80%+ on yearly subscriptions) out of about 4,000 eligible users. Subscriptions gross income for the past 2 months is as follow:\\n\\n* $6,121.88 in September\\n* $6,351.95 in October\\n\\nAgain, keep in mind these numbers will not match what’s the Profit & Loss statement as our payment processor wires funds to our bank account on a daily basis but with a 1 week delay. Also these amounts do not take into account subscriptions through the iTunes Store which are negligible.\\n\\nOur infrastructure costs for October were $8,438, so quite lower than for September as we are not running Everpix Beta anymore. We also discovered some wasted cloud storage space as well as opportunities for better provisioning of cloud machines, so infrastructure costs should continue to go down next month.\\n\\nUser Growth & Marketing\\n-----------------------\\n\\nAfter 45 days of search using multiple recruiters and various online job boards for a great candidate to drive user growth & marketing at Everpix, reviewing a 100+ resumes and doing several on-site interviews, we still were not able to find the ideal candidate (i.e. with extensive early stage startup and photo space experience).\\n\\nAs you know we have been heavily focused on product building so far due to the number of challenges in an ambitious system like Everpix. We realize it’s more than time to switch gear and focus on user growth & marketing: we especially have a lot of foundation work to be done in this area (from product messaging to KPIs). Rather than keep waiting for this ideal candidate, we decided to hire an on-site and full-time marketing / PR / user growth contractor for a couple months so we can get moving ASAP.\\n\\nKey Performance Indicators\\n--------------------------\\n\\nOne of the first tasks of our new team member for user growth & marketing was to work on defining a proper set of key performance indicators we can use in the next 6 months to track our progress. See the other page of this document for the list of our 10 KPIs, which we started tracking as of November 1st.\\n\\nAs you will notice, we have a lot of room for improvement, which is expected considering we didn’t have bandwidth to look into things like out of box experience or conversion funnels until now. The next step for our contractor is to take concrete actions to improve the KPIs.\\n\\nReal Launch Update\\n------------------\\n\\nWe have now reached a point where we could launch Everpix with a few days notice: the product features in Everpix 1.1 really reflect the Everpix vision and make it very clear Everpix is not another Flickr or SmugMug.\\n\\nOur current problem is fine-tuning the product messaging for launch and finding a great PR firm to launch with. We have considered 14 PR agencies in the past 3 weeks, met and followed up with several of them, but haven’t been impressed so far. Finding PR agencies which understand the precise needs and constraints of early stage startups, and truly “get” Everpix turns out to be surprisingly hard - it’s certainly not a budget problem for us as we’re willing to allocate what is needed.\\n\\nWe do want to launch ASAP as we’re the only ones offering such a holistic photo solution on the market today. Unfortunately, not having the PR agency chosen prevents us to decide on an official launch date at this point. We will actively work on contingency plans to ensure we don’t miss our opportunity window.\\n\\nExplore Photos by Similarity\\n----------------------------\\n\\nFor our subscribed users, we added an experimental feature on the Everpix website: searching photos by likeness aka “finding similar photos”. It’s a really interesting way to rediscover one’s photo collection and showcases the type of unique interaction we can build with photos - no other photo platform offers anything like this today.\\n\\nIf you have more than 5,000 photos in your collection, we encourage you to give it a try (look for it at the bottom of the Everpix home page after signing in on the website).', mimetype='text/plain', start_char_idx=0, end_char_idx=4692, text_template='{metadata_str}\\n\\n{content}', metadata_template='{key}: {value}', metadata_seperator='\\n'), score=None)], metadata={'58954e49-c0e5-4f58-8641-eb9c77104717': {'file_path': '../Data/Investor Reports/2012-10.md', 'file_name': '2012-10.md', 'file_size': 5851, 'creation_date': '2024-07-05', 'last_modified_date': '2024-06-09'}})"
      ]
     },
     "execution_count": 9,
     "metadata": {},
     "output_type": "execute_result"
    }
   ],
   "source": [
    "response"
   ]
  },
  {
   "cell_type": "code",
   "execution_count": null,
   "metadata": {},
   "outputs": [],
   "source": []
  }
 ],
 "metadata": {
  "kernelspec": {
   "display_name": ".venv",
   "language": "python",
   "name": "python3"
  },
  "language_info": {
   "codemirror_mode": {
    "name": "ipython",
    "version": 3
   },
   "file_extension": ".py",
   "mimetype": "text/x-python",
   "name": "python",
   "nbconvert_exporter": "python",
   "pygments_lexer": "ipython3",
   "version": "3.11.9"
  }
 },
 "nbformat": 4,
 "nbformat_minor": 2
}
