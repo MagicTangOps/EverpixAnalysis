{
  "cells": [
    {
      "cell_type": "markdown",
      "id": "6a728deb-28da-4064-8e66-bef416022207",
      "metadata": {
        "id": "6a728deb-28da-4064-8e66-bef416022207"
      },
      "source": [
        "# Knowledge Graph Agent with LlamaParse\n",
        "\n",
        "<a href=\"https://colab.research.google.com/github/run-llama/llama_parse/blob/main/examples/knowledge_graphs/kg_agent.ipynb\" target=\"_parent\"><img src=\"https://colab.research.google.com/assets/colab-badge.svg\" alt=\"Open In Colab\"/></a>\n",
        "\n",
        "Here we build a knowledge graph agent over the SF 2023 Budget Proposal. We use LlamaIndex abstractions to construct a knowledge graph, and we store the property graph in neo4j. We then build an agent that can interact with the knowledge graph as a tool."
      ]
    },
    {
      "cell_type": "markdown",
      "id": "e8db8ac2-5221-44de-a53e-cb5ab37ac8f5",
      "metadata": {
        "id": "e8db8ac2-5221-44de-a53e-cb5ab37ac8f5"
      },
      "source": [
        "## Setup (Installs, Data, Models)"
      ]
    },
    {
      "cell_type": "code",
      "execution_count": null,
      "id": "989d1cb5-5464-4d9d-ac1e-6e16276d3698",
      "metadata": {
        "colab": {
          "base_uri": "https://localhost:8080/"
        },
        "id": "989d1cb5-5464-4d9d-ac1e-6e16276d3698",
        "outputId": "ef9c92f0-eaa1-4a23-df94-daedb6df6f1e"
      },
      "outputs": [],
      "source": [
        "!pip install llama-index\n",
        "!pip install llama-index-core==0.10.42\n",
        "!pip install llama-index-embeddings-openai\n",
        "!pip install llama-index-postprocessor-flag-embedding-reranker\n",
        "!pip install git+https://github.com/FlagOpen/FlagEmbedding.git\n",
        "!pip install llama-index-graph-stores-neo4j\n",
        "!pip install llama-parse"
      ]
    },
    {
      "cell_type": "code",
      "execution_count": 1,
      "id": "580ecfc2-b082-4c4e-910a-7f88e8137aad",
      "metadata": {
        "id": "580ecfc2-b082-4c4e-910a-7f88e8137aad"
      },
      "outputs": [],
      "source": [
        "import nest_asyncio\n",
        "\n",
        "nest_asyncio.apply()"
      ]
    },
    {
      "cell_type": "code",
      "execution_count": 2,
      "id": "c86e95e2-0fdf-4bb1-bf2e-b33af13ac7ef",
      "metadata": {
        "id": "c86e95e2-0fdf-4bb1-bf2e-b33af13ac7ef"
      },
      "outputs": [],
      "source": [
        "import os\n",
        "\n",
        "# API access to llama-cloud\n",
        "os.environ[\"LLAMA_CLOUD_API_KEY\"] = \"llx-urdbonhLECN2x1yLa0WJZXTNE333PFV2o2icaigJ5sScwnrR\""
      ]
    },
    {
      "cell_type": "markdown",
      "id": "d6f683f2-a41e-4975-843c-435407132f0e",
      "metadata": {
        "id": "d6f683f2-a41e-4975-843c-435407132f0e"
      },
      "source": [
        "#### Setup Model\n",
        "\n",
        "Here we use gpt-4o and default OpenAI embeddings."
      ]
    },
    {
      "cell_type": "code",
      "execution_count": 11,
      "id": "d91854ee-d57a-4d7b-bcc8-c6bd7214fe84",
      "metadata": {
        "id": "d91854ee-d57a-4d7b-bcc8-c6bd7214fe84"
      },
      "outputs": [],
      "source": [
        "from llama_index.llms.openai import OpenAI\n",
        "from llama_index.embeddings.openai import OpenAIEmbedding\n",
        "from llama_index.core import Settings\n",
        "from Setting import openAIKey\n",
        "\n",
        "llm = OpenAI(model=\"gpt-4o\",api_key=openAIKey.Key)\n",
        "embed_model = OpenAIEmbedding(api_key=openAIKey.Key,model=\"text-embedding-3-small\")\n",
        "\n",
        "Settings.llm = llm\n",
        "Settings.embed_model = embed_model"
      ]
    },
    {
      "cell_type": "markdown",
      "id": "5bcf33f7-b195-444d-9355-ab47c91be6ad",
      "metadata": {
        "id": "5bcf33f7-b195-444d-9355-ab47c91be6ad"
      },
      "source": [
        "#### Load Data\n",
        "\n",
        "Here we load the 2023 Budget PDF and parse it with LlamaParse."
      ]
    },
    {
      "cell_type": "code",
      "execution_count": 4,
      "id": "24e7d3f1-012d-4964-8130-e9a386b70996",
      "metadata": {
        "colab": {
          "base_uri": "https://localhost:8080/"
        },
        "id": "24e7d3f1-012d-4964-8130-e9a386b70996",
        "outputId": "8a8fc044-0a47-4ed2-b3a6-6bddfbf804db"
      },
      "outputs": [
        {
          "name": "stdout",
          "output_type": "stream",
          "text": [
            "mkdir: data: File exists\n",
            "--2024-07-07 11:13:29--  https://www.dropbox.com/scl/fi/vip161t63s56vd94neqlt/2023-CSF_Proposed_Budget_Book_June_2023_Master_Web.pdf?rlkey=hemoce3w1jsuf6s2bz87g549i&dl=0\n",
            "Resolving www.dropbox.com (www.dropbox.com)... 162.125.1.18\n",
            "Connecting to www.dropbox.com (www.dropbox.com)|162.125.1.18|:443... connected.\n",
            "HTTP request sent, awaiting response... 302 Found\n",
            "Location: https://ucf22ab5d2f7b764381590a2e7d3.dl.dropboxusercontent.com/cd/0/inline/CWOfOTFpUnn79XOXjvldZCYs5AXvrufdL94813TJw5JIAYHb0YvMxewYMVuxWQjLvqo7H1zsGqRDpGtLpfDjymTiitbAlo3_GunH9GDDSRcFccOUz5JJHiAuEQLoC4vjj8I/file# [following]\n",
            "--2024-07-07 11:13:30--  https://ucf22ab5d2f7b764381590a2e7d3.dl.dropboxusercontent.com/cd/0/inline/CWOfOTFpUnn79XOXjvldZCYs5AXvrufdL94813TJw5JIAYHb0YvMxewYMVuxWQjLvqo7H1zsGqRDpGtLpfDjymTiitbAlo3_GunH9GDDSRcFccOUz5JJHiAuEQLoC4vjj8I/file\n",
            "Resolving ucf22ab5d2f7b764381590a2e7d3.dl.dropboxusercontent.com (ucf22ab5d2f7b764381590a2e7d3.dl.dropboxusercontent.com)... 162.125.1.15\n",
            "Connecting to ucf22ab5d2f7b764381590a2e7d3.dl.dropboxusercontent.com (ucf22ab5d2f7b764381590a2e7d3.dl.dropboxusercontent.com)|162.125.1.15|:443... connected.\n",
            "HTTP request sent, awaiting response... 302 Found\n",
            "Location: /cd/0/inline2/CWMh_YSauNuLKaX9cmmrTViAX_FHzqn2ri7ciPjVhMiLLMWEbpgWiRrIdyDBPEoNCPOzw-LwMshpgg9PruHdHgduotsP6AmsyEEciyHvATwqn-oU4EnrMDf-7CjmhcMboJEh6CQInoGkAgQh8_QDtkOGrQItdqEZqMTvcL0Q9yCOY82w49kj89PSndjKFsLhHWYOYfg2TQok2u3XP-OglaxMXF7sYxjfRBFvdhbWh9614c-PEvUFlOn_hXp7hIZR7vWLB8_0rp-Y1lbzxqhnQgCU9Q0oGrpZjM12aUtrV_WwWPGFp9Z_gMGWzjT2yFfAe1_a4I4IUob4WOcX-nGU26R-cK7gqqb3QNzG-pIs1CsxxQ/file [following]\n",
            "--2024-07-07 11:13:32--  https://ucf22ab5d2f7b764381590a2e7d3.dl.dropboxusercontent.com/cd/0/inline2/CWMh_YSauNuLKaX9cmmrTViAX_FHzqn2ri7ciPjVhMiLLMWEbpgWiRrIdyDBPEoNCPOzw-LwMshpgg9PruHdHgduotsP6AmsyEEciyHvATwqn-oU4EnrMDf-7CjmhcMboJEh6CQInoGkAgQh8_QDtkOGrQItdqEZqMTvcL0Q9yCOY82w49kj89PSndjKFsLhHWYOYfg2TQok2u3XP-OglaxMXF7sYxjfRBFvdhbWh9614c-PEvUFlOn_hXp7hIZR7vWLB8_0rp-Y1lbzxqhnQgCU9Q0oGrpZjM12aUtrV_WwWPGFp9Z_gMGWzjT2yFfAe1_a4I4IUob4WOcX-nGU26R-cK7gqqb3QNzG-pIs1CsxxQ/file\n",
            "Reusing existing connection to ucf22ab5d2f7b764381590a2e7d3.dl.dropboxusercontent.com:443.\n",
            "HTTP request sent, awaiting response... 200 OK\n",
            "Length: 10550407 (10M) [application/pdf]\n",
            "Saving to: ‘data/budget_2023.pdf’\n",
            "\n",
            "data/budget_2023.pd 100%[===================>]  10.06M  4.12MB/s    in 2.4s    \n",
            "\n",
            "2024-07-07 11:13:35 (4.12 MB/s) - ‘data/budget_2023.pdf’ saved [10550407/10550407]\n",
            "\n"
          ]
        }
      ],
      "source": [
        "!mkdir data\n",
        "!wget \"https://www.dropbox.com/scl/fi/vip161t63s56vd94neqlt/2023-CSF_Proposed_Budget_Book_June_2023_Master_Web.pdf?rlkey=hemoce3w1jsuf6s2bz87g549i&dl=0\" -O data/budget_2023.pdf"
      ]
    },
    {
      "cell_type": "code",
      "execution_count": 5,
      "id": "96d13f0b-1749-4c06-a4f7-b6f885db04d3",
      "metadata": {
        "colab": {
          "base_uri": "https://localhost:8080/"
        },
        "id": "96d13f0b-1749-4c06-a4f7-b6f885db04d3",
        "outputId": "ddd9efbe-cd9d-4485-b28a-7e5f01862c96"
      },
      "outputs": [
        {
          "name": "stdout",
          "output_type": "stream",
          "text": [
            "Started parsing the file under job_id cac11eca-59d5-4f94-b374-271a3413d914\n"
          ]
        }
      ],
      "source": [
        "from llama_parse import LlamaParse\n",
        "\n",
        "docs = LlamaParse(result_type=\"text\").load_data(\"./data/budget_2023.pdf\")"
      ]
    },
    {
      "cell_type": "code",
      "execution_count": 6,
      "id": "9afcf38e-3c7e-4b48-ae23-61b33f1a448a",
      "metadata": {
        "id": "9afcf38e-3c7e-4b48-ae23-61b33f1a448a"
      },
      "outputs": [],
      "source": [
        "from copy import deepcopy\n",
        "from llama_index.core.schema import TextNode, Document\n",
        "from llama_index.core import VectorStoreIndex\n",
        "\n",
        "\n",
        "def get_sub_docs(docs):\n",
        "    \"\"\"Split docs into pages, by separator.\"\"\"\n",
        "    sub_docs = []\n",
        "    for doc in docs:\n",
        "        doc_chunks = doc.text.split(\"\\n---\\n\")\n",
        "        for doc_chunk in doc_chunks:\n",
        "            sub_doc = Document(\n",
        "                text=doc_chunk,\n",
        "                metadata=deepcopy(doc.metadata),\n",
        "            )\n",
        "            sub_docs.append(sub_doc)\n",
        "\n",
        "    return sub_docs"
      ]
    },
    {
      "cell_type": "code",
      "execution_count": 7,
      "id": "d672fcaa-9e49-40a2-9a0b-e709351e840f",
      "metadata": {
        "id": "d672fcaa-9e49-40a2-9a0b-e709351e840f"
      },
      "outputs": [],
      "source": [
        "# this will split into pages\n",
        "sub_docs = get_sub_docs(docs)"
      ]
    },
    {
      "cell_type": "markdown",
      "id": "e55bcae5-43ba-4363-9109-d8080d19ce5a",
      "metadata": {
        "id": "e55bcae5-43ba-4363-9109-d8080d19ce5a"
      },
      "source": [
        "#### Initialize Graph Store\n",
        "\n",
        "Here we use Neo4j but you can also use our other integrations like Nebula (see an [example notebook](https://github.com/run-llama/llama_index/blob/main/docs/docs/examples/property_graph/property_graph_advanced.ipynb))."
      ]
    },
    {
      "cell_type": "markdown",
      "id": "b86a0e7b-bc15-45ed-b1f7-b4c82d16b815",
      "metadata": {
        "id": "b86a0e7b-bc15-45ed-b1f7-b4c82d16b815"
      },
      "source": [
        "To launch Neo4j locally, first ensure you have docker installed. Then, you can launch the database with the following docker command\n",
        "\n",
        "```bash\n",
        "docker run \\\n",
        "    -p 7474:7474 -p 7687:7687 \\\n",
        "    -v $PWD/data:/data -v $PWD/plugins:/plugins \\\n",
        "    --name neo4j-apoc \\\n",
        "    -e NEO4J_apoc_export_file_enabled=true \\\n",
        "    -e NEO4J_apoc_import_file_enabled=true \\\n",
        "    -e NEO4J_apoc_import_file_use__neo4j__config=true \\\n",
        "    -e NEO4JLABS_PLUGINS=\\[\\\"apoc\\\"\\] \\\n",
        "    neo4j:latest\n",
        "```\n",
        "\n",
        "From here, you can open the db at [http://localhost:7474/](http://localhost:7474/). On this page, you will be asked to sign in. Use the default username/password of `neo4j` and `neo4j`.\n",
        "\n",
        "Once you login for the first time, you will be asked to change the password.\n",
        "\n",
        "After this, you are ready to create your first property graph!"
      ]
    },
    {
      "cell_type": "code",
      "execution_count": 8,
      "id": "e25ed865-b78e-4856-9473-7123d9924d46",
      "metadata": {
        "colab": {
          "base_uri": "https://localhost:8080/",
          "height": 561
        },
        "id": "e25ed865-b78e-4856-9473-7123d9924d46",
        "outputId": "9ae87c40-6642-4c70-dedb-1023ac099a58"
      },
      "outputs": [
        {
          "name": "stderr",
          "output_type": "stream",
          "text": [
            "Received notification from DBMS server: {severity: WARNING} {code: Neo.ClientNotification.Statement.FeatureDeprecationWarning} {category: DEPRECATION} {title: This feature is deprecated and will be removed in future versions.} {description: The procedure has a deprecated field. ('config' used by 'apoc.meta.graphSample' is deprecated.)} {position: line: 1, column: 1, offset: 0} for query: \"CALL apoc.meta.graphSample() YIELD nodes, relationships RETURN nodes, [rel in relationships | {name:apoc.any.property(rel, 'type'), count: apoc.any.property(rel, 'count')}] AS relationships\"\n"
          ]
        }
      ],
      "source": [
        "from llama_index.graph_stores.neo4j import Neo4jPGStore\n",
        "\n",
        "graph_store = Neo4jPGStore(\n",
        "    username=\"neo4j\",\n",
        "    password=\"Th503221.\",\n",
        "    url=\"bolt://localhost:7687\",\n",
        ")\n",
        "vec_store = None"
      ]
    },
    {
      "cell_type": "markdown",
      "id": "10723825-328f-4175-ad85-637b0c28262c",
      "metadata": {
        "id": "10723825-328f-4175-ad85-637b0c28262c"
      },
      "source": [
        "## Construct Knowledge Graph, Get Retrievers\n",
        "\n",
        "This section shows you how to construct the knowledge graph over the existing documents.\n",
        "\n",
        "**Note**: we have the default extractors (implicit path, simple llm path) configured. You can also choose to use a pre-defined schema as mentioned in this [notebook](https://github.com/run-llama/llama_index/blob/main/docs/docs/examples/property_graph/property_graph_advanced.ipynb)."
      ]
    },
    {
      "cell_type": "code",
      "execution_count": 9,
      "id": "6b3d81c4-95a8-409b-a448-ac18e193effc",
      "metadata": {
        "id": "6b3d81c4-95a8-409b-a448-ac18e193effc"
      },
      "outputs": [],
      "source": [
        "from llama_index.core.indices.property_graph import (\n",
        "    ImplicitPathExtractor,\n",
        "    SimpleLLMPathExtractor,\n",
        ")\n",
        "from llama_index.core import PropertyGraphIndex\n",
        "from llama_index.llms.openai import OpenAI\n",
        "from llama_index.embeddings.openai import OpenAIEmbedding"
      ]
    },
    {
      "cell_type": "code",
      "execution_count": 14,
      "id": "d4debe49-e2a1-4092-b0e7-cc5e6604fbef",
      "metadata": {
        "id": "d4debe49-e2a1-4092-b0e7-cc5e6604fbef",
        "outputId": "6ea651f8-85b4-4b6e-d869-dc79a05951d6"
      },
      "outputs": [
        {
          "data": {
            "application/vnd.jupyter.widget-view+json": {
              "model_id": "077f40f92501493bb2213c5780b0b84b",
              "version_major": 2,
              "version_minor": 0
            },
            "text/plain": [
              "Parsing nodes:   0%|          | 0/362 [00:00<?, ?it/s]"
            ]
          },
          "metadata": {},
          "output_type": "display_data"
        },
        {
          "name": "stderr",
          "output_type": "stream",
          "text": [
            "Extracting implicit paths: 100%|██████████| 437/437 [00:00<00:00, 101771.84it/s]\n",
            "Extracting paths from text:  10%|▉         | 42/437 [00:28<07:33,  1.15s/it]Retrying llama_index.llms.openai.base.OpenAI._achat in 0.7550817581359097 seconds as it raised RateLimitError: Error code: 429 - {'error': {'message': 'Rate limit reached for gpt-4o in organization org-ADg9O6qOx3fmDvCTqnDjoryv on tokens per min (TPM): Limit 30000, Used 29506, Requested 1182. Please try again in 1.376s. Visit https://platform.openai.com/account/rate-limits to learn more.', 'type': 'tokens', 'param': None, 'code': 'rate_limit_exceeded'}}.\n",
            "Extracting paths from text:  10%|█         | 44/437 [00:31<08:07,  1.24s/it]Retrying llama_index.llms.openai.base.OpenAI._achat in 0.9529093668307388 seconds as it raised RateLimitError: Error code: 429 - {'error': {'message': 'Rate limit reached for gpt-4o in organization org-ADg9O6qOx3fmDvCTqnDjoryv on tokens per min (TPM): Limit 30000, Used 29177, Requested 1611. Please try again in 1.576s. Visit https://platform.openai.com/account/rate-limits to learn more.', 'type': 'tokens', 'param': None, 'code': 'rate_limit_exceeded'}}.\n",
            "Extracting paths from text:  11%|█         | 46/437 [00:36<11:37,  1.79s/it]Retrying llama_index.llms.openai.base.OpenAI._achat in 0.7421454782923459 seconds as it raised RateLimitError: Error code: 429 - {'error': {'message': 'Rate limit reached for gpt-4o in organization org-ADg9O6qOx3fmDvCTqnDjoryv on tokens per min (TPM): Limit 30000, Used 29155, Requested 1412. Please try again in 1.134s. Visit https://platform.openai.com/account/rate-limits to learn more.', 'type': 'tokens', 'param': None, 'code': 'rate_limit_exceeded'}}.\n",
            "Extracting paths from text:  11%|█         | 48/437 [00:39<12:09,  1.88s/it]Retrying llama_index.llms.openai.base.OpenAI._achat in 1.2634963758829565 seconds as it raised RateLimitError: Error code: 429 - {'error': {'message': 'Rate limit reached for gpt-4o in organization org-ADg9O6qOx3fmDvCTqnDjoryv on tokens per min (TPM): Limit 30000, Used 29254, Requested 1611. Please try again in 1.73s. Visit https://platform.openai.com/account/rate-limits to learn more.', 'type': 'tokens', 'param': None, 'code': 'rate_limit_exceeded'}}.\n",
            "Extracting paths from text:  11%|█         | 49/437 [00:41<05:31,  1.17it/s]\n"
          ]
        },
        {
          "ename": "KeyboardInterrupt",
          "evalue": "",
          "output_type": "error",
          "traceback": [
            "\u001b[0;31m---------------------------------------------------------------------------\u001b[0m",
            "\u001b[0;31mKeyboardInterrupt\u001b[0m                         Traceback (most recent call last)",
            "Cell \u001b[0;32mIn[14], line 1\u001b[0m\n\u001b[0;32m----> 1\u001b[0m index \u001b[38;5;241m=\u001b[39m \u001b[43mPropertyGraphIndex\u001b[49m\u001b[38;5;241;43m.\u001b[39;49m\u001b[43mfrom_documents\u001b[49m\u001b[43m(\u001b[49m\n\u001b[1;32m      2\u001b[0m \u001b[43m    \u001b[49m\u001b[43msub_docs\u001b[49m\u001b[43m,\u001b[49m\n\u001b[1;32m      3\u001b[0m \u001b[43m    \u001b[49m\u001b[43membed_model\u001b[49m\u001b[38;5;241;43m=\u001b[39;49m\u001b[43membed_model\u001b[49m\u001b[43m,\u001b[49m\n\u001b[1;32m      4\u001b[0m \u001b[43m    \u001b[49m\u001b[43mkg_extractors\u001b[49m\u001b[38;5;241;43m=\u001b[39;49m\u001b[43m[\u001b[49m\n\u001b[1;32m      5\u001b[0m \u001b[43m        \u001b[49m\u001b[43mImplicitPathExtractor\u001b[49m\u001b[43m(\u001b[49m\u001b[43m)\u001b[49m\u001b[43m,\u001b[49m\n\u001b[1;32m      6\u001b[0m \u001b[43m        \u001b[49m\u001b[43mSimpleLLMPathExtractor\u001b[49m\u001b[43m(\u001b[49m\n\u001b[1;32m      7\u001b[0m \u001b[43m            \u001b[49m\u001b[43mllm\u001b[49m\u001b[38;5;241;43m=\u001b[39;49m\u001b[43mllm\u001b[49m\u001b[43m,\u001b[49m\n\u001b[1;32m      8\u001b[0m \u001b[43m            \u001b[49m\u001b[43mnum_workers\u001b[49m\u001b[38;5;241;43m=\u001b[39;49m\u001b[38;5;241;43m4\u001b[39;49m\u001b[43m,\u001b[49m\n\u001b[1;32m      9\u001b[0m \u001b[43m            \u001b[49m\u001b[43mmax_paths_per_chunk\u001b[49m\u001b[38;5;241;43m=\u001b[39;49m\u001b[38;5;241;43m10\u001b[39;49m\u001b[43m,\u001b[49m\n\u001b[1;32m     10\u001b[0m \u001b[43m        \u001b[49m\u001b[43m)\u001b[49m\u001b[43m,\u001b[49m\n\u001b[1;32m     11\u001b[0m \u001b[43m    \u001b[49m\u001b[43m]\u001b[49m\u001b[43m,\u001b[49m\n\u001b[1;32m     12\u001b[0m \u001b[43m    \u001b[49m\u001b[43mproperty_graph_store\u001b[49m\u001b[38;5;241;43m=\u001b[39;49m\u001b[43mgraph_store\u001b[49m\u001b[43m,\u001b[49m\n\u001b[1;32m     13\u001b[0m \u001b[43m    \u001b[49m\u001b[43mshow_progress\u001b[49m\u001b[38;5;241;43m=\u001b[39;49m\u001b[38;5;28;43;01mTrue\u001b[39;49;00m\u001b[43m,\u001b[49m\n\u001b[1;32m     14\u001b[0m \u001b[43m)\u001b[49m\n",
            "File \u001b[0;32m~/NUS/Internship/EverpixAnalysis/.venv/lib/python3.11/site-packages/llama_index/core/indices/base.py:145\u001b[0m, in \u001b[0;36mBaseIndex.from_documents\u001b[0;34m(cls, documents, storage_context, show_progress, callback_manager, transformations, service_context, **kwargs)\u001b[0m\n\u001b[1;32m    136\u001b[0m     docstore\u001b[38;5;241m.\u001b[39mset_document_hash(doc\u001b[38;5;241m.\u001b[39mget_doc_id(), doc\u001b[38;5;241m.\u001b[39mhash)\n\u001b[1;32m    138\u001b[0m nodes \u001b[38;5;241m=\u001b[39m run_transformations(\n\u001b[1;32m    139\u001b[0m     documents,  \u001b[38;5;66;03m# type: ignore\u001b[39;00m\n\u001b[1;32m    140\u001b[0m     transformations,\n\u001b[1;32m    141\u001b[0m     show_progress\u001b[38;5;241m=\u001b[39mshow_progress,\n\u001b[1;32m    142\u001b[0m     \u001b[38;5;241m*\u001b[39m\u001b[38;5;241m*\u001b[39mkwargs,\n\u001b[1;32m    143\u001b[0m )\n\u001b[0;32m--> 145\u001b[0m \u001b[38;5;28;01mreturn\u001b[39;00m \u001b[38;5;28;43mcls\u001b[39;49m\u001b[43m(\u001b[49m\n\u001b[1;32m    146\u001b[0m \u001b[43m    \u001b[49m\u001b[43mnodes\u001b[49m\u001b[38;5;241;43m=\u001b[39;49m\u001b[43mnodes\u001b[49m\u001b[43m,\u001b[49m\n\u001b[1;32m    147\u001b[0m \u001b[43m    \u001b[49m\u001b[43mstorage_context\u001b[49m\u001b[38;5;241;43m=\u001b[39;49m\u001b[43mstorage_context\u001b[49m\u001b[43m,\u001b[49m\n\u001b[1;32m    148\u001b[0m \u001b[43m    \u001b[49m\u001b[43mcallback_manager\u001b[49m\u001b[38;5;241;43m=\u001b[39;49m\u001b[43mcallback_manager\u001b[49m\u001b[43m,\u001b[49m\n\u001b[1;32m    149\u001b[0m \u001b[43m    \u001b[49m\u001b[43mshow_progress\u001b[49m\u001b[38;5;241;43m=\u001b[39;49m\u001b[43mshow_progress\u001b[49m\u001b[43m,\u001b[49m\n\u001b[1;32m    150\u001b[0m \u001b[43m    \u001b[49m\u001b[43mtransformations\u001b[49m\u001b[38;5;241;43m=\u001b[39;49m\u001b[43mtransformations\u001b[49m\u001b[43m,\u001b[49m\n\u001b[1;32m    151\u001b[0m \u001b[43m    \u001b[49m\u001b[43mservice_context\u001b[49m\u001b[38;5;241;43m=\u001b[39;49m\u001b[43mservice_context\u001b[49m\u001b[43m,\u001b[49m\n\u001b[1;32m    152\u001b[0m \u001b[43m    \u001b[49m\u001b[38;5;241;43m*\u001b[39;49m\u001b[38;5;241;43m*\u001b[39;49m\u001b[43mkwargs\u001b[49m\u001b[43m,\u001b[49m\n\u001b[1;32m    153\u001b[0m \u001b[43m\u001b[49m\u001b[43m)\u001b[49m\n",
            "File \u001b[0;32m~/NUS/Internship/EverpixAnalysis/.venv/lib/python3.11/site-packages/llama_index/core/indices/property_graph/base.py:134\u001b[0m, in \u001b[0;36mPropertyGraphIndex.__init__\u001b[0;34m(self, nodes, llm, kg_extractors, property_graph_store, vector_store, use_async, embed_model, embed_kg_nodes, callback_manager, transformations, storage_context, show_progress, **kwargs)\u001b[0m\n\u001b[1;32m    128\u001b[0m \u001b[38;5;28mself\u001b[39m\u001b[38;5;241m.\u001b[39m_embed_kg_nodes \u001b[38;5;241m=\u001b[39m embed_kg_nodes\n\u001b[1;32m    129\u001b[0m \u001b[38;5;28mself\u001b[39m\u001b[38;5;241m.\u001b[39m_override_vector_store \u001b[38;5;241m=\u001b[39m (\n\u001b[1;32m    130\u001b[0m     vector_store \u001b[38;5;129;01mis\u001b[39;00m \u001b[38;5;129;01mnot\u001b[39;00m \u001b[38;5;28;01mNone\u001b[39;00m\n\u001b[1;32m    131\u001b[0m     \u001b[38;5;129;01mor\u001b[39;00m \u001b[38;5;129;01mnot\u001b[39;00m storage_context\u001b[38;5;241m.\u001b[39mproperty_graph_store\u001b[38;5;241m.\u001b[39msupports_vector_queries\n\u001b[1;32m    132\u001b[0m )\n\u001b[0;32m--> 134\u001b[0m \u001b[38;5;28;43msuper\u001b[39;49m\u001b[43m(\u001b[49m\u001b[43m)\u001b[49m\u001b[38;5;241;43m.\u001b[39;49m\u001b[38;5;21;43m__init__\u001b[39;49m\u001b[43m(\u001b[49m\n\u001b[1;32m    135\u001b[0m \u001b[43m    \u001b[49m\u001b[43mnodes\u001b[49m\u001b[38;5;241;43m=\u001b[39;49m\u001b[43mnodes\u001b[49m\u001b[43m,\u001b[49m\n\u001b[1;32m    136\u001b[0m \u001b[43m    \u001b[49m\u001b[43mcallback_manager\u001b[49m\u001b[38;5;241;43m=\u001b[39;49m\u001b[43mcallback_manager\u001b[49m\u001b[43m,\u001b[49m\n\u001b[1;32m    137\u001b[0m \u001b[43m    \u001b[49m\u001b[43mstorage_context\u001b[49m\u001b[38;5;241;43m=\u001b[39;49m\u001b[43mstorage_context\u001b[49m\u001b[43m,\u001b[49m\n\u001b[1;32m    138\u001b[0m \u001b[43m    \u001b[49m\u001b[43mtransformations\u001b[49m\u001b[38;5;241;43m=\u001b[39;49m\u001b[43mtransformations\u001b[49m\u001b[43m,\u001b[49m\n\u001b[1;32m    139\u001b[0m \u001b[43m    \u001b[49m\u001b[43mshow_progress\u001b[49m\u001b[38;5;241;43m=\u001b[39;49m\u001b[43mshow_progress\u001b[49m\u001b[43m,\u001b[49m\n\u001b[1;32m    140\u001b[0m \u001b[43m    \u001b[49m\u001b[38;5;241;43m*\u001b[39;49m\u001b[38;5;241;43m*\u001b[39;49m\u001b[43mkwargs\u001b[49m\u001b[43m,\u001b[49m\n\u001b[1;32m    141\u001b[0m \u001b[43m\u001b[49m\u001b[43m)\u001b[49m\n",
            "File \u001b[0;32m~/NUS/Internship/EverpixAnalysis/.venv/lib/python3.11/site-packages/llama_index/core/indices/base.py:94\u001b[0m, in \u001b[0;36mBaseIndex.__init__\u001b[0;34m(self, nodes, objects, index_struct, storage_context, callback_manager, transformations, show_progress, service_context, **kwargs)\u001b[0m\n\u001b[1;32m     92\u001b[0m \u001b[38;5;28;01mif\u001b[39;00m index_struct \u001b[38;5;129;01mis\u001b[39;00m \u001b[38;5;28;01mNone\u001b[39;00m:\n\u001b[1;32m     93\u001b[0m     nodes \u001b[38;5;241m=\u001b[39m nodes \u001b[38;5;129;01mor\u001b[39;00m []\n\u001b[0;32m---> 94\u001b[0m     index_struct \u001b[38;5;241m=\u001b[39m \u001b[38;5;28;43mself\u001b[39;49m\u001b[38;5;241;43m.\u001b[39;49m\u001b[43mbuild_index_from_nodes\u001b[49m\u001b[43m(\u001b[49m\n\u001b[1;32m     95\u001b[0m \u001b[43m        \u001b[49m\u001b[43mnodes\u001b[49m\u001b[43m \u001b[49m\u001b[38;5;241;43m+\u001b[39;49m\u001b[43m \u001b[49m\u001b[43mobjects\u001b[49m\u001b[43m,\u001b[49m\u001b[43m \u001b[49m\u001b[38;5;241;43m*\u001b[39;49m\u001b[38;5;241;43m*\u001b[39;49m\u001b[43mkwargs\u001b[49m\u001b[43m  \u001b[49m\u001b[38;5;66;43;03m# type: ignore\u001b[39;49;00m\n\u001b[1;32m     96\u001b[0m \u001b[43m    \u001b[49m\u001b[43m)\u001b[49m\n\u001b[1;32m     97\u001b[0m \u001b[38;5;28mself\u001b[39m\u001b[38;5;241m.\u001b[39m_index_struct \u001b[38;5;241m=\u001b[39m index_struct\n\u001b[1;32m     98\u001b[0m \u001b[38;5;28mself\u001b[39m\u001b[38;5;241m.\u001b[39m_storage_context\u001b[38;5;241m.\u001b[39mindex_store\u001b[38;5;241m.\u001b[39madd_index_struct(\u001b[38;5;28mself\u001b[39m\u001b[38;5;241m.\u001b[39m_index_struct)\n",
            "File \u001b[0;32m~/NUS/Internship/EverpixAnalysis/.venv/lib/python3.11/site-packages/llama_index/core/indices/base.py:216\u001b[0m, in \u001b[0;36mBaseIndex.build_index_from_nodes\u001b[0;34m(self, nodes, **build_kwargs)\u001b[0m\n\u001b[1;32m    214\u001b[0m \u001b[38;5;250m\u001b[39m\u001b[38;5;124;03m\"\"\"Build the index from nodes.\"\"\"\u001b[39;00m\n\u001b[1;32m    215\u001b[0m \u001b[38;5;28mself\u001b[39m\u001b[38;5;241m.\u001b[39m_docstore\u001b[38;5;241m.\u001b[39madd_documents(nodes, allow_update\u001b[38;5;241m=\u001b[39m\u001b[38;5;28;01mTrue\u001b[39;00m)\n\u001b[0;32m--> 216\u001b[0m \u001b[38;5;28;01mreturn\u001b[39;00m \u001b[38;5;28;43mself\u001b[39;49m\u001b[38;5;241;43m.\u001b[39;49m\u001b[43m_build_index_from_nodes\u001b[49m\u001b[43m(\u001b[49m\u001b[43mnodes\u001b[49m\u001b[43m,\u001b[49m\u001b[43m \u001b[49m\u001b[38;5;241;43m*\u001b[39;49m\u001b[38;5;241;43m*\u001b[39;49m\u001b[43mbuild_kwargs\u001b[49m\u001b[43m)\u001b[49m\n",
            "File \u001b[0;32m~/NUS/Internship/EverpixAnalysis/.venv/lib/python3.11/site-packages/llama_index/core/indices/property_graph/base.py:328\u001b[0m, in \u001b[0;36mPropertyGraphIndex._build_index_from_nodes\u001b[0;34m(self, nodes)\u001b[0m\n\u001b[1;32m    326\u001b[0m \u001b[38;5;28;01mdef\u001b[39;00m \u001b[38;5;21m_build_index_from_nodes\u001b[39m(\u001b[38;5;28mself\u001b[39m, nodes: Optional[Sequence[BaseNode]]) \u001b[38;5;241m-\u001b[39m\u001b[38;5;241m>\u001b[39m IndexLPG:\n\u001b[1;32m    327\u001b[0m \u001b[38;5;250m    \u001b[39m\u001b[38;5;124;03m\"\"\"Build index from nodes.\"\"\"\u001b[39;00m\n\u001b[0;32m--> 328\u001b[0m     nodes \u001b[38;5;241m=\u001b[39m \u001b[38;5;28;43mself\u001b[39;49m\u001b[38;5;241;43m.\u001b[39;49m\u001b[43m_insert_nodes\u001b[49m\u001b[43m(\u001b[49m\u001b[43mnodes\u001b[49m\u001b[43m \u001b[49m\u001b[38;5;129;43;01mor\u001b[39;49;00m\u001b[43m \u001b[49m\u001b[43m[\u001b[49m\u001b[43m]\u001b[49m\u001b[43m)\u001b[49m\n\u001b[1;32m    330\u001b[0m     \u001b[38;5;66;03m# this isn't really used or needed\u001b[39;00m\n\u001b[1;32m    331\u001b[0m     \u001b[38;5;28;01mreturn\u001b[39;00m IndexLPG()\n",
            "File \u001b[0;32m~/NUS/Internship/EverpixAnalysis/.venv/lib/python3.11/site-packages/llama_index/core/indices/property_graph/base.py:198\u001b[0m, in \u001b[0;36mPropertyGraphIndex._insert_nodes\u001b[0;34m(self, nodes)\u001b[0m\n\u001b[1;32m    196\u001b[0m \u001b[38;5;66;03m# run transformations on nodes to extract triplets\u001b[39;00m\n\u001b[1;32m    197\u001b[0m \u001b[38;5;28;01mif\u001b[39;00m \u001b[38;5;28mself\u001b[39m\u001b[38;5;241m.\u001b[39m_use_async:\n\u001b[0;32m--> 198\u001b[0m     nodes \u001b[38;5;241m=\u001b[39m \u001b[43masyncio\u001b[49m\u001b[38;5;241;43m.\u001b[39;49m\u001b[43mrun\u001b[49m\u001b[43m(\u001b[49m\n\u001b[1;32m    199\u001b[0m \u001b[43m        \u001b[49m\u001b[43marun_transformations\u001b[49m\u001b[43m(\u001b[49m\n\u001b[1;32m    200\u001b[0m \u001b[43m            \u001b[49m\u001b[43mnodes\u001b[49m\u001b[43m,\u001b[49m\u001b[43m \u001b[49m\u001b[38;5;28;43mself\u001b[39;49m\u001b[38;5;241;43m.\u001b[39;49m\u001b[43m_kg_extractors\u001b[49m\u001b[43m,\u001b[49m\u001b[43m \u001b[49m\u001b[43mshow_progress\u001b[49m\u001b[38;5;241;43m=\u001b[39;49m\u001b[38;5;28;43mself\u001b[39;49m\u001b[38;5;241;43m.\u001b[39;49m\u001b[43m_show_progress\u001b[49m\n\u001b[1;32m    201\u001b[0m \u001b[43m        \u001b[49m\u001b[43m)\u001b[49m\n\u001b[1;32m    202\u001b[0m \u001b[43m    \u001b[49m\u001b[43m)\u001b[49m\n\u001b[1;32m    203\u001b[0m \u001b[38;5;28;01melse\u001b[39;00m:\n\u001b[1;32m    204\u001b[0m     nodes \u001b[38;5;241m=\u001b[39m run_transformations(\n\u001b[1;32m    205\u001b[0m         nodes, \u001b[38;5;28mself\u001b[39m\u001b[38;5;241m.\u001b[39m_kg_extractors, show_progress\u001b[38;5;241m=\u001b[39m\u001b[38;5;28mself\u001b[39m\u001b[38;5;241m.\u001b[39m_show_progress\n\u001b[1;32m    206\u001b[0m     )\n",
            "File \u001b[0;32m~/NUS/Internship/EverpixAnalysis/.venv/lib/python3.11/site-packages/nest_asyncio.py:30\u001b[0m, in \u001b[0;36m_patch_asyncio.<locals>.run\u001b[0;34m(main, debug)\u001b[0m\n\u001b[1;32m     28\u001b[0m task \u001b[38;5;241m=\u001b[39m asyncio\u001b[38;5;241m.\u001b[39mensure_future(main)\n\u001b[1;32m     29\u001b[0m \u001b[38;5;28;01mtry\u001b[39;00m:\n\u001b[0;32m---> 30\u001b[0m     \u001b[38;5;28;01mreturn\u001b[39;00m \u001b[43mloop\u001b[49m\u001b[38;5;241;43m.\u001b[39;49m\u001b[43mrun_until_complete\u001b[49m\u001b[43m(\u001b[49m\u001b[43mtask\u001b[49m\u001b[43m)\u001b[49m\n\u001b[1;32m     31\u001b[0m \u001b[38;5;28;01mfinally\u001b[39;00m:\n\u001b[1;32m     32\u001b[0m     \u001b[38;5;28;01mif\u001b[39;00m \u001b[38;5;129;01mnot\u001b[39;00m task\u001b[38;5;241m.\u001b[39mdone():\n",
            "File \u001b[0;32m~/NUS/Internship/EverpixAnalysis/.venv/lib/python3.11/site-packages/nest_asyncio.py:92\u001b[0m, in \u001b[0;36m_patch_loop.<locals>.run_until_complete\u001b[0;34m(self, future)\u001b[0m\n\u001b[1;32m     90\u001b[0m     f\u001b[38;5;241m.\u001b[39m_log_destroy_pending \u001b[38;5;241m=\u001b[39m \u001b[38;5;28;01mFalse\u001b[39;00m\n\u001b[1;32m     91\u001b[0m \u001b[38;5;28;01mwhile\u001b[39;00m \u001b[38;5;129;01mnot\u001b[39;00m f\u001b[38;5;241m.\u001b[39mdone():\n\u001b[0;32m---> 92\u001b[0m     \u001b[38;5;28;43mself\u001b[39;49m\u001b[38;5;241;43m.\u001b[39;49m\u001b[43m_run_once\u001b[49m\u001b[43m(\u001b[49m\u001b[43m)\u001b[49m\n\u001b[1;32m     93\u001b[0m     \u001b[38;5;28;01mif\u001b[39;00m \u001b[38;5;28mself\u001b[39m\u001b[38;5;241m.\u001b[39m_stopping:\n\u001b[1;32m     94\u001b[0m         \u001b[38;5;28;01mbreak\u001b[39;00m\n",
            "File \u001b[0;32m~/NUS/Internship/EverpixAnalysis/.venv/lib/python3.11/site-packages/nest_asyncio.py:115\u001b[0m, in \u001b[0;36m_patch_loop.<locals>._run_once\u001b[0;34m(self)\u001b[0m\n\u001b[1;32m    108\u001b[0m     heappop(scheduled)\n\u001b[1;32m    110\u001b[0m timeout \u001b[38;5;241m=\u001b[39m (\n\u001b[1;32m    111\u001b[0m     \u001b[38;5;241m0\u001b[39m \u001b[38;5;28;01mif\u001b[39;00m ready \u001b[38;5;129;01mor\u001b[39;00m \u001b[38;5;28mself\u001b[39m\u001b[38;5;241m.\u001b[39m_stopping\n\u001b[1;32m    112\u001b[0m     \u001b[38;5;28;01melse\u001b[39;00m \u001b[38;5;28mmin\u001b[39m(\u001b[38;5;28mmax\u001b[39m(\n\u001b[1;32m    113\u001b[0m         scheduled[\u001b[38;5;241m0\u001b[39m]\u001b[38;5;241m.\u001b[39m_when \u001b[38;5;241m-\u001b[39m \u001b[38;5;28mself\u001b[39m\u001b[38;5;241m.\u001b[39mtime(), \u001b[38;5;241m0\u001b[39m), \u001b[38;5;241m86400\u001b[39m) \u001b[38;5;28;01mif\u001b[39;00m scheduled\n\u001b[1;32m    114\u001b[0m     \u001b[38;5;28;01melse\u001b[39;00m \u001b[38;5;28;01mNone\u001b[39;00m)\n\u001b[0;32m--> 115\u001b[0m event_list \u001b[38;5;241m=\u001b[39m \u001b[38;5;28;43mself\u001b[39;49m\u001b[38;5;241;43m.\u001b[39;49m\u001b[43m_selector\u001b[49m\u001b[38;5;241;43m.\u001b[39;49m\u001b[43mselect\u001b[49m\u001b[43m(\u001b[49m\u001b[43mtimeout\u001b[49m\u001b[43m)\u001b[49m\n\u001b[1;32m    116\u001b[0m \u001b[38;5;28mself\u001b[39m\u001b[38;5;241m.\u001b[39m_process_events(event_list)\n\u001b[1;32m    118\u001b[0m end_time \u001b[38;5;241m=\u001b[39m \u001b[38;5;28mself\u001b[39m\u001b[38;5;241m.\u001b[39mtime() \u001b[38;5;241m+\u001b[39m \u001b[38;5;28mself\u001b[39m\u001b[38;5;241m.\u001b[39m_clock_resolution\n",
            "File \u001b[0;32m/opt/homebrew/Cellar/python@3.11/3.11.9/Frameworks/Python.framework/Versions/3.11/lib/python3.11/selectors.py:566\u001b[0m, in \u001b[0;36mKqueueSelector.select\u001b[0;34m(self, timeout)\u001b[0m\n\u001b[1;32m    564\u001b[0m ready \u001b[38;5;241m=\u001b[39m []\n\u001b[1;32m    565\u001b[0m \u001b[38;5;28;01mtry\u001b[39;00m:\n\u001b[0;32m--> 566\u001b[0m     kev_list \u001b[38;5;241m=\u001b[39m \u001b[38;5;28mself\u001b[39m\u001b[38;5;241m.\u001b[39m_selector\u001b[38;5;241m.\u001b[39mcontrol(\u001b[38;5;28;01mNone\u001b[39;00m, max_ev, timeout)\n\u001b[1;32m    567\u001b[0m \u001b[38;5;28;01mexcept\u001b[39;00m \u001b[38;5;167;01mInterruptedError\u001b[39;00m:\n\u001b[1;32m    568\u001b[0m     \u001b[38;5;28;01mreturn\u001b[39;00m ready\n",
            "\u001b[0;31mKeyboardInterrupt\u001b[0m: "
          ]
        },
        {
          "name": "stderr",
          "output_type": "stream",
          "text": [
            "Retrying llama_index.llms.openai.base.OpenAI._achat in 0.5601892574820082 seconds as it raised RateLimitError: Error code: 429 - {'error': {'message': 'Rate limit reached for gpt-4o in organization org-ADg9O6qOx3fmDvCTqnDjoryv on tokens per min (TPM): Limit 30000, Used 29771, Requested 1412. Please try again in 2.366s. Visit https://platform.openai.com/account/rate-limits to learn more.', 'type': 'tokens', 'param': None, 'code': 'rate_limit_exceeded'}}.\n",
            "Retrying llama_index.llms.openai.base.OpenAI._achat in 0.24476692769405572 seconds as it raised RateLimitError: Error code: 429 - {'error': {'message': 'Rate limit reached for gpt-4o in organization org-ADg9O6qOx3fmDvCTqnDjoryv on tokens per min (TPM): Limit 30000, Used 29706, Requested 1488. Please try again in 2.388s. Visit https://platform.openai.com/account/rate-limits to learn more.', 'type': 'tokens', 'param': None, 'code': 'rate_limit_exceeded'}}.\n",
            "Retrying llama_index.llms.openai.base.OpenAI._achat in 0.022311549632059613 seconds as it raised RateLimitError: Error code: 429 - {'error': {'message': 'Rate limit reached for gpt-4o in organization org-ADg9O6qOx3fmDvCTqnDjoryv on tokens per min (TPM): Limit 30000, Used 29113, Requested 1488. Please try again in 1.202s. Visit https://platform.openai.com/account/rate-limits to learn more.', 'type': 'tokens', 'param': None, 'code': 'rate_limit_exceeded'}}.\n",
            "Retrying llama_index.llms.openai.base.OpenAI._achat in 0.532777745770498 seconds as it raised RateLimitError: Error code: 429 - {'error': {'message': 'Rate limit reached for gpt-4o in organization org-ADg9O6qOx3fmDvCTqnDjoryv on tokens per min (TPM): Limit 30000, Used 28884, Requested 1136. Please try again in 40ms. Visit https://platform.openai.com/account/rate-limits to learn more.', 'type': 'tokens', 'param': None, 'code': 'rate_limit_exceeded'}}.\n",
            "Retrying llama_index.llms.openai.base.OpenAI._achat in 0.7125059700367536 seconds as it raised RateLimitError: Error code: 429 - {'error': {'message': 'Rate limit reached for gpt-4o in organization org-ADg9O6qOx3fmDvCTqnDjoryv on tokens per min (TPM): Limit 30000, Used 29632, Requested 1403. Please try again in 2.07s. Visit https://platform.openai.com/account/rate-limits to learn more.', 'type': 'tokens', 'param': None, 'code': 'rate_limit_exceeded'}}.\n",
            "Retrying llama_index.llms.openai.base.OpenAI._achat in 1.633451079759864 seconds as it raised RateLimitError: Error code: 429 - {'error': {'message': 'Rate limit reached for gpt-4o in organization org-ADg9O6qOx3fmDvCTqnDjoryv on tokens per min (TPM): Limit 30000, Used 29732, Requested 1403. Please try again in 2.27s. Visit https://platform.openai.com/account/rate-limits to learn more.', 'type': 'tokens', 'param': None, 'code': 'rate_limit_exceeded'}}.\n",
            "Retrying llama_index.llms.openai.base.OpenAI._achat in 0.7009511440202866 seconds as it raised RateLimitError: Error code: 429 - {'error': {'message': 'Rate limit reached for gpt-4o in organization org-ADg9O6qOx3fmDvCTqnDjoryv on tokens per min (TPM): Limit 30000, Used 28885, Requested 1436. Please try again in 642ms. Visit https://platform.openai.com/account/rate-limits to learn more.', 'type': 'tokens', 'param': None, 'code': 'rate_limit_exceeded'}}.\n",
            "Retrying llama_index.llms.openai.base.OpenAI._achat in 0.23559931460372685 seconds as it raised RateLimitError: Error code: 429 - {'error': {'message': 'Rate limit reached for gpt-4o in organization org-ADg9O6qOx3fmDvCTqnDjoryv on tokens per min (TPM): Limit 30000, Used 29447, Requested 1531. Please try again in 1.955s. Visit https://platform.openai.com/account/rate-limits to learn more.', 'type': 'tokens', 'param': None, 'code': 'rate_limit_exceeded'}}.\n",
            "Retrying llama_index.llms.openai.base.OpenAI._achat in 0.5684462552482494 seconds as it raised RateLimitError: Error code: 429 - {'error': {'message': 'Rate limit reached for gpt-4o in organization org-ADg9O6qOx3fmDvCTqnDjoryv on tokens per min (TPM): Limit 30000, Used 29525, Requested 1436. Please try again in 1.921s. Visit https://platform.openai.com/account/rate-limits to learn more.', 'type': 'tokens', 'param': None, 'code': 'rate_limit_exceeded'}}.\n",
            "Retrying llama_index.llms.openai.base.OpenAI._achat in 0.9752598314855885 seconds as it raised RateLimitError: Error code: 429 - {'error': {'message': 'Rate limit reached for gpt-4o in organization org-ADg9O6qOx3fmDvCTqnDjoryv on tokens per min (TPM): Limit 30000, Used 28607, Requested 1531. Please try again in 276ms. Visit https://platform.openai.com/account/rate-limits to learn more.', 'type': 'tokens', 'param': None, 'code': 'rate_limit_exceeded'}}.\n",
            "Retrying llama_index.llms.openai.base.OpenAI._achat in 0.9191611350179986 seconds as it raised RateLimitError: Error code: 429 - {'error': {'message': 'Rate limit reached for gpt-4o in organization org-ADg9O6qOx3fmDvCTqnDjoryv on tokens per min (TPM): Limit 30000, Used 29775, Requested 1791. Please try again in 3.132s. Visit https://platform.openai.com/account/rate-limits to learn more.', 'type': 'tokens', 'param': None, 'code': 'rate_limit_exceeded'}}.\n",
            "Retrying llama_index.llms.openai.base.OpenAI._achat in 0.17115929548499254 seconds as it raised RateLimitError: Error code: 429 - {'error': {'message': 'Rate limit reached for gpt-4o in organization org-ADg9O6qOx3fmDvCTqnDjoryv on tokens per min (TPM): Limit 30000, Used 28820, Requested 1386. Please try again in 412ms. Visit https://platform.openai.com/account/rate-limits to learn more.', 'type': 'tokens', 'param': None, 'code': 'rate_limit_exceeded'}}.\n",
            "Retrying llama_index.llms.openai.base.OpenAI._achat in 0.9670567492132967 seconds as it raised RateLimitError: Error code: 429 - {'error': {'message': 'Rate limit reached for gpt-4o in organization org-ADg9O6qOx3fmDvCTqnDjoryv on tokens per min (TPM): Limit 30000, Used 29763, Requested 1791. Please try again in 3.108s. Visit https://platform.openai.com/account/rate-limits to learn more.', 'type': 'tokens', 'param': None, 'code': 'rate_limit_exceeded'}}.\n",
            "Retrying llama_index.llms.openai.base.OpenAI._achat in 0.48753015087949503 seconds as it raised RateLimitError: Error code: 429 - {'error': {'message': 'Rate limit reached for gpt-4o in organization org-ADg9O6qOx3fmDvCTqnDjoryv on tokens per min (TPM): Limit 30000, Used 29530, Requested 1568. Please try again in 2.196s. Visit https://platform.openai.com/account/rate-limits to learn more.', 'type': 'tokens', 'param': None, 'code': 'rate_limit_exceeded'}}.\n",
            "Retrying llama_index.llms.openai.base.OpenAI._achat in 0.566100504600751 seconds as it raised RateLimitError: Error code: 429 - {'error': {'message': 'Rate limit reached for gpt-4o in organization org-ADg9O6qOx3fmDvCTqnDjoryv on tokens per min (TPM): Limit 30000, Used 29221, Requested 1568. Please try again in 1.578s. Visit https://platform.openai.com/account/rate-limits to learn more.', 'type': 'tokens', 'param': None, 'code': 'rate_limit_exceeded'}}.\n",
            "Retrying llama_index.llms.openai.base.OpenAI._achat in 0.2092399877904486 seconds as it raised RateLimitError: Error code: 429 - {'error': {'message': 'Rate limit reached for gpt-4o in organization org-ADg9O6qOx3fmDvCTqnDjoryv on tokens per min (TPM): Limit 30000, Used 29136, Requested 1254. Please try again in 780ms. Visit https://platform.openai.com/account/rate-limits to learn more.', 'type': 'tokens', 'param': None, 'code': 'rate_limit_exceeded'}}.\n",
            "Retrying llama_index.llms.openai.base.OpenAI._achat in 0.7946818606509624 seconds as it raised RateLimitError: Error code: 429 - {'error': {'message': 'Rate limit reached for gpt-4o in organization org-ADg9O6qOx3fmDvCTqnDjoryv on tokens per min (TPM): Limit 30000, Used 29456, Requested 1795. Please try again in 2.502s. Visit https://platform.openai.com/account/rate-limits to learn more.', 'type': 'tokens', 'param': None, 'code': 'rate_limit_exceeded'}}.\n",
            "Retrying llama_index.llms.openai.base.OpenAI._achat in 0.4603663460929962 seconds as it raised RateLimitError: Error code: 429 - {'error': {'message': 'Rate limit reached for gpt-4o in organization org-ADg9O6qOx3fmDvCTqnDjoryv on tokens per min (TPM): Limit 30000, Used 29331, Requested 1441. Please try again in 1.544s. Visit https://platform.openai.com/account/rate-limits to learn more.', 'type': 'tokens', 'param': None, 'code': 'rate_limit_exceeded'}}.\n",
            "Retrying llama_index.llms.openai.base.OpenAI._achat in 0.12288197618990648 seconds as it raised RateLimitError: Error code: 429 - {'error': {'message': 'Rate limit reached for gpt-4o in organization org-ADg9O6qOx3fmDvCTqnDjoryv on tokens per min (TPM): Limit 30000, Used 28886, Requested 1795. Please try again in 1.362s. Visit https://platform.openai.com/account/rate-limits to learn more.', 'type': 'tokens', 'param': None, 'code': 'rate_limit_exceeded'}}.\n",
            "Retrying llama_index.llms.openai.base.OpenAI._achat in 1.0385676029165056 seconds as it raised RateLimitError: Error code: 429 - {'error': {'message': 'Rate limit reached for gpt-4o in organization org-ADg9O6qOx3fmDvCTqnDjoryv on tokens per min (TPM): Limit 30000, Used 29316, Requested 1441. Please try again in 1.514s. Visit https://platform.openai.com/account/rate-limits to learn more.', 'type': 'tokens', 'param': None, 'code': 'rate_limit_exceeded'}}.\n",
            "Retrying llama_index.llms.openai.base.OpenAI._achat in 0.23608434519221078 seconds as it raised RateLimitError: Error code: 429 - {'error': {'message': 'Rate limit reached for gpt-4o in organization org-ADg9O6qOx3fmDvCTqnDjoryv on tokens per min (TPM): Limit 30000, Used 29489, Requested 1638. Please try again in 2.254s. Visit https://platform.openai.com/account/rate-limits to learn more.', 'type': 'tokens', 'param': None, 'code': 'rate_limit_exceeded'}}.\n",
            "Retrying llama_index.llms.openai.base.OpenAI._achat in 0.4344423076071573 seconds as it raised RateLimitError: Error code: 429 - {'error': {'message': 'Rate limit reached for gpt-4o in organization org-ADg9O6qOx3fmDvCTqnDjoryv on tokens per min (TPM): Limit 30000, Used 29293, Requested 1638. Please try again in 1.862s. Visit https://platform.openai.com/account/rate-limits to learn more.', 'type': 'tokens', 'param': None, 'code': 'rate_limit_exceeded'}}.\n",
            "Retrying llama_index.llms.openai.base.OpenAI._achat in 0.6930622178465423 seconds as it raised RateLimitError: Error code: 429 - {'error': {'message': 'Rate limit reached for gpt-4o in organization org-ADg9O6qOx3fmDvCTqnDjoryv on tokens per min (TPM): Limit 30000, Used 28959, Requested 1933. Please try again in 1.784s. Visit https://platform.openai.com/account/rate-limits to learn more.', 'type': 'tokens', 'param': None, 'code': 'rate_limit_exceeded'}}.\n",
            "Retrying llama_index.llms.openai.base.OpenAI._achat in 0.7350949426908377 seconds as it raised RateLimitError: Error code: 429 - {'error': {'message': 'Rate limit reached for gpt-4o in organization org-ADg9O6qOx3fmDvCTqnDjoryv on tokens per min (TPM): Limit 30000, Used 29837, Requested 1749. Please try again in 3.172s. Visit https://platform.openai.com/account/rate-limits to learn more.', 'type': 'tokens', 'param': None, 'code': 'rate_limit_exceeded'}}.\n",
            "Retrying llama_index.llms.openai.base.OpenAI._achat in 0.5429215132402156 seconds as it raised RateLimitError: Error code: 429 - {'error': {'message': 'Rate limit reached for gpt-4o in organization org-ADg9O6qOx3fmDvCTqnDjoryv on tokens per min (TPM): Limit 30000, Used 29168, Requested 1749. Please try again in 1.834s. Visit https://platform.openai.com/account/rate-limits to learn more.', 'type': 'tokens', 'param': None, 'code': 'rate_limit_exceeded'}}.\n",
            "Retrying llama_index.llms.openai.base.OpenAI._achat in 1.8139947598568464 seconds as it raised RateLimitError: Error code: 429 - {'error': {'message': 'Rate limit reached for gpt-4o in organization org-ADg9O6qOx3fmDvCTqnDjoryv on tokens per min (TPM): Limit 30000, Used 29090, Requested 1933. Please try again in 2.046s. Visit https://platform.openai.com/account/rate-limits to learn more.', 'type': 'tokens', 'param': None, 'code': 'rate_limit_exceeded'}}.\n",
            "Retrying llama_index.llms.openai.base.OpenAI._achat in 0.24840705801294238 seconds as it raised RateLimitError: Error code: 429 - {'error': {'message': 'Rate limit reached for gpt-4o in organization org-ADg9O6qOx3fmDvCTqnDjoryv on tokens per min (TPM): Limit 30000, Used 29085, Requested 1280. Please try again in 730ms. Visit https://platform.openai.com/account/rate-limits to learn more.', 'type': 'tokens', 'param': None, 'code': 'rate_limit_exceeded'}}.\n",
            "Retrying llama_index.llms.openai.base.OpenAI._achat in 0.01126110310728079 seconds as it raised RateLimitError: Error code: 429 - {'error': {'message': 'Rate limit reached for gpt-4o in organization org-ADg9O6qOx3fmDvCTqnDjoryv on tokens per min (TPM): Limit 30000, Used 29135, Requested 1676. Please try again in 1.622s. Visit https://platform.openai.com/account/rate-limits to learn more.', 'type': 'tokens', 'param': None, 'code': 'rate_limit_exceeded'}}.\n",
            "Retrying llama_index.llms.openai.base.OpenAI._achat in 1.2242234563441936 seconds as it raised RateLimitError: Error code: 429 - {'error': {'message': 'Rate limit reached for gpt-4o in organization org-ADg9O6qOx3fmDvCTqnDjoryv on tokens per min (TPM): Limit 30000, Used 29599, Requested 1676. Please try again in 2.55s. Visit https://platform.openai.com/account/rate-limits to learn more.', 'type': 'tokens', 'param': None, 'code': 'rate_limit_exceeded'}}.\n",
            "Retrying llama_index.llms.openai.base.OpenAI._achat in 0.1801064148075412 seconds as it raised RateLimitError: Error code: 429 - {'error': {'message': 'Rate limit reached for gpt-4o in organization org-ADg9O6qOx3fmDvCTqnDjoryv on tokens per min (TPM): Limit 30000, Used 29883, Requested 1367. Please try again in 2.5s. Visit https://platform.openai.com/account/rate-limits to learn more.', 'type': 'tokens', 'param': None, 'code': 'rate_limit_exceeded'}}.\n",
            "Retrying llama_index.llms.openai.base.OpenAI._achat in 0.0562590819073121 seconds as it raised RateLimitError: Error code: 429 - {'error': {'message': 'Rate limit reached for gpt-4o in organization org-ADg9O6qOx3fmDvCTqnDjoryv on tokens per min (TPM): Limit 30000, Used 28706, Requested 1367. Please try again in 146ms. Visit https://platform.openai.com/account/rate-limits to learn more.', 'type': 'tokens', 'param': None, 'code': 'rate_limit_exceeded'}}.\n",
            "Retrying llama_index.llms.openai.base.OpenAI._achat in 0.847394425278623 seconds as it raised RateLimitError: Error code: 429 - {'error': {'message': 'Rate limit reached for gpt-4o in organization org-ADg9O6qOx3fmDvCTqnDjoryv on tokens per min (TPM): Limit 30000, Used 29039, Requested 1696. Please try again in 1.47s. Visit https://platform.openai.com/account/rate-limits to learn more.', 'type': 'tokens', 'param': None, 'code': 'rate_limit_exceeded'}}.\n",
            "Retrying llama_index.llms.openai.base.OpenAI._achat in 0.14111530010429418 seconds as it raised RateLimitError: Error code: 429 - {'error': {'message': 'Rate limit reached for gpt-4o in organization org-ADg9O6qOx3fmDvCTqnDjoryv on tokens per min (TPM): Limit 30000, Used 29531, Requested 1672. Please try again in 2.406s. Visit https://platform.openai.com/account/rate-limits to learn more.', 'type': 'tokens', 'param': None, 'code': 'rate_limit_exceeded'}}.\n",
            "Retrying llama_index.llms.openai.base.OpenAI._achat in 1.9525240531399364 seconds as it raised RateLimitError: Error code: 429 - {'error': {'message': 'Rate limit reached for gpt-4o in organization org-ADg9O6qOx3fmDvCTqnDjoryv on tokens per min (TPM): Limit 30000, Used 29951, Requested 1696. Please try again in 3.294s. Visit https://platform.openai.com/account/rate-limits to learn more.', 'type': 'tokens', 'param': None, 'code': 'rate_limit_exceeded'}}.\n",
            "Retrying llama_index.llms.openai.base.OpenAI._achat in 0.5881729162238669 seconds as it raised RateLimitError: Error code: 429 - {'error': {'message': 'Rate limit reached for gpt-4o in organization org-ADg9O6qOx3fmDvCTqnDjoryv on tokens per min (TPM): Limit 30000, Used 29490, Requested 2093. Please try again in 3.166s. Visit https://platform.openai.com/account/rate-limits to learn more.', 'type': 'tokens', 'param': None, 'code': 'rate_limit_exceeded'}}.\n",
            "Retrying llama_index.llms.openai.base.OpenAI._achat in 0.7230147654539137 seconds as it raised RateLimitError: Error code: 429 - {'error': {'message': 'Rate limit reached for gpt-4o in organization org-ADg9O6qOx3fmDvCTqnDjoryv on tokens per min (TPM): Limit 30000, Used 29697, Requested 1033. Please try again in 1.46s. Visit https://platform.openai.com/account/rate-limits to learn more.', 'type': 'tokens', 'param': None, 'code': 'rate_limit_exceeded'}}.\n",
            "Retrying llama_index.llms.openai.base.OpenAI._achat in 1.4603794192468036 seconds as it raised RateLimitError: Error code: 429 - {'error': {'message': 'Rate limit reached for gpt-4o in organization org-ADg9O6qOx3fmDvCTqnDjoryv on tokens per min (TPM): Limit 30000, Used 29691, Requested 2093. Please try again in 3.568s. Visit https://platform.openai.com/account/rate-limits to learn more.', 'type': 'tokens', 'param': None, 'code': 'rate_limit_exceeded'}}.\n",
            "Retrying llama_index.llms.openai.base.OpenAI._achat in 0.4706996042471162 seconds as it raised RateLimitError: Error code: 429 - {'error': {'message': 'Rate limit reached for gpt-4o in organization org-ADg9O6qOx3fmDvCTqnDjoryv on tokens per min (TPM): Limit 30000, Used 29467, Requested 1219. Please try again in 1.372s. Visit https://platform.openai.com/account/rate-limits to learn more.', 'type': 'tokens', 'param': None, 'code': 'rate_limit_exceeded'}}.\n",
            "Retrying llama_index.llms.openai.base.OpenAI._achat in 0.3943675943317675 seconds as it raised RateLimitError: Error code: 429 - {'error': {'message': 'Rate limit reached for gpt-4o in organization org-ADg9O6qOx3fmDvCTqnDjoryv on tokens per min (TPM): Limit 30000, Used 29797, Requested 1219. Please try again in 2.032s. Visit https://platform.openai.com/account/rate-limits to learn more.', 'type': 'tokens', 'param': None, 'code': 'rate_limit_exceeded'}}.\n",
            "Retrying llama_index.llms.openai.base.OpenAI._achat in 0.5265085780920514 seconds as it raised RateLimitError: Error code: 429 - {'error': {'message': 'Rate limit reached for gpt-4o in organization org-ADg9O6qOx3fmDvCTqnDjoryv on tokens per min (TPM): Limit 30000, Used 29563, Requested 1453. Please try again in 2.032s. Visit https://platform.openai.com/account/rate-limits to learn more.', 'type': 'tokens', 'param': None, 'code': 'rate_limit_exceeded'}}.\n",
            "Retrying llama_index.llms.openai.base.OpenAI._achat in 0.9997475886246462 seconds as it raised RateLimitError: Error code: 429 - {'error': {'message': 'Rate limit reached for gpt-4o in organization org-ADg9O6qOx3fmDvCTqnDjoryv on tokens per min (TPM): Limit 30000, Used 29003, Requested 1677. Please try again in 1.36s. Visit https://platform.openai.com/account/rate-limits to learn more.', 'type': 'tokens', 'param': None, 'code': 'rate_limit_exceeded'}}.\n",
            "Retrying llama_index.llms.openai.base.OpenAI._achat in 1.8758528317913359 seconds as it raised RateLimitError: Error code: 429 - {'error': {'message': 'Rate limit reached for gpt-4o in organization org-ADg9O6qOx3fmDvCTqnDjoryv on tokens per min (TPM): Limit 30000, Used 29523, Requested 1453. Please try again in 1.951s. Visit https://platform.openai.com/account/rate-limits to learn more.', 'type': 'tokens', 'param': None, 'code': 'rate_limit_exceeded'}}.\n",
            "Retrying llama_index.llms.openai.base.OpenAI._achat in 0.019233722386189367 seconds as it raised RateLimitError: Error code: 429 - {'error': {'message': 'Rate limit reached for gpt-4o in organization org-ADg9O6qOx3fmDvCTqnDjoryv on tokens per min (TPM): Limit 30000, Used 29238, Requested 1677. Please try again in 1.83s. Visit https://platform.openai.com/account/rate-limits to learn more.', 'type': 'tokens', 'param': None, 'code': 'rate_limit_exceeded'}}.\n",
            "Retrying llama_index.llms.openai.base.OpenAI._achat in 0.39512084112405943 seconds as it raised RateLimitError: Error code: 429 - {'error': {'message': 'Rate limit reached for gpt-4o in organization org-ADg9O6qOx3fmDvCTqnDjoryv on tokens per min (TPM): Limit 30000, Used 29783, Requested 1512. Please try again in 2.59s. Visit https://platform.openai.com/account/rate-limits to learn more.', 'type': 'tokens', 'param': None, 'code': 'rate_limit_exceeded'}}.\n",
            "Retrying llama_index.llms.openai.base.OpenAI._achat in 1.5850510552769348 seconds as it raised RateLimitError: Error code: 429 - {'error': {'message': 'Rate limit reached for gpt-4o in organization org-ADg9O6qOx3fmDvCTqnDjoryv on tokens per min (TPM): Limit 30000, Used 28992, Requested 1512. Please try again in 1.007s. Visit https://platform.openai.com/account/rate-limits to learn more.', 'type': 'tokens', 'param': None, 'code': 'rate_limit_exceeded'}}.\n",
            "Retrying llama_index.llms.openai.base.OpenAI._achat in 0.32451229935559167 seconds as it raised RateLimitError: Error code: 429 - {'error': {'message': 'Rate limit reached for gpt-4o in organization org-ADg9O6qOx3fmDvCTqnDjoryv on tokens per min (TPM): Limit 30000, Used 29559, Requested 1644. Please try again in 2.406s. Visit https://platform.openai.com/account/rate-limits to learn more.', 'type': 'tokens', 'param': None, 'code': 'rate_limit_exceeded'}}.\n",
            "Retrying llama_index.llms.openai.base.OpenAI._achat in 0.5524531176947125 seconds as it raised RateLimitError: Error code: 429 - {'error': {'message': 'Rate limit reached for gpt-4o in organization org-ADg9O6qOx3fmDvCTqnDjoryv on tokens per min (TPM): Limit 30000, Used 28667, Requested 1734. Please try again in 802ms. Visit https://platform.openai.com/account/rate-limits to learn more.', 'type': 'tokens', 'param': None, 'code': 'rate_limit_exceeded'}}.\n",
            "Retrying llama_index.llms.openai.base.OpenAI._achat in 0.9971338853925523 seconds as it raised RateLimitError: Error code: 429 - {'error': {'message': 'Rate limit reached for gpt-4o in organization org-ADg9O6qOx3fmDvCTqnDjoryv on tokens per min (TPM): Limit 30000, Used 29737, Requested 1812. Please try again in 3.098s. Visit https://platform.openai.com/account/rate-limits to learn more.', 'type': 'tokens', 'param': None, 'code': 'rate_limit_exceeded'}}.\n",
            "Retrying llama_index.llms.openai.base.OpenAI._achat in 0.8813210667566025 seconds as it raised RateLimitError: Error code: 429 - {'error': {'message': 'Rate limit reached for gpt-4o in organization org-ADg9O6qOx3fmDvCTqnDjoryv on tokens per min (TPM): Limit 30000, Used 29680, Requested 1894. Please try again in 3.148s. Visit https://platform.openai.com/account/rate-limits to learn more.', 'type': 'tokens', 'param': None, 'code': 'rate_limit_exceeded'}}.\n",
            "Retrying llama_index.llms.openai.base.OpenAI._achat in 1.890808284441423 seconds as it raised RateLimitError: Error code: 429 - {'error': {'message': 'Rate limit reached for gpt-4o in organization org-ADg9O6qOx3fmDvCTqnDjoryv on tokens per min (TPM): Limit 30000, Used 29175, Requested 1812. Please try again in 1.974s. Visit https://platform.openai.com/account/rate-limits to learn more.', 'type': 'tokens', 'param': None, 'code': 'rate_limit_exceeded'}}.\n",
            "Retrying llama_index.llms.openai.base.OpenAI._achat in 0.6564556334972167 seconds as it raised RateLimitError: Error code: 429 - {'error': {'message': 'Rate limit reached for gpt-4o in organization org-ADg9O6qOx3fmDvCTqnDjoryv on tokens per min (TPM): Limit 30000, Used 29074, Requested 1894. Please try again in 1.936s. Visit https://platform.openai.com/account/rate-limits to learn more.', 'type': 'tokens', 'param': None, 'code': 'rate_limit_exceeded'}}.\n",
            "Retrying llama_index.llms.openai.base.OpenAI._achat in 0.1540633678545913 seconds as it raised RateLimitError: Error code: 429 - {'error': {'message': 'Rate limit reached for gpt-4o in organization org-ADg9O6qOx3fmDvCTqnDjoryv on tokens per min (TPM): Limit 30000, Used 29250, Requested 2289. Please try again in 3.078s. Visit https://platform.openai.com/account/rate-limits to learn more.', 'type': 'tokens', 'param': None, 'code': 'rate_limit_exceeded'}}.\n",
            "Retrying llama_index.llms.openai.base.OpenAI._achat in 1.4630544087685213 seconds as it raised RateLimitError: Error code: 429 - {'error': {'message': 'Rate limit reached for gpt-4o in organization org-ADg9O6qOx3fmDvCTqnDjoryv on tokens per min (TPM): Limit 30000, Used 28292, Requested 2289. Please try again in 1.162s. Visit https://platform.openai.com/account/rate-limits to learn more.', 'type': 'tokens', 'param': None, 'code': 'rate_limit_exceeded'}}.\n",
            "Retrying llama_index.llms.openai.base.OpenAI._achat in 0.8160184029164066 seconds as it raised RateLimitError: Error code: 429 - {'error': {'message': 'Rate limit reached for gpt-4o in organization org-ADg9O6qOx3fmDvCTqnDjoryv on tokens per min (TPM): Limit 30000, Used 28851, Requested 2032. Please try again in 1.766s. Visit https://platform.openai.com/account/rate-limits to learn more.', 'type': 'tokens', 'param': None, 'code': 'rate_limit_exceeded'}}.\n",
            "Retrying llama_index.llms.openai.base.OpenAI._achat in 0.23555316434489548 seconds as it raised RateLimitError: Error code: 429 - {'error': {'message': 'Rate limit reached for gpt-4o in organization org-ADg9O6qOx3fmDvCTqnDjoryv on tokens per min (TPM): Limit 30000, Used 28480, Requested 2080. Please try again in 1.12s. Visit https://platform.openai.com/account/rate-limits to learn more.', 'type': 'tokens', 'param': None, 'code': 'rate_limit_exceeded'}}.\n",
            "Retrying llama_index.llms.openai.base.OpenAI._achat in 0.8173131539421773 seconds as it raised RateLimitError: Error code: 429 - {'error': {'message': 'Rate limit reached for gpt-4o in organization org-ADg9O6qOx3fmDvCTqnDjoryv on tokens per min (TPM): Limit 30000, Used 29671, Requested 2043. Please try again in 3.428s. Visit https://platform.openai.com/account/rate-limits to learn more.', 'type': 'tokens', 'param': None, 'code': 'rate_limit_exceeded'}}.\n",
            "Retrying llama_index.llms.openai.base.OpenAI._achat in 1.825455800473188 seconds as it raised RateLimitError: Error code: 429 - {'error': {'message': 'Rate limit reached for gpt-4o in organization org-ADg9O6qOx3fmDvCTqnDjoryv on tokens per min (TPM): Limit 30000, Used 28575, Requested 2080. Please try again in 1.31s. Visit https://platform.openai.com/account/rate-limits to learn more.', 'type': 'tokens', 'param': None, 'code': 'rate_limit_exceeded'}}.\n",
            "Retrying llama_index.llms.openai.base.OpenAI._achat in 0.8957520951574607 seconds as it raised RateLimitError: Error code: 429 - {'error': {'message': 'Rate limit reached for gpt-4o in organization org-ADg9O6qOx3fmDvCTqnDjoryv on tokens per min (TPM): Limit 30000, Used 29805, Requested 2196. Please try again in 4.001s. Visit https://platform.openai.com/account/rate-limits to learn more.', 'type': 'tokens', 'param': None, 'code': 'rate_limit_exceeded'}}.\n",
            "Retrying llama_index.llms.openai.base.OpenAI._achat in 0.9647268969735647 seconds as it raised RateLimitError: Error code: 429 - {'error': {'message': 'Rate limit reached for gpt-4o in organization org-ADg9O6qOx3fmDvCTqnDjoryv on tokens per min (TPM): Limit 30000, Used 29158, Requested 1852. Please try again in 2.019s. Visit https://platform.openai.com/account/rate-limits to learn more.', 'type': 'tokens', 'param': None, 'code': 'rate_limit_exceeded'}}.\n",
            "Retrying llama_index.llms.openai.base.OpenAI._achat in 0.514535105564337 seconds as it raised RateLimitError: Error code: 429 - {'error': {'message': 'Rate limit reached for gpt-4o in organization org-ADg9O6qOx3fmDvCTqnDjoryv on tokens per min (TPM): Limit 30000, Used 28773, Requested 2196. Please try again in 1.938s. Visit https://platform.openai.com/account/rate-limits to learn more.', 'type': 'tokens', 'param': None, 'code': 'rate_limit_exceeded'}}.\n",
            "Retrying llama_index.llms.openai.base.OpenAI._achat in 1.6339500427642888 seconds as it raised RateLimitError: Error code: 429 - {'error': {'message': 'Rate limit reached for gpt-4o in organization org-ADg9O6qOx3fmDvCTqnDjoryv on tokens per min (TPM): Limit 30000, Used 29217, Requested 1852. Please try again in 2.138s. Visit https://platform.openai.com/account/rate-limits to learn more.', 'type': 'tokens', 'param': None, 'code': 'rate_limit_exceeded'}}.\n",
            "Retrying llama_index.llms.openai.base.OpenAI._achat in 0.2916375903061952 seconds as it raised RateLimitError: Error code: 429 - {'error': {'message': 'Rate limit reached for gpt-4o in organization org-ADg9O6qOx3fmDvCTqnDjoryv on tokens per min (TPM): Limit 30000, Used 29378, Requested 2177. Please try again in 3.11s. Visit https://platform.openai.com/account/rate-limits to learn more.', 'type': 'tokens', 'param': None, 'code': 'rate_limit_exceeded'}}.\n",
            "Retrying llama_index.llms.openai.base.OpenAI._achat in 1.0786843220913458 seconds as it raised RateLimitError: Error code: 429 - {'error': {'message': 'Rate limit reached for gpt-4o in organization org-ADg9O6qOx3fmDvCTqnDjoryv on tokens per min (TPM): Limit 30000, Used 29225, Requested 2177. Please try again in 2.804s. Visit https://platform.openai.com/account/rate-limits to learn more.', 'type': 'tokens', 'param': None, 'code': 'rate_limit_exceeded'}}.\n",
            "Retrying llama_index.llms.openai.base.OpenAI._achat in 0.9128505841719072 seconds as it raised RateLimitError: Error code: 429 - {'error': {'message': 'Rate limit reached for gpt-4o in organization org-ADg9O6qOx3fmDvCTqnDjoryv on tokens per min (TPM): Limit 30000, Used 29320, Requested 2068. Please try again in 2.776s. Visit https://platform.openai.com/account/rate-limits to learn more.', 'type': 'tokens', 'param': None, 'code': 'rate_limit_exceeded'}}.\n",
            "Retrying llama_index.llms.openai.base.OpenAI._achat in 0.9165459117342085 seconds as it raised RateLimitError: Error code: 429 - {'error': {'message': 'Rate limit reached for gpt-4o in organization org-ADg9O6qOx3fmDvCTqnDjoryv on tokens per min (TPM): Limit 30000, Used 28840, Requested 2053. Please try again in 1.786s. Visit https://platform.openai.com/account/rate-limits to learn more.', 'type': 'tokens', 'param': None, 'code': 'rate_limit_exceeded'}}.\n",
            "Retrying llama_index.llms.openai.base.OpenAI._achat in 1.0780509174310398 seconds as it raised RateLimitError: Error code: 429 - {'error': {'message': 'Rate limit reached for gpt-4o in organization org-ADg9O6qOx3fmDvCTqnDjoryv on tokens per min (TPM): Limit 30000, Used 28814, Requested 2068. Please try again in 1.764s. Visit https://platform.openai.com/account/rate-limits to learn more.', 'type': 'tokens', 'param': None, 'code': 'rate_limit_exceeded'}}.\n",
            "Retrying llama_index.llms.openai.base.OpenAI._achat in 0.47444242580164153 seconds as it raised RateLimitError: Error code: 429 - {'error': {'message': 'Rate limit reached for gpt-4o in organization org-ADg9O6qOx3fmDvCTqnDjoryv on tokens per min (TPM): Limit 30000, Used 28682, Requested 1687. Please try again in 738ms. Visit https://platform.openai.com/account/rate-limits to learn more.', 'type': 'tokens', 'param': None, 'code': 'rate_limit_exceeded'}}.\n",
            "Retrying llama_index.llms.openai.base.OpenAI._achat in 0.21392708186351617 seconds as it raised RateLimitError: Error code: 429 - {'error': {'message': 'Rate limit reached for gpt-4o in organization org-ADg9O6qOx3fmDvCTqnDjoryv on tokens per min (TPM): Limit 30000, Used 29492, Requested 2053. Please try again in 3.09s. Visit https://platform.openai.com/account/rate-limits to learn more.', 'type': 'tokens', 'param': None, 'code': 'rate_limit_exceeded'}}.\n",
            "Retrying llama_index.llms.openai.base.OpenAI._achat in 0.26485829336850975 seconds as it raised RateLimitError: Error code: 429 - {'error': {'message': 'Rate limit reached for gpt-4o in organization org-ADg9O6qOx3fmDvCTqnDjoryv on tokens per min (TPM): Limit 30000, Used 29161, Requested 1686. Please try again in 1.694s. Visit https://platform.openai.com/account/rate-limits to learn more.', 'type': 'tokens', 'param': None, 'code': 'rate_limit_exceeded'}}.\n",
            "Retrying llama_index.llms.openai.base.OpenAI._achat in 0.935777698609989 seconds as it raised RateLimitError: Error code: 429 - {'error': {'message': 'Rate limit reached for gpt-4o in organization org-ADg9O6qOx3fmDvCTqnDjoryv on tokens per min (TPM): Limit 30000, Used 28896, Requested 1685. Please try again in 1.162s. Visit https://platform.openai.com/account/rate-limits to learn more.', 'type': 'tokens', 'param': None, 'code': 'rate_limit_exceeded'}}.\n",
            "Retrying llama_index.llms.openai.base.OpenAI._achat in 1.423030340653485 seconds as it raised RateLimitError: Error code: 429 - {'error': {'message': 'Rate limit reached for gpt-4o in organization org-ADg9O6qOx3fmDvCTqnDjoryv on tokens per min (TPM): Limit 30000, Used 29606, Requested 1686. Please try again in 2.584s. Visit https://platform.openai.com/account/rate-limits to learn more.', 'type': 'tokens', 'param': None, 'code': 'rate_limit_exceeded'}}.\n",
            "Retrying llama_index.llms.openai.base.OpenAI._achat in 1.522799438198006 seconds as it raised RateLimitError: Error code: 429 - {'error': {'message': 'Rate limit reached for gpt-4o in organization org-ADg9O6qOx3fmDvCTqnDjoryv on tokens per min (TPM): Limit 30000, Used 29001, Requested 1685. Please try again in 1.372s. Visit https://platform.openai.com/account/rate-limits to learn more.', 'type': 'tokens', 'param': None, 'code': 'rate_limit_exceeded'}}.\n",
            "Retrying llama_index.llms.openai.base.OpenAI._achat in 0.13500147414396402 seconds as it raised RateLimitError: Error code: 429 - {'error': {'message': 'Rate limit reached for gpt-4o in organization org-ADg9O6qOx3fmDvCTqnDjoryv on tokens per min (TPM): Limit 30000, Used 28915, Requested 1787. Please try again in 1.404s. Visit https://platform.openai.com/account/rate-limits to learn more.', 'type': 'tokens', 'param': None, 'code': 'rate_limit_exceeded'}}.\n",
            "Retrying llama_index.llms.openai.base.OpenAI._achat in 0.41159511807753424 seconds as it raised RateLimitError: Error code: 429 - {'error': {'message': 'Rate limit reached for gpt-4o in organization org-ADg9O6qOx3fmDvCTqnDjoryv on tokens per min (TPM): Limit 30000, Used 29481, Requested 1009. Please try again in 979ms. Visit https://platform.openai.com/account/rate-limits to learn more.', 'type': 'tokens', 'param': None, 'code': 'rate_limit_exceeded'}}.\n",
            "Retrying llama_index.llms.openai.base.OpenAI._achat in 0.408489056824908 seconds as it raised RateLimitError: Error code: 429 - {'error': {'message': 'Rate limit reached for gpt-4o in organization org-ADg9O6qOx3fmDvCTqnDjoryv on tokens per min (TPM): Limit 30000, Used 29231, Requested 1787. Please try again in 2.036s. Visit https://platform.openai.com/account/rate-limits to learn more.', 'type': 'tokens', 'param': None, 'code': 'rate_limit_exceeded'}}.\n",
            "Retrying llama_index.llms.openai.base.OpenAI._achat in 0.05860405517788869 seconds as it raised RateLimitError: Error code: 429 - {'error': {'message': 'Rate limit reached for gpt-4o in organization org-ADg9O6qOx3fmDvCTqnDjoryv on tokens per min (TPM): Limit 30000, Used 28906, Requested 1121. Please try again in 54ms. Visit https://platform.openai.com/account/rate-limits to learn more.', 'type': 'tokens', 'param': None, 'code': 'rate_limit_exceeded'}}.\n",
            "Retrying llama_index.llms.openai.base.OpenAI._achat in 0.9283118653227398 seconds as it raised RateLimitError: Error code: 429 - {'error': {'message': 'Rate limit reached for gpt-4o in organization org-ADg9O6qOx3fmDvCTqnDjoryv on tokens per min (TPM): Limit 30000, Used 29222, Requested 1287. Please try again in 1.018s. Visit https://platform.openai.com/account/rate-limits to learn more.', 'type': 'tokens', 'param': None, 'code': 'rate_limit_exceeded'}}.\n",
            "Retrying llama_index.llms.openai.base.OpenAI._achat in 0.5984608062269228 seconds as it raised RateLimitError: Error code: 429 - {'error': {'message': 'Rate limit reached for gpt-4o in organization org-ADg9O6qOx3fmDvCTqnDjoryv on tokens per min (TPM): Limit 30000, Used 29488, Requested 1287. Please try again in 1.55s. Visit https://platform.openai.com/account/rate-limits to learn more.', 'type': 'tokens', 'param': None, 'code': 'rate_limit_exceeded'}}.\n",
            "Retrying llama_index.llms.openai.base.OpenAI._achat in 0.6956758905614038 seconds as it raised RateLimitError: Error code: 429 - {'error': {'message': 'Rate limit reached for gpt-4o in organization org-ADg9O6qOx3fmDvCTqnDjoryv on tokens per min (TPM): Limit 30000, Used 29260, Requested 1326. Please try again in 1.172s. Visit https://platform.openai.com/account/rate-limits to learn more.', 'type': 'tokens', 'param': None, 'code': 'rate_limit_exceeded'}}.\n",
            "Retrying llama_index.llms.openai.base.OpenAI._achat in 0.7466825577341831 seconds as it raised RateLimitError: Error code: 429 - {'error': {'message': 'Rate limit reached for gpt-4o in organization org-ADg9O6qOx3fmDvCTqnDjoryv on tokens per min (TPM): Limit 30000, Used 29187, Requested 1354. Please try again in 1.082s. Visit https://platform.openai.com/account/rate-limits to learn more.', 'type': 'tokens', 'param': None, 'code': 'rate_limit_exceeded'}}.\n",
            "Retrying llama_index.llms.openai.base.OpenAI._achat in 0.7280041278777687 seconds as it raised RateLimitError: Error code: 429 - {'error': {'message': 'Rate limit reached for gpt-4o in organization org-ADg9O6qOx3fmDvCTqnDjoryv on tokens per min (TPM): Limit 30000, Used 29236, Requested 1354. Please try again in 1.18s. Visit https://platform.openai.com/account/rate-limits to learn more.', 'type': 'tokens', 'param': None, 'code': 'rate_limit_exceeded'}}.\n",
            "Retrying llama_index.llms.openai.base.OpenAI._achat in 0.82274680877583 seconds as it raised RateLimitError: Error code: 429 - {'error': {'message': 'Rate limit reached for gpt-4o in organization org-ADg9O6qOx3fmDvCTqnDjoryv on tokens per min (TPM): Limit 30000, Used 29271, Requested 1374. Please try again in 1.29s. Visit https://platform.openai.com/account/rate-limits to learn more.', 'type': 'tokens', 'param': None, 'code': 'rate_limit_exceeded'}}.\n",
            "Retrying llama_index.llms.openai.base.OpenAI._achat in 1.3088413988194443 seconds as it raised RateLimitError: Error code: 429 - {'error': {'message': 'Rate limit reached for gpt-4o in organization org-ADg9O6qOx3fmDvCTqnDjoryv on tokens per min (TPM): Limit 30000, Used 29041, Requested 1374. Please try again in 830ms. Visit https://platform.openai.com/account/rate-limits to learn more.', 'type': 'tokens', 'param': None, 'code': 'rate_limit_exceeded'}}.\n",
            "Retrying llama_index.llms.openai.base.OpenAI._achat in 0.7710895026885063 seconds as it raised RateLimitError: Error code: 429 - {'error': {'message': 'Rate limit reached for gpt-4o in organization org-ADg9O6qOx3fmDvCTqnDjoryv on tokens per min (TPM): Limit 30000, Used 28618, Requested 2308. Please try again in 1.852s. Visit https://platform.openai.com/account/rate-limits to learn more.', 'type': 'tokens', 'param': None, 'code': 'rate_limit_exceeded'}}.\n",
            "Retrying llama_index.llms.openai.base.OpenAI._achat in 0.09431283990009431 seconds as it raised RateLimitError: Error code: 429 - {'error': {'message': 'Rate limit reached for gpt-4o in organization org-ADg9O6qOx3fmDvCTqnDjoryv on tokens per min (TPM): Limit 30000, Used 29670, Requested 1758. Please try again in 2.856s. Visit https://platform.openai.com/account/rate-limits to learn more.', 'type': 'tokens', 'param': None, 'code': 'rate_limit_exceeded'}}.\n",
            "Retrying llama_index.llms.openai.base.OpenAI._achat in 0.44737970284188333 seconds as it raised RateLimitError: Error code: 429 - {'error': {'message': 'Rate limit reached for gpt-4o in organization org-ADg9O6qOx3fmDvCTqnDjoryv on tokens per min (TPM): Limit 30000, Used 29575, Requested 1758. Please try again in 2.666s. Visit https://platform.openai.com/account/rate-limits to learn more.', 'type': 'tokens', 'param': None, 'code': 'rate_limit_exceeded'}}.\n",
            "Retrying llama_index.llms.openai.base.OpenAI._achat in 0.1065252325057997 seconds as it raised RateLimitError: Error code: 429 - {'error': {'message': 'Rate limit reached for gpt-4o in organization org-ADg9O6qOx3fmDvCTqnDjoryv on tokens per min (TPM): Limit 30000, Used 28525, Requested 2308. Please try again in 1.666s. Visit https://platform.openai.com/account/rate-limits to learn more.', 'type': 'tokens', 'param': None, 'code': 'rate_limit_exceeded'}}.\n",
            "Retrying llama_index.llms.openai.base.OpenAI._achat in 0.030894358338031336 seconds as it raised RateLimitError: Error code: 429 - {'error': {'message': 'Rate limit reached for gpt-4o in organization org-ADg9O6qOx3fmDvCTqnDjoryv on tokens per min (TPM): Limit 30000, Used 29080, Requested 1760. Please try again in 1.68s. Visit https://platform.openai.com/account/rate-limits to learn more.', 'type': 'tokens', 'param': None, 'code': 'rate_limit_exceeded'}}.\n",
            "Retrying llama_index.llms.openai.base.OpenAI._achat in 0.6632180812328435 seconds as it raised RateLimitError: Error code: 429 - {'error': {'message': 'Rate limit reached for gpt-4o in organization org-ADg9O6qOx3fmDvCTqnDjoryv on tokens per min (TPM): Limit 30000, Used 29460, Requested 1128. Please try again in 1.176s. Visit https://platform.openai.com/account/rate-limits to learn more.', 'type': 'tokens', 'param': None, 'code': 'rate_limit_exceeded'}}.\n",
            "Retrying llama_index.llms.openai.base.OpenAI._achat in 1.9830093974152407 seconds as it raised RateLimitError: Error code: 429 - {'error': {'message': 'Rate limit reached for gpt-4o in organization org-ADg9O6qOx3fmDvCTqnDjoryv on tokens per min (TPM): Limit 30000, Used 28780, Requested 1760. Please try again in 1.08s. Visit https://platform.openai.com/account/rate-limits to learn more.', 'type': 'tokens', 'param': None, 'code': 'rate_limit_exceeded'}}.\n",
            "Retrying llama_index.llms.openai.base.OpenAI._achat in 1.2139109305097646 seconds as it raised RateLimitError: Error code: 429 - {'error': {'message': 'Rate limit reached for gpt-4o in organization org-ADg9O6qOx3fmDvCTqnDjoryv on tokens per min (TPM): Limit 30000, Used 29823, Requested 1128. Please try again in 1.902s. Visit https://platform.openai.com/account/rate-limits to learn more.', 'type': 'tokens', 'param': None, 'code': 'rate_limit_exceeded'}}.\n",
            "Retrying llama_index.llms.openai.base.OpenAI._achat in 0.5707978006360105 seconds as it raised RateLimitError: Error code: 429 - {'error': {'message': 'Rate limit reached for gpt-4o in organization org-ADg9O6qOx3fmDvCTqnDjoryv on tokens per min (TPM): Limit 30000, Used 29637, Requested 1344. Please try again in 1.962s. Visit https://platform.openai.com/account/rate-limits to learn more.', 'type': 'tokens', 'param': None, 'code': 'rate_limit_exceeded'}}.\n",
            "Retrying llama_index.llms.openai.base.OpenAI._achat in 1.094580636669755 seconds as it raised RateLimitError: Error code: 429 - {'error': {'message': 'Rate limit reached for gpt-4o in organization org-ADg9O6qOx3fmDvCTqnDjoryv on tokens per min (TPM): Limit 30000, Used 29433, Requested 1344. Please try again in 1.554s. Visit https://platform.openai.com/account/rate-limits to learn more.', 'type': 'tokens', 'param': None, 'code': 'rate_limit_exceeded'}}.\n",
            "Retrying llama_index.llms.openai.base.OpenAI._achat in 0.8198799015250505 seconds as it raised RateLimitError: Error code: 429 - {'error': {'message': 'Rate limit reached for gpt-4o in organization org-ADg9O6qOx3fmDvCTqnDjoryv on tokens per min (TPM): Limit 30000, Used 29228, Requested 1756. Please try again in 1.968s. Visit https://platform.openai.com/account/rate-limits to learn more.', 'type': 'tokens', 'param': None, 'code': 'rate_limit_exceeded'}}.\n",
            "Retrying llama_index.llms.openai.base.OpenAI._achat in 0.9578113159253095 seconds as it raised RateLimitError: Error code: 429 - {'error': {'message': 'Rate limit reached for gpt-4o in organization org-ADg9O6qOx3fmDvCTqnDjoryv on tokens per min (TPM): Limit 30000, Used 29405, Requested 1728. Please try again in 2.266s. Visit https://platform.openai.com/account/rate-limits to learn more.', 'type': 'tokens', 'param': None, 'code': 'rate_limit_exceeded'}}.\n",
            "Retrying llama_index.llms.openai.base.OpenAI._achat in 1.8095982185751793 seconds as it raised RateLimitError: Error code: 429 - {'error': {'message': 'Rate limit reached for gpt-4o in organization org-ADg9O6qOx3fmDvCTqnDjoryv on tokens per min (TPM): Limit 30000, Used 29270, Requested 1756. Please try again in 2.052s. Visit https://platform.openai.com/account/rate-limits to learn more.', 'type': 'tokens', 'param': None, 'code': 'rate_limit_exceeded'}}.\n",
            "Retrying llama_index.llms.openai.base.OpenAI._achat in 0.9369051419493557 seconds as it raised RateLimitError: Error code: 429 - {'error': {'message': 'Rate limit reached for gpt-4o in organization org-ADg9O6qOx3fmDvCTqnDjoryv on tokens per min (TPM): Limit 30000, Used 29819, Requested 1728. Please try again in 3.094s. Visit https://platform.openai.com/account/rate-limits to learn more.', 'type': 'tokens', 'param': None, 'code': 'rate_limit_exceeded'}}.\n",
            "Retrying llama_index.llms.openai.base.OpenAI._achat in 0.3134615209172281 seconds as it raised RateLimitError: Error code: 429 - {'error': {'message': 'Rate limit reached for gpt-4o in organization org-ADg9O6qOx3fmDvCTqnDjoryv on tokens per min (TPM): Limit 30000, Used 29656, Requested 1412. Please try again in 2.136s. Visit https://platform.openai.com/account/rate-limits to learn more.', 'type': 'tokens', 'param': None, 'code': 'rate_limit_exceeded'}}.\n",
            "Retrying llama_index.llms.openai.base.OpenAI._achat in 0.8658143223911283 seconds as it raised RateLimitError: Error code: 429 - {'error': {'message': 'Rate limit reached for gpt-4o in organization org-ADg9O6qOx3fmDvCTqnDjoryv on tokens per min (TPM): Limit 30000, Used 28924, Requested 1553. Please try again in 954ms. Visit https://platform.openai.com/account/rate-limits to learn more.', 'type': 'tokens', 'param': None, 'code': 'rate_limit_exceeded'}}.\n",
            "Retrying llama_index.llms.openai.base.OpenAI._achat in 0.6346293591018506 seconds as it raised RateLimitError: Error code: 429 - {'error': {'message': 'Rate limit reached for gpt-4o in organization org-ADg9O6qOx3fmDvCTqnDjoryv on tokens per min (TPM): Limit 30000, Used 29490, Requested 1876. Please try again in 2.732s. Visit https://platform.openai.com/account/rate-limits to learn more.', 'type': 'tokens', 'param': None, 'code': 'rate_limit_exceeded'}}.\n",
            "Retrying llama_index.llms.openai.base.OpenAI._achat in 0.43258449438330326 seconds as it raised RateLimitError: Error code: 429 - {'error': {'message': 'Rate limit reached for gpt-4o in organization org-ADg9O6qOx3fmDvCTqnDjoryv on tokens per min (TPM): Limit 30000, Used 28716, Requested 1876. Please try again in 1.184s. Visit https://platform.openai.com/account/rate-limits to learn more.', 'type': 'tokens', 'param': None, 'code': 'rate_limit_exceeded'}}.\n",
            "Retrying llama_index.llms.openai.base.OpenAI._achat in 0.47220690789140385 seconds as it raised RateLimitError: Error code: 429 - {'error': {'message': 'Rate limit reached for gpt-4o in organization org-ADg9O6qOx3fmDvCTqnDjoryv on tokens per min (TPM): Limit 30000, Used 28497, Requested 2086. Please try again in 1.166s. Visit https://platform.openai.com/account/rate-limits to learn more.', 'type': 'tokens', 'param': None, 'code': 'rate_limit_exceeded'}}.\n",
            "Retrying llama_index.llms.openai.base.OpenAI._achat in 0.06411717425693175 seconds as it raised RateLimitError: Error code: 429 - {'error': {'message': 'You exceeded your current quota, please check your plan and billing details. For more information on this error, read the docs: https://platform.openai.com/docs/guides/error-codes/api-errors.', 'type': 'insufficient_quota', 'param': None, 'code': 'insufficient_quota'}}.\n",
            "Retrying llama_index.llms.openai.base.OpenAI._achat in 1.321970413394711 seconds as it raised RateLimitError: Error code: 429 - {'error': {'message': 'You exceeded your current quota, please check your plan and billing details. For more information on this error, read the docs: https://platform.openai.com/docs/guides/error-codes/api-errors.', 'type': 'insufficient_quota', 'param': None, 'code': 'insufficient_quota'}}.\n",
            "Retrying llama_index.llms.openai.base.OpenAI._achat in 0.3278314326201798 seconds as it raised RateLimitError: Error code: 429 - {'error': {'message': 'You exceeded your current quota, please check your plan and billing details. For more information on this error, read the docs: https://platform.openai.com/docs/guides/error-codes/api-errors.', 'type': 'insufficient_quota', 'param': None, 'code': 'insufficient_quota'}}.\n",
            "Retrying llama_index.llms.openai.base.OpenAI._achat in 0.8338343005817446 seconds as it raised RateLimitError: Error code: 429 - {'error': {'message': 'You exceeded your current quota, please check your plan and billing details. For more information on this error, read the docs: https://platform.openai.com/docs/guides/error-codes/api-errors.', 'type': 'insufficient_quota', 'param': None, 'code': 'insufficient_quota'}}.\n",
            "Retrying llama_index.llms.openai.base.OpenAI._achat in 0.9930807918494609 seconds as it raised RateLimitError: Error code: 429 - {'error': {'message': 'Rate limit reached for gpt-4o in organization org-ADg9O6qOx3fmDvCTqnDjoryv on tokens per min (TPM): Limit 30000, Used 29374, Requested 1053. Please try again in 854ms. Visit https://platform.openai.com/account/rate-limits to learn more.', 'type': 'tokens', 'param': None, 'code': 'rate_limit_exceeded'}}.\n",
            "Retrying llama_index.llms.openai.base.OpenAI._achat in 0.5235937338160578 seconds as it raised RateLimitError: Error code: 429 - {'error': {'message': 'Rate limit reached for gpt-4o in organization org-ADg9O6qOx3fmDvCTqnDjoryv on tokens per min (TPM): Limit 30000, Used 28599, Requested 1573. Please try again in 344ms. Visit https://platform.openai.com/account/rate-limits to learn more.', 'type': 'tokens', 'param': None, 'code': 'rate_limit_exceeded'}}.\n",
            "Retrying llama_index.llms.openai.base.OpenAI._achat in 0.4255803957729226 seconds as it raised RateLimitError: Error code: 429 - {'error': {'message': 'You exceeded your current quota, please check your plan and billing details. For more information on this error, read the docs: https://platform.openai.com/docs/guides/error-codes/api-errors.', 'type': 'insufficient_quota', 'param': None, 'code': 'insufficient_quota'}}.\n",
            "Retrying llama_index.llms.openai.base.OpenAI._achat in 1.4707865990730418 seconds as it raised RateLimitError: Error code: 429 - {'error': {'message': 'You exceeded your current quota, please check your plan and billing details. For more information on this error, read the docs: https://platform.openai.com/docs/guides/error-codes/api-errors.', 'type': 'insufficient_quota', 'param': None, 'code': 'insufficient_quota'}}.\n",
            "Retrying llama_index.llms.openai.base.OpenAI._achat in 0.8140987321799263 seconds as it raised RateLimitError: Error code: 429 - {'error': {'message': 'You exceeded your current quota, please check your plan and billing details. For more information on this error, read the docs: https://platform.openai.com/docs/guides/error-codes/api-errors.', 'type': 'insufficient_quota', 'param': None, 'code': 'insufficient_quota'}}.\n",
            "Retrying llama_index.llms.openai.base.OpenAI._achat in 0.12623890052647224 seconds as it raised RateLimitError: Error code: 429 - {'error': {'message': 'You exceeded your current quota, please check your plan and billing details. For more information on this error, read the docs: https://platform.openai.com/docs/guides/error-codes/api-errors.', 'type': 'insufficient_quota', 'param': None, 'code': 'insufficient_quota'}}.\n",
            "Retrying llama_index.llms.openai.base.OpenAI._achat in 0.2514566005524861 seconds as it raised RateLimitError: Error code: 429 - {'error': {'message': 'Rate limit reached for gpt-4o in organization org-ADg9O6qOx3fmDvCTqnDjoryv on tokens per min (TPM): Limit 30000, Used 28303, Requested 3162. Please try again in 2.93s. Visit https://platform.openai.com/account/rate-limits to learn more.', 'type': 'tokens', 'param': None, 'code': 'rate_limit_exceeded'}}.\n",
            "Retrying llama_index.llms.openai.base.OpenAI._achat in 0.4688660496791086 seconds as it raised RateLimitError: Error code: 429 - {'error': {'message': 'You exceeded your current quota, please check your plan and billing details. For more information on this error, read the docs: https://platform.openai.com/docs/guides/error-codes/api-errors.', 'type': 'insufficient_quota', 'param': None, 'code': 'insufficient_quota'}}.\n",
            "Retrying llama_index.llms.openai.base.OpenAI._achat in 0.370338456211584 seconds as it raised RateLimitError: Error code: 429 - {'error': {'message': 'Rate limit reached for gpt-4o in organization org-ADg9O6qOx3fmDvCTqnDjoryv on tokens per min (TPM): Limit 30000, Used 29425, Requested 1747. Please try again in 2.344s. Visit https://platform.openai.com/account/rate-limits to learn more.', 'type': 'tokens', 'param': None, 'code': 'rate_limit_exceeded'}}.\n",
            "Retrying llama_index.llms.openai.base.OpenAI._achat in 0.8567107998838696 seconds as it raised RateLimitError: Error code: 429 - {'error': {'message': 'You exceeded your current quota, please check your plan and billing details. For more information on this error, read the docs: https://platform.openai.com/docs/guides/error-codes/api-errors.', 'type': 'insufficient_quota', 'param': None, 'code': 'insufficient_quota'}}.\n",
            "Retrying llama_index.llms.openai.base.OpenAI._achat in 0.8744486305940422 seconds as it raised RateLimitError: Error code: 429 - {'error': {'message': 'You exceeded your current quota, please check your plan and billing details. For more information on this error, read the docs: https://platform.openai.com/docs/guides/error-codes/api-errors.', 'type': 'insufficient_quota', 'param': None, 'code': 'insufficient_quota'}}.\n",
            "Retrying llama_index.llms.openai.base.OpenAI._achat in 1.2129602581659946 seconds as it raised RateLimitError: Error code: 429 - {'error': {'message': 'You exceeded your current quota, please check your plan and billing details. For more information on this error, read the docs: https://platform.openai.com/docs/guides/error-codes/api-errors.', 'type': 'insufficient_quota', 'param': None, 'code': 'insufficient_quota'}}.\n",
            "Retrying llama_index.llms.openai.base.OpenAI._achat in 0.8467773683971211 seconds as it raised RateLimitError: Error code: 429 - {'error': {'message': 'You exceeded your current quota, please check your plan and billing details. For more information on this error, read the docs: https://platform.openai.com/docs/guides/error-codes/api-errors.', 'type': 'insufficient_quota', 'param': None, 'code': 'insufficient_quota'}}.\n",
            "Retrying llama_index.llms.openai.base.OpenAI._achat in 0.7019486694502737 seconds as it raised RateLimitError: Error code: 429 - {'error': {'message': 'You exceeded your current quota, please check your plan and billing details. For more information on this error, read the docs: https://platform.openai.com/docs/guides/error-codes/api-errors.', 'type': 'insufficient_quota', 'param': None, 'code': 'insufficient_quota'}}.\n",
            "Retrying llama_index.llms.openai.base.OpenAI._achat in 1.8351892594164803 seconds as it raised RateLimitError: Error code: 429 - {'error': {'message': 'You exceeded your current quota, please check your plan and billing details. For more information on this error, read the docs: https://platform.openai.com/docs/guides/error-codes/api-errors.', 'type': 'insufficient_quota', 'param': None, 'code': 'insufficient_quota'}}.\n",
            "Retrying llama_index.llms.openai.base.OpenAI._achat in 0.09020298916099256 seconds as it raised RateLimitError: Error code: 429 - {'error': {'message': 'You exceeded your current quota, please check your plan and billing details. For more information on this error, read the docs: https://platform.openai.com/docs/guides/error-codes/api-errors.', 'type': 'insufficient_quota', 'param': None, 'code': 'insufficient_quota'}}.\n",
            "Retrying llama_index.llms.openai.base.OpenAI._achat in 1.0887338002385942 seconds as it raised RateLimitError: Error code: 429 - {'error': {'message': 'You exceeded your current quota, please check your plan and billing details. For more information on this error, read the docs: https://platform.openai.com/docs/guides/error-codes/api-errors.', 'type': 'insufficient_quota', 'param': None, 'code': 'insufficient_quota'}}.\n",
            "Retrying llama_index.llms.openai.base.OpenAI._achat in 1.4038503291839524 seconds as it raised RateLimitError: Error code: 429 - {'error': {'message': 'You exceeded your current quota, please check your plan and billing details. For more information on this error, read the docs: https://platform.openai.com/docs/guides/error-codes/api-errors.', 'type': 'insufficient_quota', 'param': None, 'code': 'insufficient_quota'}}.\n",
            "Retrying llama_index.llms.openai.base.OpenAI._achat in 1.27795051693947 seconds as it raised RateLimitError: Error code: 429 - {'error': {'message': 'You exceeded your current quota, please check your plan and billing details. For more information on this error, read the docs: https://platform.openai.com/docs/guides/error-codes/api-errors.', 'type': 'insufficient_quota', 'param': None, 'code': 'insufficient_quota'}}.\n",
            "Retrying llama_index.llms.openai.base.OpenAI._achat in 0.2741768936745316 seconds as it raised RateLimitError: Error code: 429 - {'error': {'message': 'You exceeded your current quota, please check your plan and billing details. For more information on this error, read the docs: https://platform.openai.com/docs/guides/error-codes/api-errors.', 'type': 'insufficient_quota', 'param': None, 'code': 'insufficient_quota'}}.\n",
            "Retrying llama_index.llms.openai.base.OpenAI._achat in 0.613930356066956 seconds as it raised RateLimitError: Error code: 429 - {'error': {'message': 'You exceeded your current quota, please check your plan and billing details. For more information on this error, read the docs: https://platform.openai.com/docs/guides/error-codes/api-errors.', 'type': 'insufficient_quota', 'param': None, 'code': 'insufficient_quota'}}.\n",
            "Retrying llama_index.llms.openai.base.OpenAI._achat in 0.9103730933084329 seconds as it raised RateLimitError: Error code: 429 - {'error': {'message': 'You exceeded your current quota, please check your plan and billing details. For more information on this error, read the docs: https://platform.openai.com/docs/guides/error-codes/api-errors.', 'type': 'insufficient_quota', 'param': None, 'code': 'insufficient_quota'}}.\n",
            "Retrying llama_index.llms.openai.base.OpenAI._achat in 0.34810190322229895 seconds as it raised RateLimitError: Error code: 429 - {'error': {'message': 'You exceeded your current quota, please check your plan and billing details. For more information on this error, read the docs: https://platform.openai.com/docs/guides/error-codes/api-errors.', 'type': 'insufficient_quota', 'param': None, 'code': 'insufficient_quota'}}.\n",
            "Retrying llama_index.llms.openai.base.OpenAI._achat in 0.5048490790377019 seconds as it raised RateLimitError: Error code: 429 - {'error': {'message': 'You exceeded your current quota, please check your plan and billing details. For more information on this error, read the docs: https://platform.openai.com/docs/guides/error-codes/api-errors.', 'type': 'insufficient_quota', 'param': None, 'code': 'insufficient_quota'}}.\n",
            "Retrying llama_index.llms.openai.base.OpenAI._achat in 0.8447168994666383 seconds as it raised RateLimitError: Error code: 429 - {'error': {'message': 'You exceeded your current quota, please check your plan and billing details. For more information on this error, read the docs: https://platform.openai.com/docs/guides/error-codes/api-errors.', 'type': 'insufficient_quota', 'param': None, 'code': 'insufficient_quota'}}.\n",
            "Retrying llama_index.llms.openai.base.OpenAI._achat in 0.8999747287928879 seconds as it raised RateLimitError: Error code: 429 - {'error': {'message': 'You exceeded your current quota, please check your plan and billing details. For more information on this error, read the docs: https://platform.openai.com/docs/guides/error-codes/api-errors.', 'type': 'insufficient_quota', 'param': None, 'code': 'insufficient_quota'}}.\n",
            "Retrying llama_index.llms.openai.base.OpenAI._achat in 0.7665288439157414 seconds as it raised RateLimitError: Error code: 429 - {'error': {'message': 'You exceeded your current quota, please check your plan and billing details. For more information on this error, read the docs: https://platform.openai.com/docs/guides/error-codes/api-errors.', 'type': 'insufficient_quota', 'param': None, 'code': 'insufficient_quota'}}.\n",
            "Retrying llama_index.llms.openai.base.OpenAI._achat in 0.37173366954440523 seconds as it raised RateLimitError: Error code: 429 - {'error': {'message': 'You exceeded your current quota, please check your plan and billing details. For more information on this error, read the docs: https://platform.openai.com/docs/guides/error-codes/api-errors.', 'type': 'insufficient_quota', 'param': None, 'code': 'insufficient_quota'}}.\n",
            "Retrying llama_index.llms.openai.base.OpenAI._achat in 0.7895866416814287 seconds as it raised RateLimitError: Error code: 429 - {'error': {'message': 'You exceeded your current quota, please check your plan and billing details. For more information on this error, read the docs: https://platform.openai.com/docs/guides/error-codes/api-errors.', 'type': 'insufficient_quota', 'param': None, 'code': 'insufficient_quota'}}.\n",
            "Retrying llama_index.llms.openai.base.OpenAI._achat in 0.16812744824833248 seconds as it raised RateLimitError: Error code: 429 - {'error': {'message': 'You exceeded your current quota, please check your plan and billing details. For more information on this error, read the docs: https://platform.openai.com/docs/guides/error-codes/api-errors.', 'type': 'insufficient_quota', 'param': None, 'code': 'insufficient_quota'}}.\n",
            "Retrying llama_index.llms.openai.base.OpenAI._achat in 0.03307502555165209 seconds as it raised RateLimitError: Error code: 429 - {'error': {'message': 'You exceeded your current quota, please check your plan and billing details. For more information on this error, read the docs: https://platform.openai.com/docs/guides/error-codes/api-errors.', 'type': 'insufficient_quota', 'param': None, 'code': 'insufficient_quota'}}.\n",
            "Retrying llama_index.llms.openai.base.OpenAI._achat in 0.6809047696605305 seconds as it raised RateLimitError: Error code: 429 - {'error': {'message': 'You exceeded your current quota, please check your plan and billing details. For more information on this error, read the docs: https://platform.openai.com/docs/guides/error-codes/api-errors.', 'type': 'insufficient_quota', 'param': None, 'code': 'insufficient_quota'}}.\n",
            "Retrying llama_index.llms.openai.base.OpenAI._achat in 0.42732443327797087 seconds as it raised RateLimitError: Error code: 429 - {'error': {'message': 'You exceeded your current quota, please check your plan and billing details. For more information on this error, read the docs: https://platform.openai.com/docs/guides/error-codes/api-errors.', 'type': 'insufficient_quota', 'param': None, 'code': 'insufficient_quota'}}.\n",
            "Retrying llama_index.llms.openai.base.OpenAI._achat in 1.2601413247584567 seconds as it raised RateLimitError: Error code: 429 - {'error': {'message': 'You exceeded your current quota, please check your plan and billing details. For more information on this error, read the docs: https://platform.openai.com/docs/guides/error-codes/api-errors.', 'type': 'insufficient_quota', 'param': None, 'code': 'insufficient_quota'}}.\n",
            "Retrying llama_index.llms.openai.base.OpenAI._achat in 0.8731680779096875 seconds as it raised RateLimitError: Error code: 429 - {'error': {'message': 'You exceeded your current quota, please check your plan and billing details. For more information on this error, read the docs: https://platform.openai.com/docs/guides/error-codes/api-errors.', 'type': 'insufficient_quota', 'param': None, 'code': 'insufficient_quota'}}.\n",
            "Retrying llama_index.llms.openai.base.OpenAI._achat in 0.2529734532085707 seconds as it raised RateLimitError: Error code: 429 - {'error': {'message': 'You exceeded your current quota, please check your plan and billing details. For more information on this error, read the docs: https://platform.openai.com/docs/guides/error-codes/api-errors.', 'type': 'insufficient_quota', 'param': None, 'code': 'insufficient_quota'}}.\n",
            "Retrying llama_index.llms.openai.base.OpenAI._achat in 0.531095686809029 seconds as it raised RateLimitError: Error code: 429 - {'error': {'message': 'You exceeded your current quota, please check your plan and billing details. For more information on this error, read the docs: https://platform.openai.com/docs/guides/error-codes/api-errors.', 'type': 'insufficient_quota', 'param': None, 'code': 'insufficient_quota'}}.\n",
            "Retrying llama_index.llms.openai.base.OpenAI._achat in 0.5406556657912589 seconds as it raised RateLimitError: Error code: 429 - {'error': {'message': 'You exceeded your current quota, please check your plan and billing details. For more information on this error, read the docs: https://platform.openai.com/docs/guides/error-codes/api-errors.', 'type': 'insufficient_quota', 'param': None, 'code': 'insufficient_quota'}}.\n",
            "Retrying llama_index.llms.openai.base.OpenAI._achat in 1.688337020192945 seconds as it raised RateLimitError: Error code: 429 - {'error': {'message': 'You exceeded your current quota, please check your plan and billing details. For more information on this error, read the docs: https://platform.openai.com/docs/guides/error-codes/api-errors.', 'type': 'insufficient_quota', 'param': None, 'code': 'insufficient_quota'}}.\n",
            "Retrying llama_index.llms.openai.base.OpenAI._achat in 0.6434690864399109 seconds as it raised RateLimitError: Error code: 429 - {'error': {'message': 'You exceeded your current quota, please check your plan and billing details. For more information on this error, read the docs: https://platform.openai.com/docs/guides/error-codes/api-errors.', 'type': 'insufficient_quota', 'param': None, 'code': 'insufficient_quota'}}.\n",
            "Retrying llama_index.llms.openai.base.OpenAI._achat in 0.27617308139165786 seconds as it raised RateLimitError: Error code: 429 - {'error': {'message': 'You exceeded your current quota, please check your plan and billing details. For more information on this error, read the docs: https://platform.openai.com/docs/guides/error-codes/api-errors.', 'type': 'insufficient_quota', 'param': None, 'code': 'insufficient_quota'}}.\n"
          ]
        }
      ],
      "source": [
        "index = PropertyGraphIndex.from_documents(\n",
        "    sub_docs,\n",
        "    embed_model=embed_model,\n",
        "    kg_extractors=[\n",
        "        ImplicitPathExtractor(),\n",
        "        SimpleLLMPathExtractor(\n",
        "            llm=llm,\n",
        "            num_workers=4,\n",
        "            max_paths_per_chunk=10,\n",
        "        ),\n",
        "    ],\n",
        "    property_graph_store=graph_store,\n",
        "    show_progress=True,\n",
        ")"
      ]
    },
    {
      "cell_type": "code",
      "execution_count": 18,
      "id": "ffc29e45-89c1-48cf-b221-c4e117cda630",
      "metadata": {
        "id": "ffc29e45-89c1-48cf-b221-c4e117cda630",
        "outputId": "209674df-0b22-4ba1-c436-a7ba29b6fe8c"
      },
      "outputs": [
        {
          "name": "stderr",
          "output_type": "stream",
          "text": [
            "Extracting implicit paths: 0it [00:00, ?it/s]\n",
            "Extracting paths from text: 0it [00:00, ?it/s]"
          ]
        },
        {
          "name": "stderr",
          "output_type": "stream",
          "text": [
            "Extracting paths from text: 0it [00:00, ?it/s]\n",
            "Generating embeddings: 0it [00:00, ?it/s]\n",
            "Generating embeddings: 0it [00:00, ?it/s]\n",
            "Received notification from DBMS server: {severity: WARNING} {code: Neo.ClientNotification.Statement.FeatureDeprecationWarning} {category: DEPRECATION} {title: This feature is deprecated and will be removed in future versions.} {description: The procedure has a deprecated field. ('config' used by 'apoc.meta.graphSample' is deprecated.)} {position: line: 1, column: 1, offset: 0} for query: \"CALL apoc.meta.graphSample() YIELD nodes, relationships RETURN nodes, [rel in relationships | {name:apoc.any.property(rel, 'type'), count: apoc.any.property(rel, 'count')}] AS relationships\"\n"
          ]
        }
      ],
      "source": [
        "# run this if index is already loaded\n",
        "index = PropertyGraphIndex.from_existing(\n",
        "    graph_store,\n",
        "    embed_model=OpenAIEmbedding(model_name=\"text-embedding-3-small\"),\n",
        "    kg_extractors=[\n",
        "        ImplicitPathExtractor(),\n",
        "        SimpleLLMPathExtractor(\n",
        "            llm=OpenAI(model=\"gpt-3.5-turbo\", temperature=0.3),\n",
        "            num_workers=4,\n",
        "            max_paths_per_chunk=10,\n",
        "        ),\n",
        "    ],\n",
        "    show_progress=True,\n",
        ")"
      ]
    },
    {
      "cell_type": "markdown",
      "id": "20cf723a-5353-4f97-95b2-c9cde940c583",
      "metadata": {
        "id": "20cf723a-5353-4f97-95b2-c9cde940c583"
      },
      "source": [
        "The constructed knowledge graph should look something like this\n",
        "![knowledge graph](https://github.com/run-llama/llama_parse/blob/main/examples/knowledge_graphs/sf2023_budget_kg_screenshot.png?raw=1)"
      ]
    },
    {
      "cell_type": "markdown",
      "id": "0c1f0f65-2d15-471c-9e74-6cebcecee1f4",
      "metadata": {
        "id": "0c1f0f65-2d15-471c-9e74-6cebcecee1f4"
      },
      "source": [
        "#### Define Vector Retriever\n",
        "\n",
        "Here we define our vector context retriever - it returns initial nodes via vector search, and traverses the relations to pull in more nodes/context."
      ]
    },
    {
      "cell_type": "code",
      "execution_count": null,
      "id": "3d4d4ce1-64df-41cd-9f36-49c779fdc2b3",
      "metadata": {
        "id": "3d4d4ce1-64df-41cd-9f36-49c779fdc2b3"
      },
      "outputs": [],
      "source": [
        "from llama_index.core.indices.property_graph import VectorContextRetriever\n",
        "\n",
        "kg_retriever = VectorContextRetriever(\n",
        "    index.property_graph_store,\n",
        "    embed_model=OpenAIEmbedding(model_name=\"text-embedding-3-small\"),\n",
        "    similarity_top_k=2,\n",
        "    path_depth=1,\n",
        "    # include_text=False,\n",
        "    include_text=True,\n",
        ")"
      ]
    },
    {
      "cell_type": "code",
      "execution_count": null,
      "id": "ca3cd98b-1556-4ae7-8a24-519adb48beb6",
      "metadata": {
        "id": "ca3cd98b-1556-4ae7-8a24-519adb48beb6",
        "outputId": "3830f8c7-97ee-4ff2-dd7a-9feffb045254"
      },
      "outputs": [
        {
          "name": "stdout",
          "output_type": "stream",
          "text": [
            "3\n",
            ">> IDX: 0, Here are some facts extracted from the provided text:\n",
            "\n",
            "Mayor's budget -> Includes -> Key changes\n",
            "\n",
            "first responders to petition for an individual to enter\n",
            "the programs. In these procedures, a CARE Plan is\n",
            "established, and a judge can use court orders with\n",
            "support such as short-term stabilization medications\n",
            "and beds, as well as wellness and recovery offerings.\n",
            "The Mayor’s proposed budget includes funding\n",
            "for engagement and assessment staff, new City\n",
            "attorneys dedicated to CARE Court implementation,\n",
            "increased capacity for treatment and housing, and\n",
            "outreach and educational efforts.\n",
            "Improvements at Laguna Honda Hospital\n",
            "Beyond behavioral health, this budget makes\n",
            "investments in DPH’s budget for Laguna Honda\n",
            "Hospital, which is actively working towards gaining\n",
            "recertification with the Centers for Medicare\n",
            "and Medicaid Services (CMS). DPH is currently\n",
            "implementing the action plan submitted to CMS,\n",
            "and it represents a significant facility-wide effort\n",
            "and includes hundreds of process improvements.\n",
            "The Mayor’s proposed budget includes over $3.5\n",
            "million of new annual investment to support the\n",
            "implementation of the action plan and sustain\n",
            "the improvements, including staffing in key areas,\n",
            "including education and training, patient care\n",
            "experience, medication management, and leadership\n",
            "within the San Francisco Health Network.\n",
            "\n",
            "Economic Recovery\n",
            "The Mayor’s proposed FY 2023-24 and FY 2024-\n",
            "25 budget invests $24.4 million over the two years\n",
            "in support of the Roadmap for Downtown San\n",
            "Francisco’s Future, and broadly supports economic\n",
            "recovery across the entire City. While critical\n",
            "components around recovery include investments\n",
            "in public safety and street conditions, there are also\n",
            "targeted improvements and programs to support a\n",
            "thriving economy, both downtown and throughout\n",
            "the City’s neighborhood commercial corridors.\n",
            "Providing Tax Relief and Incentives\n",
            "To keep existing businesses stable and to recruit new\n",
            "businesses, the Mayor’s budget includes key changes\n",
            "to the City’s business taxes. In November 2020, San\n",
            "20\n",
            "    20 EXECUTIVE SUMMARY\n",
            "                        EXECUTIVE SUMMARY\n",
            "\n",
            "\n",
            "Francisco voters passed Proposition F, which phased\n",
            "out the payroll expense tax, while gradually increasing\n",
            "gross receipts tax for businesses across most\n",
            "industries. The proposition also delayed gross receipts\n",
            "tax increases until 2023 and 2024 for industries hit\n",
            "hardest by the pandemic. In March 2023, the Mayor\n",
            "introduced legislation to further delay tax increases\n",
            "for maintenance and laundry businesses, retail trade,\n",
            "food services, manufacturing, accommodations, arts,\n",
            "entertainment, and recreation until 2025 and 2026.\n",
            "The proposed budget includes revenue assumptions\n",
            "aligned with these tax changes.\n",
            "The City must also attract new businesses to fill its\n",
            "office vacancies, support customer-serving businesses,\n",
            "and bolster future revenue through gross receipts\n",
            "tax, property tax, and contributions to other revenue\n",
            "sources. The Mayor’s legislation will offer a discount\n",
            "for up to three years on the office-based gross\n",
            "receipts tax for new offices locating in San Francisco\n",
            "in the information, administrative and support\n",
            "services, financial services, insurance, professional\n",
            "scientific and technical services industries.\n",
            "\n",
            "Finally, the budget proposes a change to the\n",
            "Commercial Rent Tax, which was passed by voters in\n",
            "June 2018. The change seeks to pause the collection\n",
            "revenues on sub-leases of commercial spaces through\n",
            "2029 to ensure commercial properties are only\n",
            "subject to a single commercial rent tax, rather than\n",
            "also being taxed for sub-leasing the space. Profits on\n",
            "subleases will continue to be collected.\n",
            "Supporting Small Businesses\n",
            "The Mayor’s proposed budget continues the small\n",
            "business grant program, providing $5 million in direct\n",
            "grants to help small businesses across the city to\n",
            "stabilize, scale, and adapt business models to changed\n",
            "conditions. The program will target businesses in\n",
            "commercial corridors that have experienced the\n",
            "highest drop in sales tax to fill vacancies, or expand\n",
            "into new storefronts, while providing business\n",
            "assistance to improve operations and renegotiate\n",
            "leases\n",
            ">> IDX: 1, Here are some facts extracted from the provided text:\n",
            "\n",
            "Mayor's proposed budget -> Expands investments within -> San francisco police department\n",
            "Mayor's proposed budget -> Includes -> Funding\n",
            "Mayor's proposed budget -> Invests in -> Facilities maintenance\n",
            "Mayor's proposed budget -> Includes -> $32.0 million\n",
            "Mayor's proposed budget -> Includes -> Mental health services act funds\n",
            "Mayor's proposed budget -> Invests -> $24.4 million\n",
            "Mayor's proposed budget -> Invests in -> Stationary engineers\n",
            "Mayor's proposed budget -> Includes -> $17.7 million\n",
            "Mayor's proposed budget -> Leverages -> Ocoh\n",
            "Mayor's proposed budget -> Makes investments to -> Two positions\n",
            "Mayor's proposed budget -> Makes investments in -> Priority areas\n",
            "Mayor's proposed budget -> Continues -> Work\n",
            "Mayor's proposed budget -> Includes -> $1.2 million of grant funding\n",
            "Mayor's proposed budget -> Maintain -> Programs\n",
            "Mayor's proposed budget -> Includes -> $0.7 million\n",
            "Mayor's proposed budget -> Includes -> New funding to support efforts\n",
            "Mayor's proposed budget -> Includes -> Resources\n",
            "Mayor's proposed budget -> Makes investments to -> Continue supporting\n",
            "Mayor's proposed budget -> Includes -> Anticipated grant\n",
            "Mayor's proposed budget -> Invest in -> Expansion of recovery programs\n",
            "Mayor's proposed budget -> Includes -> $0.6 million\n",
            "Mayor's proposed budget -> Invests in -> Building projects\n",
            "\n",
            "CalAIM Expansion for People At-Risk of\n",
            "Institutionalization and Justice-Involved\n",
            "People\n",
            "The State of California is continuing its multi-year\n",
            "roll out of California Advancing and Innovating\n",
            "Medi-Cal (CalAIM), a new framework that\n",
            "encompasses a broad-based delivery system,\n",
            "program, and payment reform across the Medi-Cal\n",
            "program with a whole-person care approach. For\n",
            "the proposed FY 2023-24 and FY 2024-25 budget,\n",
            "the focus is on the roll-out of expanded benefits\n",
            "to people at risk of long-term institutionalization\n",
            "and justice-system involved people exiting jail.\n",
            "As CalAIM focuses on stabilizing patients in\n",
            "community settings as much as possible, the\n",
            "enhanced care management (ECM) benefit allows\n",
            "for Medi-Cal to pay for hands-on support to\n",
            "address both the clinical and non-clinical needs of\n",
            "medically complex patients to keep them out of\n",
            "institutions.\n",
            "\n",
            "Health Equity Investments through the\n",
            "Mental Health Services Act\n",
            "The Mayor’s proposed budget includes $32.0\n",
            "million in FY 2022-23 and $17.7 million of ongoing\n",
            "\n",
            "\n",
            "in additional Mental Health Services Act (MHSA)\n",
            "funds. These funds will be used to ensure the\n",
            "continuity of existing MHSA programming; support\n",
            "new, innovative and culturally congruent services\n",
            "to meet the pressing needs of the Black/African\n",
            "American community and sustain a pilot effort to\n",
            "provide mental health support for Black mothers.\n",
            "New initiatives in this budget include $15.0 million\n",
            "for a three-year pilot from FY 2023-24 through FY\n",
            "2025-26 with the Dream Keeper Initiative to create\n",
            "a talk therapy, telehealth program for people in San\n",
            "Francisco, with a particular focus on Black/African\n",
            "American residents.\n",
            "Fee for Service Transition\n",
            "\n",
            "In January 2023, the San Francisco Health PlanNumber of Calls(SFHP) and Zuckerberg San Francisco General\n",
            "\n",
            "Hospital (ZSFG) expanded its use of the fee-for-\n",
            "service model to maximize revenues. By expanding\n",
            "the use of fee-for-service, ZSFG will recover\n",
            "more funding from the SFHP and the State, while\n",
            "maintaining quality care for its patients. DPH\n",
            "projects $36.7 M in additional revenues in FY 2023-\n",
            "24 and $36.9 M in FY 2024-25 as result of the shift\n",
            "that is included in the Mayor’s proposed budget.\n",
            "\n",
            "\n",
            "\n",
            "\n",
            "                                                                                                          3,000\n",
            "\n",
            "\n",
            "                                          STREET RESPONSE TEAM. The goals                                 2,500\n",
            "                                             of the San Francisco Street Overdose\n",
            "                                        Response Team (SORT) are to reduce the                            2,000\n",
            "                                       risk of opioid-related death of individuals\n",
            "                                                  who have recently experienced an                         1,500\n",
            "                                    overdose, contribute to an overall reduction\n",
            "                                        in overdose deaths through referrals and\n",
            "                                       care coordination with community-based                              1,000\n",
            "                                         organziations, and to provide support to\n",
            "                                         people who have survived any overdose.                             500\n",
            "\n",
            "\n",
            "                                                                                                              0   Calls Handled  Calls Including Calls That Include  Clients Who\n",
            "                                                                                                                     by SORT      an Overdose  Buprennorphrine StartsAccepted Harm\n",
            "                                                                                                                                                                  Reduction Supplies\n",
            "                                                                                                                                       Types of Calls\n",
            "\n",
            "\n",
            "                                                                                                                                               PUBLIC HEALTH                       267\n",
            ">> IDX: 2, Here are some facts extracted from the provided text:\n",
            "\n",
            "Input -> Carefully considered in formulating -> Mayor's proposed budget\n",
            "\n",
            "Key Participants\n",
            "•  Residents provide direction for and commentary\n",
            "   on budget priorities throughout the annual budget\n",
            "   process. Input from residents through virtual\n",
            "   feedback forms, stakeholder working groups\n",
            "   convened by the Mayor’s Office, public budget\n",
            "   hearings, and communication with elected officials\n",
            "   are all carefully considered in formulating the\n",
            "   Mayor’s proposed budget.\n",
            "•  City departments prioritize needs and present\n",
            "   balanced budgets for review and analysis by the\n",
            "   Mayor’s Office of Public Policy and Finance.\n",
            "•  The multi-year budget projections described in the\n",
            "   previous section as well as the Capital Planning\n",
            "   Committee (CPC) and Committee on Information\n",
            "   Technology (COIT) provide guidance to the Mayor’s\n",
            "   Office on both long-term fiscal trends as well as\n",
            "   citywide priorities for capital and IT investments.\n",
            "•  The Mayor, with the assistance of the Mayor’s\n",
            "   Office of Public Policy and Finance, prepares\n",
            "   and submits a balanced budget to the Board of\n",
            "   Supervisors on an annual basis.\n",
            "•  The Board of Supervisors is the City’s legislative\n",
            "   body and is responsible for amending and\n",
            "   approving the Mayor’s proposed budget. The\n",
            "   Board’s Budget and Legislative Analyst also\n",
            "   participates in reviews of city spending and\n",
            "   financial projections and makes recommendations\n",
            "   to the Board on budget modifications.\n",
            "•  The Controller is the City’s Chief Financial Officer\n",
            "   and is responsible for projecting available revenue\n",
            "   to fund city operations and investments in both\n",
            "   the near- and long-term. In addition, the City\n",
            "   Services Auditor Division of the Controller’s Office\n",
            "   is responsible for working with departments to\n",
            "   develop, improve, and evaluate their performance\n",
            "   standards.\n",
            "\n",
            "Calendar and Process\n",
            "Beginning in September and concluding in July, the\n",
            "annual budget cycle can be divided into three major\n",
            "stages (see calendar at the end of this section):\n",
            "\n",
            "50     BUDGET PROCESS\n",
            "\n",
            "\n",
            "\n",
            "•  Budget Preparation: budget development and\n",
            "   submission to the Board of Supervisors.\n",
            "•  Approval: budget review and enactment by the\n",
            "   Board of Supervisors and budget signing by the\n",
            "   Mayor\n",
            "•  Implementation: department execution and budget\n",
            "   adjustments.\n",
            "\n",
            "Budget Preparation\n",
            "Preliminary projections of Enterprise and General Fund\n",
            "revenues for the next fiscal year by the Controller’s\n",
            "Office and Mayor’s Office staff begin in September.\n",
            "Around this time, many departments begin budget\n",
            "planning to allow adequate input from oversight\n",
            "commissions and the public. In December, budget\n",
            "instructions are issued by the Mayor’s Office and\n",
            "the Controller’s Office with detailed guidance on the\n",
            "preparation of department budget requests. The\n",
            "instructions contain a financial outlook, policy goals,\n",
            "and guidelines as well as technical instructions.\n",
            "Three categories of budgets are prepared:\n",
            "•  General Fund department budgets: General Fund\n",
            "   departments rely in whole or in part on discretionary\n",
            "   revenue comprised primarily of local taxes such as\n",
            "   property, sales, payroll, and other taxes. The Mayor\n",
            "   introduces the proposed General Fund budget to\n",
            "   the Board of Supervisors on June 1.\n",
            "\n",
            "•  Enterprise department budgets: Enterprise\n",
            "   departments generate non-discretionary revenue\n",
            "   primarily from charges for services that are used\n",
            "   to support operations. The Mayor introduces\n",
            "   the proposed Enterprise budgets to the Board of\n",
            "   Supervisors on May 1.\n",
            "•  Capital and IT budgets: Capital and IT budget\n",
            "   requests are submitted to the CPC and COIT\n",
            "   for review. The recommendations for each\n",
            "   committee are taken into account during the budget\n",
            "   preparation process. The City’s Ten-Year Capital\n",
            "   Plan is brought before the Board of Supervisors and\n",
            "   Mayor for approval concurrently with the General\n",
            "   Fund and Enterprise department budgets.\n"
          ]
        }
      ],
      "source": [
        "nodes = kg_retriever.retrieve(\n",
        "    \"Give me all the programs that the mayor's budget includes\"\n",
        ")\n",
        "# nodes = kg_retriever.retrieve('san francisco')\n",
        "print(len(nodes))\n",
        "for idx, node in enumerate(nodes):\n",
        "    print(f\">> IDX: {idx}, {node.get_content()}\")"
      ]
    },
    {
      "cell_type": "markdown",
      "id": "1e0867c1-dd3d-4e84-93a3-30b4ec861024",
      "metadata": {
        "id": "1e0867c1-dd3d-4e84-93a3-30b4ec861024"
      },
      "source": [
        "## Build Baseline Vector Index\n",
        "\n",
        "We also build a \"baseline\" vector index. This follows the \"naive\" RAG pipeline approach of chunking and vector embedding. We use this as a comparison point."
      ]
    },
    {
      "cell_type": "code",
      "execution_count": null,
      "id": "18b6e528-e1af-41a0-9f04-909e24f1584b",
      "metadata": {
        "id": "18b6e528-e1af-41a0-9f04-909e24f1584b"
      },
      "outputs": [],
      "source": [
        "from llama_index.core import VectorStoreIndex\n",
        "from llama_index.core.query_engine import RetrieverQueryEngine\n",
        "\n",
        "base_index = VectorStoreIndex.from_documents(sub_docs, embed_model=embed_model)\n",
        "base_retriever = base_index.as_retriever(similarity_top_k=2)\n",
        "base_query_engine = RetrieverQueryEngine(base_retriever)"
      ]
    },
    {
      "cell_type": "code",
      "execution_count": null,
      "id": "573bef31-0194-4532-b0b1-ea3e84e3890c",
      "metadata": {
        "id": "573bef31-0194-4532-b0b1-ea3e84e3890c",
        "outputId": "21792dd0-067d-4125-c233-3360b11ba0b5"
      },
      "outputs": [
        {
          "name": "stdout",
          "output_type": "stream",
          "text": [
            "The mayor's budget includes the following programs:\n",
            "\n",
            "1. Ongoing programmatic support for all districts.\n",
            "2. One-time $5.0 million and $250,000 ongoing investment in priority community-based organization needs, including capital and infrastructure, and public safety.\n",
            "3. Support for the Mayor’s Office Administration, which advances Mayoral priorities through policy and budget development, communications, and advocacy.\n",
            "4. Financial Capability Services.\n",
            "5. Nonprofit Capacity Building.\n",
            "6. Eviction Prevention and Housing Stabilization Services.\n",
            "7. Community and Housing Place-Based Services.\n",
            "8. Civil Legal Services.\n",
            "9. Supportive Housing for Persons with HIV/AIDS.\n",
            "10. Community, Coalition, and Cultural District Building.\n",
            "11. Rental and Homeownership Counseling.\n",
            "12. Capital Projects.\n",
            "13. Housing Development Grants.\n",
            "14. Creation of permanently affordable housing.\n",
            "15. Foster healthy communities and neighborhoods.\n",
            "16. Improve access to affordable housing.\n",
            "17. Preserve affordable housing.\n",
            "18. Promote self-sufficiency and protect rights.\n",
            "19. Investments in capital and information technology, including urgent repairs and crucial projects across the park system and ADA needs.\n",
            "20. Replacement of critical City systems like the Computer Aided Dispatch system and the Property Tax System.\n",
            "21. Funding for the Sheriff’s Jail Management System, JUSTIS Data Center of Excellence, Infrastructure Modernization, and digital accessibility.\n",
            "22. New projects like the replacement of the legacy Legislative Management System and a new platform for the Empty Homes Tax.\n",
            "23. Overdose prevention, treatment, and outreach programs funded by settlements with opioid manufacturers and distributors.\n",
            "24. Savings targets in FY 2024-25 by reducing budgets for real estate expenses, software and technology licenses, and materials and supplies.\n",
            "25. Lower-than-planned investments in citywide equipment, IT, and capital spending.\n",
            "26. Use of reserves to help balance the budget while maintaining the bulk of the City’s reserves.\n"
          ]
        }
      ],
      "source": [
        "response = base_query_engine.query(\n",
        "    \"Give me all the programs that the mayor's budget includes\"\n",
        ")\n",
        "print(str(response))"
      ]
    },
    {
      "cell_type": "code",
      "execution_count": null,
      "id": "58dee948-240c-4523-9be1-4f770f549a7a",
      "metadata": {
        "id": "58dee948-240c-4523-9be1-4f770f549a7a"
      },
      "outputs": [],
      "source": [
        "print(len(response.source_nodes))\n",
        "for node in response.source_nodes:\n",
        "    print(\"---\")\n",
        "    print(node.get_content())"
      ]
    },
    {
      "cell_type": "markdown",
      "id": "cfabc20e-bc8b-4e80-80ef-cfdee07a6e10",
      "metadata": {
        "id": "cfabc20e-bc8b-4e80-80ef-cfdee07a6e10"
      },
      "source": [
        "## Build Custom Retriever\n",
        "\n",
        "Build joint retriever that combines vector and KG search."
      ]
    },
    {
      "cell_type": "code",
      "execution_count": null,
      "id": "ea75c09f-a0d1-48fe-b349-5e52ffe4df03",
      "metadata": {
        "id": "ea75c09f-a0d1-48fe-b349-5e52ffe4df03"
      },
      "outputs": [],
      "source": [
        "from llama_index.core.retrievers import BaseRetriever\n",
        "from llama_index.core.schema import NodeWithScore\n",
        "from typing import List\n",
        "\n",
        "\n",
        "class CustomRetriever(BaseRetriever):\n",
        "    \"\"\"Custom retriever that performs both KG vector search and direct vector search.\"\"\"\n",
        "\n",
        "    def __init__(self, kg_retriever, vector_retriever):\n",
        "        self._kg_retriever = kg_retriever\n",
        "        self._vector_retriever = vector_retriever\n",
        "\n",
        "    def _retrieve(self, query_bundle) -> List[NodeWithScore]:\n",
        "        \"\"\"Retrieve nodes given query.\"\"\"\n",
        "        kg_nodes = self._kg_retriever.retrieve(query_bundle)\n",
        "        vector_nodes = self._vector_retriever.retrieve(query_bundle)\n",
        "\n",
        "        unique_nodes = {n.node_id: n for n in kg_nodes}\n",
        "        unique_nodes.update({n.node_id: n for n in vector_nodes})\n",
        "        return list(unique_nodes.values())"
      ]
    },
    {
      "cell_type": "code",
      "execution_count": null,
      "id": "b3dae1e1-b3a3-4896-91e5-1de95ed32a0d",
      "metadata": {
        "id": "b3dae1e1-b3a3-4896-91e5-1de95ed32a0d"
      },
      "outputs": [],
      "source": [
        "custom_retriever = CustomRetriever(kg_retriever, base_retriever)"
      ]
    },
    {
      "cell_type": "code",
      "execution_count": null,
      "id": "c6c71c51-32a5-4420-917c-6d42b33c2c64",
      "metadata": {
        "id": "c6c71c51-32a5-4420-917c-6d42b33c2c64"
      },
      "outputs": [],
      "source": [
        "nodes = custom_retriever.retrieve(\n",
        "    \"Give me all the programs that the mayor's budget includes\"\n",
        ")\n",
        "# len(nodes)"
      ]
    },
    {
      "cell_type": "markdown",
      "id": "389f6d0c-12b2-45e3-916a-f521befd6b91",
      "metadata": {
        "id": "389f6d0c-12b2-45e3-916a-f521befd6b91"
      },
      "source": [
        "## Build Agent\n",
        "\n",
        "Now that we have the retriever, we can treat it as a RAG pipeline tool, and wrap it with an agent that can perform basic CoT reasoning and maintain conversation memory over time."
      ]
    },
    {
      "cell_type": "code",
      "execution_count": null,
      "id": "3f7e7854-5d4e-49b8-baaa-8ad1cba053a0",
      "metadata": {
        "id": "3f7e7854-5d4e-49b8-baaa-8ad1cba053a0"
      },
      "outputs": [],
      "source": [
        "from llama_index.core.tools import QueryEngineTool, ToolMetadata\n",
        "from llama_index.core.query_engine import RetrieverQueryEngine\n",
        "\n",
        "kg_query_engine = RetrieverQueryEngine(custom_retriever)\n",
        "kg_query_tool = QueryEngineTool(\n",
        "    query_engine=kg_query_engine,\n",
        "    metadata=ToolMetadata(\n",
        "        name=\"query_tool\",\n",
        "        description=\"Provides information about the 2023 SF Budget Report.\",\n",
        "    ),\n",
        ")"
      ]
    },
    {
      "cell_type": "code",
      "execution_count": null,
      "id": "ec7e8a74-2e9a-4e20-91a7-d997160af829",
      "metadata": {
        "id": "ec7e8a74-2e9a-4e20-91a7-d997160af829"
      },
      "outputs": [],
      "source": [
        "from llama_index.core.agent import FunctionCallingAgentWorker\n",
        "\n",
        "agent_worker = FunctionCallingAgentWorker.from_tools(\n",
        "    [kg_query_tool],\n",
        "    llm=llm,\n",
        "    verbose=True,\n",
        "    allow_parallel_tool_calls=False,\n",
        ")\n",
        "agent = agent_worker.as_agent()"
      ]
    },
    {
      "cell_type": "markdown",
      "id": "d567f1e8-621d-4107-9e8f-75051c900ff3",
      "metadata": {
        "id": "d567f1e8-621d-4107-9e8f-75051c900ff3"
      },
      "source": [
        "## Try out Queries\n",
        "\n",
        "Now that the agent is setup, let's try out some queries."
      ]
    },
    {
      "cell_type": "code",
      "execution_count": null,
      "id": "2d0b3074-92bf-4e0e-84da-8c29d2eb3ac0",
      "metadata": {
        "id": "2d0b3074-92bf-4e0e-84da-8c29d2eb3ac0",
        "outputId": "e451fa79-47a1-480d-b5c2-3d08a2fb706a"
      },
      "outputs": [
        {
          "name": "stdout",
          "output_type": "stream",
          "text": [
            "Added user message to memory: Give me all the programs that the mayor's budget includes\n",
            "=== Calling Function ===\n",
            "Calling function: query_tool with args: {\"input\": \"all programs included in the mayor's budget\"}\n",
            "=== Function Output ===\n",
            "The mayor's budget includes a variety of programs and investments:\n",
            "\n",
            "1. **CARE Court Implementation**: Funding for engagement and assessment staff, new City attorneys, increased capacity for treatment and housing, and outreach and educational efforts.\n",
            "2. **Laguna Honda Hospital**: Over $3.5 million for staffing in key areas, including education and training, patient care experience, medication management, and leadership.\n",
            "3. **Economic Recovery**: $24.4 million over two years for the Roadmap for Downtown San Francisco’s Future and economic recovery across the city.\n",
            "4. **Tax Relief and Incentives**: Changes to business taxes, including delaying tax increases for certain industries and offering discounts on office-based gross receipts tax for new offices.\n",
            "5. **Small Business Support**: $5 million in direct grants to help small businesses stabilize, scale, and adapt.\n",
            "6. **CalAIM Expansion**: Focus on expanded benefits for people at risk of long-term institutionalization and justice-system involved individuals.\n",
            "7. **Mental Health Services Act**: $32.0 million in FY 2022-23 and $17.7 million ongoing for mental health services, including a $15.0 million pilot for a talk therapy telehealth program.\n",
            "8. **Fee for Service Transition**: Expansion of the fee-for-service model to maximize revenues.\n",
            "9. **Street Overdose Response Team (SORT)**: Efforts to reduce opioid-related deaths and provide support to overdose survivors.\n",
            "10. **Capital and IT Investments**: $118 million over two years for urgent repairs and $53.9 million for vital technology projects.\n",
            "11. **Dream Keeper Initiative**: Continued investment in San Francisco’s Black communities, including support for small businesses, housing programs, and health services.\n",
            "12. **Climate Action Plan**: $2 million over two years to support staff at the Department of Environment.\n",
            "13. **Good Government Initiatives**: Funding for hiring and contracting reforms, ongoing and new IT projects, and capital maintenance and critical repairs.\n",
            "14. **Minimum Compensation Ordinance (MCO)**: Investments to increase wages for the lowest-paid workers providing City services.\n",
            "\n",
            "These programs reflect a broad range of priorities, including health, economic recovery, small business support, mental health services, and infrastructure improvements.\n",
            "=== LLM Response ===\n",
            "The mayor's budget includes a comprehensive array of programs and investments, covering various sectors and priorities:\n",
            "\n",
            "1. **CARE Court Implementation**: Funding for engagement and assessment staff, new City attorneys, increased capacity for treatment and housing, and outreach and educational efforts.\n",
            "2. **Laguna Honda Hospital**: Over $3.5 million for staffing in key areas, including education and training, patient care experience, medication management, and leadership.\n",
            "3. **Economic Recovery**: $24.4 million over two years for the Roadmap for Downtown San Francisco’s Future and economic recovery across the city.\n",
            "4. **Tax Relief and Incentives**: Changes to business taxes, including delaying tax increases for certain industries and offering discounts on office-based gross receipts tax for new offices.\n",
            "5. **Small Business Support**: $5 million in direct grants to help small businesses stabilize, scale, and adapt.\n",
            "6. **CalAIM Expansion**: Focus on expanded benefits for people at risk of long-term institutionalization and justice-system involved individuals.\n",
            "7. **Mental Health Services Act**: $32.0 million in FY 2022-23 and $17.7 million ongoing for mental health services, including a $15.0 million pilot for a talk therapy telehealth program.\n",
            "8. **Fee for Service Transition**: Expansion of the fee-for-service model to maximize revenues.\n",
            "9. **Street Overdose Response Team (SORT)**: Efforts to reduce opioid-related deaths and provide support to overdose survivors.\n",
            "10. **Capital and IT Investments**: $118 million over two years for urgent repairs and $53.9 million for vital technology projects.\n",
            "11. **Dream Keeper Initiative**: Continued investment in San Francisco’s Black communities, including support for small businesses, housing programs, and health services.\n",
            "12. **Climate Action Plan**: $2 million over two years to support staff at the Department of Environment.\n",
            "13. **Good Government Initiatives**: Funding for hiring and contracting reforms, ongoing and new IT projects, and capital maintenance and critical repairs.\n",
            "14. **Minimum Compensation Ordinance (MCO)**: Investments to increase wages for the lowest-paid workers providing City services.\n",
            "\n",
            "These programs reflect a broad range of priorities, including health, economic recovery, small business support, mental health services, and infrastructure improvements.\n"
          ]
        }
      ],
      "source": [
        "response = agent.chat(\"Give me all the programs that the mayor's budget includes\")"
      ]
    },
    {
      "cell_type": "code",
      "execution_count": null,
      "id": "f1d0c63e-817f-4615-a237-82d728917e4e",
      "metadata": {
        "id": "f1d0c63e-817f-4615-a237-82d728917e4e",
        "outputId": "1a3f6849-45fc-40f2-fe97-d90d2e02557f"
      },
      "outputs": [
        {
          "name": "stdout",
          "output_type": "stream",
          "text": [
            "The mayor's budget includes a comprehensive array of programs and investments, covering various sectors and priorities:\n",
            "\n",
            "1. **CARE Court Implementation**: Funding for engagement and assessment staff, new City attorneys, increased capacity for treatment and housing, and outreach and educational efforts.\n",
            "2. **Laguna Honda Hospital**: Over $3.5 million for staffing in key areas, including education and training, patient care experience, medication management, and leadership.\n",
            "3. **Economic Recovery**: $24.4 million over two years for the Roadmap for Downtown San Francisco’s Future and economic recovery across the city.\n",
            "4. **Tax Relief and Incentives**: Changes to business taxes, including delaying tax increases for certain industries and offering discounts on office-based gross receipts tax for new offices.\n",
            "5. **Small Business Support**: $5 million in direct grants to help small businesses stabilize, scale, and adapt.\n",
            "6. **CalAIM Expansion**: Focus on expanded benefits for people at risk of long-term institutionalization and justice-system involved individuals.\n",
            "7. **Mental Health Services Act**: $32.0 million in FY 2022-23 and $17.7 million ongoing for mental health services, including a $15.0 million pilot for a talk therapy telehealth program.\n",
            "8. **Fee for Service Transition**: Expansion of the fee-for-service model to maximize revenues.\n",
            "9. **Street Overdose Response Team (SORT)**: Efforts to reduce opioid-related deaths and provide support to overdose survivors.\n",
            "10. **Capital and IT Investments**: $118 million over two years for urgent repairs and $53.9 million for vital technology projects.\n",
            "11. **Dream Keeper Initiative**: Continued investment in San Francisco’s Black communities, including support for small businesses, housing programs, and health services.\n",
            "12. **Climate Action Plan**: $2 million over two years to support staff at the Department of Environment.\n",
            "13. **Good Government Initiatives**: Funding for hiring and contracting reforms, ongoing and new IT projects, and capital maintenance and critical repairs.\n",
            "14. **Minimum Compensation Ordinance (MCO)**: Investments to increase wages for the lowest-paid workers providing City services.\n",
            "\n",
            "These programs reflect a broad range of priorities, including health, economic recovery, small business support, mental health services, and infrastructure improvements.\n"
          ]
        }
      ],
      "source": [
        "print(str(response))"
      ]
    },
    {
      "cell_type": "code",
      "execution_count": null,
      "id": "a7cb264f-70c8-4d02-a11b-2c8b8990af76",
      "metadata": {
        "id": "a7cb264f-70c8-4d02-a11b-2c8b8990af76",
        "outputId": "a5a4cd34-55bc-40ba-f936-c92a9de9d7de"
      },
      "outputs": [
        {
          "name": "stdout",
          "output_type": "stream",
          "text": [
            "Added user message to memory: Compare the budget for DPA Police Accountabilty from 2022-2023 to 2023-2024\n",
            "=== Calling Function ===\n",
            "Calling function: query_tool with args: {\"input\": \"DPA Police Accountability budget for 2022-2023\"}\n",
            "=== Function Output ===\n",
            "The DPA Police Accountability budget for 2022-2023 is $9,776,177.\n",
            "=== Calling Function ===\n",
            "Calling function: query_tool with args: {\"input\": \"DPA Police Accountability budget for 2023-2024\"}\n",
            "=== Function Output ===\n",
            "The budget for the Department of Police Accountability for the fiscal year 2023-2024 is $9,990,353.\n",
            "=== LLM Response ===\n",
            "The budget for the Department of Police Accountability (DPA) has increased from $9,776,177 in the fiscal year 2022-2023 to $9,990,353 in the fiscal year 2023-2024. This represents an increase of $214,176.\n",
            "The budget for the Department of Police Accountability (DPA) has increased from $9,776,177 in the fiscal year 2022-2023 to $9,990,353 in the fiscal year 2023-2024. This represents an increase of $214,176.\n"
          ]
        }
      ],
      "source": [
        "agent.reset()\n",
        "response = agent.chat(\n",
        "    \"Compare the budget for DPA Police Accountabilty from 2022-2023 to 2023-2024\"\n",
        ")\n",
        "print(str(response))"
      ]
    },
    {
      "cell_type": "code",
      "execution_count": null,
      "id": "4ece9079-da9c-4573-b249-2cab9d71fddf",
      "metadata": {
        "id": "4ece9079-da9c-4573-b249-2cab9d71fddf",
        "outputId": "87385dde-b942-4378-da52-3082593075b8"
      },
      "outputs": [
        {
          "name": "stdout",
          "output_type": "stream",
          "text": [
            "Here are some facts extracted from the provided text:\n",
            "\n",
            "Dpa department of police accountability -> Has -> Total funded positions\n",
            "\n",
            "ORGANIZATIONAL STRUCTURE: POLICE ACCOUNTABILITY\n",
            "\n",
            "\n",
            "                                                                       Executive Director\n",
            "\n",
            "\n",
            "                                   Chief of Staff                                                                           Chief of Investigations\n",
            "\n",
            "\n",
            "          Audit                     Operations                       Legal                                        Investigations                  Mediation\n",
            "\n",
            "\n",
            "                                                       Policy                     SB 1421\n",
            "\n",
            "\n",
            "Department Total Budget Historical Comparison (Mayor's Proposed)                                                                      Budget Year 2023-2024 and 2024-2025\n",
            "\n",
            "\n",
            "                                           Department Total Budget Historical Comparison\n",
            " DPA Department Of Police AccountabilityTOTAL BUDGET – HISTORICAL COMPARISON2022-2023      2023-2024              CHANGE             2024-2025          CHANGE\n",
            "     FUNDED POSITIONS                                                  ORIGINAL            PROPOSED                 FROM             PROPOSED             FROM\n",
            "                                                                     2022-2023BUDGET       2023-2024BUDGETChanges from2022-2023      2024-2025BUDGETChanges from2023-2024\n",
            "Funded Positions                                               Original Budget     Proposed Budget             2022-2023     Proposed Budget              2023-2024\n",
            "  Total Funded                                                            45.17                 41.95               (3.22)                41.85               (0.10)\n",
            "  Non-Operating Positions (CAP/Other)                                     (2.00)                (1.00)                1.00                (1.00)\n",
            "  Net Operating Positions                                                 43.17                 40.95               (2.22)                40.85               (0.10)\n",
            "\n",
            "\n",
            "Sources\n",
            "  Expenditure Recovery                                                 128,000               332,795              204,795               332,795\n",
            "\n",
            "\n",
            "  General Fund                                                       9,648,177             9,657,558                9,381             9,488,396           (169,162)\n",
            "  Sources Total                                                      9,776,177             9,990,353              214,176             9,821,191           (169,162)\n",
            "\n",
            "\n",
            "Uses - Operating Expenditures\n",
            "  Salaries                                                           6,003,750             5,930,159              (73,591)            6,158,974             228,815\n",
            "  Mandatory Fringe Benefits                                          2,257,157             2,086,784            (170,373)             2,143,678              56,894\n",
            "  Non-Personnel Services                                               324,336               334,336               10,000               333,742                (594)\n",
            "  Materials & Supplies                                                   34,918                34,918                                    31,426              (3,492)\n",
            "  Programmatic Projects                                                100,000               500,000              400,000               100,000           (400,000)\n",
            "  Services Of Other Depts                                            1,056,016             1,104,156               48,140             1,053,371             (50,785)\n",
            "  Uses Total                                                         9,776,177             9,990,353              214,176             9,821,191           (169,162)\n",
            "\n",
            "\n",
            "Uses - By Division Description\n",
            "  DPA Police Accountabilty                                           9,776,177             9,990,353              214,176             9,821,191           (169,162)\n",
            "  Uses by Division Total                                             9,776,177             9,990,353              214,176             9,821,191           (169,162)\n",
            "\n",
            "\n",
            "                                                                                                        POLICE ACCOUNTABILITY                              249\n"
          ]
        }
      ],
      "source": [
        "print(str(response.source_nodes[0].get_content()))"
      ]
    }
  ],
  "metadata": {
    "colab": {
      "provenance": []
    },
    "kernelspec": {
      "display_name": ".venv",
      "language": "python",
      "name": "python3"
    },
    "language_info": {
      "codemirror_mode": {
        "name": "ipython",
        "version": 3
      },
      "file_extension": ".py",
      "mimetype": "text/x-python",
      "name": "python",
      "nbconvert_exporter": "python",
      "pygments_lexer": "ipython3",
      "version": "3.11.5"
    }
  },
  "nbformat": 4,
  "nbformat_minor": 5
}
